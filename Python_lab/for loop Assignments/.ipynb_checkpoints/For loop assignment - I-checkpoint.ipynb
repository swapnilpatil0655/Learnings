{
 "cells": [
  {
   "cell_type": "code",
   "execution_count": 2,
   "id": "b54064ca",
   "metadata": {},
   "outputs": [
    {
     "name": "stdout",
     "output_type": "stream",
     "text": [
      "0\n",
      "1\n",
      "2\n",
      "3\n",
      "4\n",
      "5\n",
      "6\n",
      "7\n",
      "8\n",
      "9\n",
      "10\n",
      "11\n",
      "12\n",
      "13\n",
      "14\n",
      "15\n",
      "16\n",
      "17\n",
      "18\n",
      "19\n",
      "20\n",
      "21\n",
      "22\n",
      "23\n",
      "24\n",
      "25\n",
      "50\n",
      "51\n",
      "52\n",
      "53\n",
      "54\n",
      "55\n",
      "56\n",
      "57\n",
      "58\n",
      "59\n",
      "60\n",
      "61\n",
      "62\n",
      "63\n",
      "64\n",
      "65\n",
      "66\n",
      "67\n",
      "68\n",
      "69\n",
      "70\n",
      "71\n",
      "72\n",
      "73\n",
      "74\n",
      "75\n",
      "76\n",
      "77\n",
      "78\n",
      "79\n",
      "80\n",
      "81\n",
      "82\n",
      "83\n",
      "84\n",
      "85\n",
      "86\n",
      "87\n",
      "88\n",
      "89\n",
      "90\n",
      "91\n",
      "92\n",
      "93\n",
      "94\n",
      "95\n",
      "96\n",
      "97\n",
      "98\n",
      "99\n",
      "100\n"
     ]
    }
   ],
   "source": [
    "#Write a code to print a value 0-25 and 50-100 \n",
    "for i in range (0,101):\n",
    "    if (i<26 or i>49):\n",
    "        print(i)"
   ]
  },
  {
   "cell_type": "code",
   "execution_count": 6,
   "id": "cb2b60a3",
   "metadata": {},
   "outputs": [
    {
     "name": "stdout",
     "output_type": "stream",
     "text": [
      "6 5 4 \n",
      "3 2 1 \n"
     ]
    }
   ],
   "source": [
    "#Write a code to print the pattern \n",
    "x=6\n",
    "for i in range (0,2):\n",
    "    for j in range(0,3):\n",
    "        print(x,end=\" \")\n",
    "        x=x-1\n",
    "    print()"
   ]
  },
  {
   "cell_type": "code",
   "execution_count": 7,
   "id": "ee387b86",
   "metadata": {},
   "outputs": [
    {
     "name": "stdout",
     "output_type": "stream",
     "text": [
      "0 0 \n",
      "1 1 \n",
      "2 2 \n",
      "3 3 \n",
      "4 4 \n",
      "5 5 \n",
      "6 6 \n"
     ]
    }
   ],
   "source": [
    "#Q3.Write a code to print the pattern \n",
    "for i in range(0,7):\n",
    "    for j in range(0,2):\n",
    "        print(i,end=\" \")\n",
    "    print()\n",
    "    "
   ]
  },
  {
   "cell_type": "code",
   "execution_count": 13,
   "id": "4215b673",
   "metadata": {},
   "outputs": [
    {
     "name": "stdout",
     "output_type": "stream",
     "text": [
      "+ \n",
      "+ + \n",
      "+ + + \n",
      "  0\n",
      "  00\n",
      "  000\n"
     ]
    }
   ],
   "source": [
    "#Q4. Write a code to draw the following pattern using\n",
    "for i in range(1,7):\n",
    "    if(i<4):\n",
    "        for j in range(0,i):\n",
    "            print(\"+\",end=\" \")\n",
    "    else:\n",
    "        for k in range (0,1):\n",
    "            print(\" \",end=\" \")\n",
    "        for l in range(3,i):\n",
    "            print(0,end=\"\")\n",
    "    print()"
   ]
  },
  {
   "cell_type": "code",
   "execution_count": 22,
   "id": "802fb799",
   "metadata": {},
   "outputs": [
    {
     "name": "stdout",
     "output_type": "stream",
     "text": [
      "0 0 0 + \n",
      "0 0 + + \n",
      "0 + + + \n",
      "+ + + + \n"
     ]
    }
   ],
   "source": [
    "#Q5.Write a code to draw the below pattern.\n",
    "for i in range(1,5):\n",
    "    for j in range(i,4):\n",
    "        print(0,end=\" \")\n",
    "    for k in range(0,i):\n",
    "        print(\"+\",end=\" \")\n",
    "    print()"
   ]
  },
  {
   "cell_type": "code",
   "execution_count": 45,
   "id": "72e6af05",
   "metadata": {},
   "outputs": [
    {
     "name": "stdout",
     "output_type": "stream",
     "text": [
      "0 \n",
      "0 0 \n",
      "0 0 0 \n",
      "0 0 0 0 \n",
      "     +\n",
      "    + +\n",
      "   + + +\n",
      "  + + + +\n"
     ]
    }
   ],
   "source": [
    "#Q6.Write a code to print the following pattern using \n",
    "for i in range(1,9):\n",
    "    if(i<5):\n",
    "        for j in range (0,i):\n",
    "            print(0,end=\" \")\n",
    "    else:\n",
    "        for k in range(i,9):\n",
    "            print(\" \",end=\"\")\n",
    "        for l in range(4,i):\n",
    "            print(\" +\",end=\"\")\n",
    "        \n",
    "    print()"
   ]
  },
  {
   "cell_type": "code",
   "execution_count": 57,
   "id": "897d83ea",
   "metadata": {},
   "outputs": [
    {
     "name": "stdout",
     "output_type": "stream",
     "text": [
      "Write a word:boffins\n",
      "sniffob \n"
     ]
    }
   ],
   "source": [
    "# Q7. Write a program that accepts a word form the user and revers it #\n",
    "s=input(\"Write a word:\")\n",
    "x=\" \"\n",
    "for i in s:\n",
    "    x=i+x\n",
    "print(x)\n"
   ]
  },
  {
   "cell_type": "code",
   "execution_count": 4,
   "id": "9bc47409",
   "metadata": {},
   "outputs": [
    {
     "name": "stdout",
     "output_type": "stream",
     "text": [
      "1505\n",
      "1540\n",
      "1575\n",
      "1610\n",
      "1645\n",
      "1680\n",
      "1715\n",
      "1750\n",
      "1785\n",
      "1820\n",
      "1855\n",
      "1890\n",
      "1925\n",
      "1960\n",
      "1995\n",
      "2030\n",
      "2065\n",
      "2100\n",
      "2135\n",
      "2170\n",
      "2205\n",
      "2240\n",
      "2275\n",
      "2310\n",
      "2345\n",
      "2380\n",
      "2415\n",
      "2450\n",
      "2485\n",
      "2520\n",
      "2555\n",
      "2590\n",
      "2625\n",
      "2660\n",
      "2695\n"
     ]
    }
   ],
   "source": [
    "# Q8) write a program to find those numbers which are divisible by 7 and multiple of 5, between 1500 to 2700 ? \n",
    "for i in range (1500,2701):\n",
    "    if (i%7==0 and i%5==0):\n",
    "        print(i)"
   ]
  },
  {
   "cell_type": "code",
   "execution_count": 29,
   "id": "b08e8a1b",
   "metadata": {},
   "outputs": [
    {
     "name": "stdout",
     "output_type": "stream",
     "text": [
      "Enter the number :11\n",
      "Incorrect Number\n",
      "Enter the number :12\n",
      "Incorrect Number\n",
      "Enter the number :13\n",
      "Incorrect Number\n"
     ]
    }
   ],
   "source": [
    "# Q9) write a program to enter number between 5 to 10 until the correct number?\n",
    "for i in range(0,3):\n",
    "    s=int(input(\"Enter the number :\"))\n",
    "    if (s>=5 and s<=10):\n",
    "        print (\"Correct Number\")\n",
    "    else:\n",
    "        print(\"Incorrect Number\")\n",
    "\n",
    "    "
   ]
  },
  {
   "cell_type": "code",
   "execution_count": 12,
   "id": "d7cfa901",
   "metadata": {},
   "outputs": [
    {
     "name": "stdout",
     "output_type": "stream",
     "text": [
      "Enter the No.5\n",
      "Correct no.\n"
     ]
    }
   ],
   "source": [
    "flag=True\n",
    "count=1\n",
    "while flag:\n",
    "    s=int(input(\"Enter the No.\"))\n",
    "    if(s>=5 and s<=10):\n",
    "        print(\"Correct no.\")\n",
    "        flag=False\n",
    "    else:\n",
    "        if (count==3):\n",
    "            print(\"Limit exceed Try again\")\n",
    "            flag=False\n",
    "        else:\n",
    "            print(\"Incorrect no.\")\n",
    "            count=count+1\n",
    "    "
   ]
  },
  {
   "cell_type": "code",
   "execution_count": 2,
   "id": "8e10183e",
   "metadata": {},
   "outputs": [
    {
     "name": "stdout",
     "output_type": "stream",
     "text": [
      "Enter celsius :37\n",
      "In fahrenheit : 98.60000000000001\n"
     ]
    }
   ],
   "source": [
    "#Q10) write a program to convert temperature to Celsius and Fahrenheit ? pattern 1\n",
    "c=int(input(\"Enter celsius :\"))\n",
    "f=0\n",
    "f=c*(9/5)+32\n",
    "print(\"In fahrenheit :\",f)"
   ]
  },
  {
   "cell_type": "code",
   "execution_count": 56,
   "id": "c3757eef",
   "metadata": {},
   "outputs": [
    {
     "name": "stdout",
     "output_type": "stream",
     "text": [
      "Enter 1 to convert Celsious to Fahrenheit\n",
      "Enter 2 to convert Fahrenheit to Celsious \n",
      "1\n",
      "Enter celsious :55\n",
      "In fahrenheit : 131.0\n"
     ]
    }
   ],
   "source": [
    "#Q10) write a program to convert temperature to Celsius and Fahrenheit ? pattern 2\n",
    "print(\"Enter 1 to convert Celsious to Fahrenheit\")\n",
    "print(\"Enter 2 to convert Fahrenheit to Celsious \")\n",
    "x=int(input())\n",
    "if (x==1):\n",
    "    f=0\n",
    "    c=int(input(\"Enter celsious :\"))\n",
    "    f=c*(9/5)+32\n",
    "    print(\"In fahrenheit :\",f)\n",
    "elif (x==2):\n",
    "    c=0\n",
    "    f=int(input(\"Enter fahrenheit :\"))\n",
    "    c=(f-32)*5/9\n",
    "    print(\"In celsious\",c)\n",
    "else:\n",
    "    print(\"Please enter proper value \")"
   ]
  },
  {
   "cell_type": "code",
   "execution_count": 43,
   "id": "5d5d93d2",
   "metadata": {},
   "outputs": [
    {
     "name": "stdout",
     "output_type": "stream",
     "text": [
      "              + \n",
      "            + + \n",
      "          + + + \n",
      "0 0 0 0 + + + + \n",
      "0 0 0 \n",
      "0 0 \n",
      "0 \n"
     ]
    }
   ],
   "source": [
    "#Q11) write a code to draw a pattern ?\n",
    "for i in range (1,8):\n",
    "    if(i<=3):\n",
    "        for j in range(i,8):\n",
    "            print(\" \",end=\" \")\n",
    "        for k in range(0,i):\n",
    "            print(\"+\",end=\" \")\n",
    "    elif (i==4):\n",
    "        for l in range(0,4):\n",
    "            print(0,end=\" \")\n",
    "        for m in range(0,4):\n",
    "            print(\"+\",end=\" \")\n",
    "    else:\n",
    "        for n in range(i,8):\n",
    "            print(0,end=\" \")\n",
    "       \n",
    "    print()\n"
   ]
  },
  {
   "cell_type": "code",
   "execution_count": 1,
   "id": "84cde605",
   "metadata": {},
   "outputs": [
    {
     "name": "stdout",
     "output_type": "stream",
     "text": [
      "Enter no. 1 to 12 :2\n",
      "Month :February\n",
      "Days :28 days in common year\n",
      "     :29 days in leap year\n"
     ]
    }
   ],
   "source": [
    "# Q12) Write a program to accept a number from 1 to 12 and display name of the month \n",
    "# and days in that month like 1 for January and number of days 31 and so on...\n",
    "x=int(input(\"Enter no. 1 to 12 :\"))\n",
    "if x==1 :\n",
    "    print(\"Month :January\")\n",
    "    print(\"Days : 31 days\")\n",
    "elif x==2 :\n",
    "    print(\"Month :February\")\n",
    "    print(\"Days :28 days in common year\")\n",
    "    print(\"     :29 days in leap year\")\n",
    "elif x==3 :\n",
    "    print(\"Month :March\")\n",
    "    print(\"Days :31 days\")\n",
    "elif x==4 :\n",
    "    print(\"Month :April\")\n",
    "    print(\"Days :30 days\")\n",
    "elif x==5 :\n",
    "    print(\"Month :May\")\n",
    "    print(\"Days :31 days\")\n",
    "elif x==6 :\n",
    "    print(\"Month :June\")\n",
    "    print(\"Days :30 days\")\n",
    "elif x==7 :\n",
    "    print(\"Month :July\")\n",
    "    print(\"Days 31 days\")\n",
    "elif x==8 :\n",
    "    print(\"Month :August\")\n",
    "    print(\"Days :31 days\")\n",
    "elif x==9 :\n",
    "    print(\"Month :September\")\n",
    "    print(\"Days :30 days\")\n",
    "elif x==10 :\n",
    "    print(\"Month :October\")\n",
    "    print(\"Days :31 days\")\n",
    "elif x==11 :\n",
    "    print(\"Month :November\")\n",
    "    print(\"Days :30 days\")\n",
    "elif x==12 :\n",
    "    print(\"Month :December\")\n",
    "    print(\"Days :31 days\")\n",
    "else :\n",
    "    print(\"Please enter correct no.\")"
   ]
  },
  {
   "cell_type": "code",
   "execution_count": 28,
   "id": "1bc6a415",
   "metadata": {},
   "outputs": [
    {
     "name": "stdout",
     "output_type": "stream",
     "text": [
      "Enter city :Delhi\n",
      "Monument : Red Fort\n"
     ]
    }
   ],
   "source": [
    "# Q.12 Accept any city from the user and display monument of that city.\n",
    "#                  City                                 Monument\n",
    "#                  Delhi                               Red Fort\n",
    "#                  Agra                                Taj Mahal\n",
    "#                  Jaipur                              Jal Mahal\n",
    "\n",
    "x=input(\"Enter city :\")\n",
    "if x==\"Delhi\":\n",
    "    print(\"Monument : Red Fort\")\n",
    "elif x==\"Agra\":\n",
    "    print(\"Monument : Taj Mahal\")\n",
    "elif x==\"Jaipur\":\n",
    "    print(\"Monument : Jal Mahal\")\n"
   ]
  },
  {
   "cell_type": "code",
   "execution_count": 39,
   "id": "cb4933f0",
   "metadata": {},
   "outputs": [
    {
     "name": "stdout",
     "output_type": "stream",
     "text": [
      "Enter a number :098\n",
      "A entered number is not three digit number\n"
     ]
    }
   ],
   "source": [
    "# Q13) Write a program to check whether a number entered is three digit number or not. Wrong\n",
    "x=int(input(\"Enter a number :\"))\n",
    "if(x>=100 and x<=999):\n",
    "    print(\"A entered number is three digit number\")\n",
    "else:\n",
    "    print(\"A entered number is not three digit number\")"
   ]
  },
  {
   "cell_type": "code",
   "execution_count": 31,
   "id": "6d81b5d4",
   "metadata": {},
   "outputs": [
    {
     "name": "stdout",
     "output_type": "stream",
     "text": [
      "Enter Age :17\n",
      "Not eligible for voting\n"
     ]
    }
   ],
   "source": [
    "# Q14) Write a program to check whether a person is eligible for voting or not.(voting age >=18)\n",
    "x=int(input(\"Enter Age :\"))\n",
    "if(x>=18):\n",
    "    print(\"Eligible for voting\")\n",
    "else:\n",
    "    print(\"Not eligible for voting\")"
   ]
  },
  {
   "cell_type": "code",
   "execution_count": 34,
   "id": "b08d120c",
   "metadata": {},
   "outputs": [
    {
     "name": "stdout",
     "output_type": "stream",
     "text": [
      "Enter Age :60\n",
      "A person is senior citizen\n"
     ]
    }
   ],
   "source": [
    "# Q15)  Write a program to check whether a person is senior citizen or not.\n",
    "x=int(input(\"Enter Age :\"))\n",
    "if(x>=55):\n",
    "    print(\"A person is senior citizen\")\n",
    "else:\n",
    "    print(\"A person is not senior citizen\")"
   ]
  }
 ],
 "metadata": {
  "kernelspec": {
   "display_name": "Python 3 (ipykernel)",
   "language": "python",
   "name": "python3"
  },
  "language_info": {
   "codemirror_mode": {
    "name": "ipython",
    "version": 3
   },
   "file_extension": ".py",
   "mimetype": "text/x-python",
   "name": "python",
   "nbconvert_exporter": "python",
   "pygments_lexer": "ipython3",
   "version": "3.9.13"
  }
 },
 "nbformat": 4,
 "nbformat_minor": 5
}
