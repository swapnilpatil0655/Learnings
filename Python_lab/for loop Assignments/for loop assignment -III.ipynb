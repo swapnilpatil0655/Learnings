{
 "cells": [
  {
   "cell_type": "code",
   "execution_count": 1,
   "id": "24b48ef8",
   "metadata": {},
   "outputs": [
    {
     "name": "stdout",
     "output_type": "stream",
     "text": [
      "1 \n",
      "1 2 1 \n",
      "1 2 3 2 1 \n",
      "1 2 3 4 3 2 1 \n",
      "1 2 3 4 5 4 3 2 1 \n"
     ]
    }
   ],
   "source": [
    "#Q1\n",
    "count=0\n",
    "for i in range(2,7):\n",
    "    for j in range(1,i):\n",
    "        print(j,end=\" \")\n",
    "        \n",
    "    x=count\n",
    "    for k in range(2,i):\n",
    "        print(x,end=\" \")\n",
    "        x=x-1\n",
    "        \n",
    "    count=count+1\n",
    "    print()"
   ]
  },
  {
   "cell_type": "code",
   "execution_count": 3,
   "id": "48c1ceb6",
   "metadata": {},
   "outputs": [
    {
     "name": "stdout",
     "output_type": "stream",
     "text": [
      "1 \n",
      "1 2 1 \n",
      "1 2 3 2 1 \n",
      "1 2 3 4 3 2 1 \n",
      "1 2 3 4 5 4 3 2 1 \n"
     ]
    }
   ],
   "source": [
    "#Q1 pattern 2\n",
    "s=1\n",
    "for i in range(1,6):\n",
    "    v=1\n",
    "    for j in range(0,s):\n",
    "        if(j<i):\n",
    "            print(v,end=\" \")\n",
    "            v=v+1\n",
    "        else:\n",
    "            v=v-2\n",
    "            print(v,end=\" \")\n",
    "            v=v+1\n",
    "    s=s+2\n",
    "    print()"
   ]
  },
  {
   "cell_type": "code",
   "execution_count": 53,
   "id": "704b9c76",
   "metadata": {},
   "outputs": [
    {
     "name": "stdout",
     "output_type": "stream",
     "text": [
      "54321\n",
      "4321\n",
      "321\n",
      "21\n",
      "1\n"
     ]
    }
   ],
   "source": [
    "#Q2\n",
    "count=5\n",
    "for i in range(1,6):\n",
    "    x=count\n",
    "    for j in range(i,6):\n",
    "        print(x,end=\"\")\n",
    "        x=x-1\n",
    "        \n",
    "    count=count-1\n",
    "    print()"
   ]
  },
  {
   "cell_type": "code",
   "execution_count": 59,
   "id": "ff449349",
   "metadata": {},
   "outputs": [
    {
     "name": "stdout",
     "output_type": "stream",
     "text": [
      "0 \n",
      "0 1 \n",
      "0 2 4 \n",
      "0 3 6 9 \n",
      "0 4 8 12 16 \n",
      "0 5 10 15 20 25 \n",
      "0 6 12 18 24 30 36 \n"
     ]
    }
   ],
   "source": [
    "#Q3\n",
    "s=0\n",
    "\n",
    "for i in range (1,8):\n",
    "    n=0\n",
    "    for j in range (0,i):\n",
    "        print(n,end=\" \")\n",
    "        n=n+s\n",
    "    \n",
    "    print()\n",
    "    s=s+1"
   ]
  },
  {
   "cell_type": "code",
   "execution_count": 62,
   "id": "55035a5f",
   "metadata": {},
   "outputs": [
    {
     "name": "stdout",
     "output_type": "stream",
     "text": [
      "1 2 3 4 5 \n",
      "2 3 4 5 \n",
      "3 4 5 \n",
      "4 5 \n",
      "5 \n"
     ]
    }
   ],
   "source": [
    "#Q4\n",
    "for i in range (1,6):\n",
    "    x=i\n",
    "    for j in range(i,6):\n",
    "        print(x,end=\" \")\n",
    "        x=x+1\n",
    "    print()\n",
    "        "
   ]
  },
  {
   "cell_type": "code",
   "execution_count": 101,
   "id": "ebf07b3c",
   "metadata": {},
   "outputs": [
    {
     "name": "stdout",
     "output_type": "stream",
     "text": [
      "5 4 3 2 1 1 2 3 4 5 \n",
      " 5 4 3 2   2 3 4 5 \n",
      "  5 4 3     3 4 5 \n",
      "   5 4       4 5 \n",
      "    5         5 \n"
     ]
    }
   ],
   "source": [
    "#Q.5\n",
    "count=1\n",
    "for i in range(1,6):\n",
    "    for j in range(1,i):\n",
    "        print(\"\",end=\" \")\n",
    "    x=5\n",
    "    for k in range(i,6):\n",
    "        print(x,end=\" \")\n",
    "        x=x-1\n",
    "    \n",
    "    for l in range(1,i):\n",
    "        print(\" \",end=\" \")\n",
    "    \n",
    "    y=count\n",
    "    for m in range (i,6):\n",
    "        print(y,end=\" \")\n",
    "        y=y+1\n",
    "        \n",
    "    print()\n",
    "    count=count+1"
   ]
  },
  {
   "cell_type": "code",
   "execution_count": 104,
   "id": "3ddd037a",
   "metadata": {},
   "outputs": [
    {
     "name": "stdout",
     "output_type": "stream",
     "text": [
      "1\n",
      "33\n",
      "555\n",
      "7777\n",
      "99999\n"
     ]
    }
   ],
   "source": [
    "#Q.6\n",
    "x=1\n",
    "for i in range(1,6):\n",
    "    \n",
    "    for j in range(0,i):\n",
    "        print(x,end=\"\")\n",
    "    print()    \n",
    "    x=x+2"
   ]
  },
  {
   "cell_type": "code",
   "execution_count": 112,
   "id": "82ff89d7",
   "metadata": {},
   "outputs": [
    {
     "name": "stdout",
     "output_type": "stream",
     "text": [
      "12345\n",
      "22345\n",
      "33345\n",
      "44445\n",
      "55555\n"
     ]
    }
   ],
   "source": [
    "#Q.7\n",
    "x=2\n",
    "for i in range(1,6):\n",
    "    for j in range(0,i):\n",
    "        print(i,end=\"\")\n",
    "    s=x\n",
    "    for k in range(i,5):\n",
    "        print(s,end=\"\")\n",
    "        s=s+1\n",
    "    x=x+1\n",
    "    print()"
   ]
  },
  {
   "cell_type": "code",
   "execution_count": 117,
   "id": "209c8f1b",
   "metadata": {},
   "outputs": [
    {
     "name": "stdout",
     "output_type": "stream",
     "text": [
      "     1 \n",
      "    1 2 \n",
      "   1 2 3 \n",
      "  1 2 3 4 \n",
      " 1 2 3 4 5 \n"
     ]
    }
   ],
   "source": [
    "#Q.8\n",
    "for i in range(2,7):\n",
    "    for j in range(i,7):\n",
    "        print(\" \",end=\"\")\n",
    "    for k in range(1,i):\n",
    "        print(k,end=\" \")\n",
    "    print()"
   ]
  },
  {
   "cell_type": "code",
   "execution_count": 147,
   "id": "12d27d5f",
   "metadata": {},
   "outputs": [
    {
     "name": "stdout",
     "output_type": "stream",
     "text": [
      "1 \n",
      "1 2 0 \n",
      "1 2 4 0 0 \n",
      "1 2 4 8 0 0 0 \n",
      "1 2 4 8 16 0 0 0 0 \n",
      "1 2 4 8 16 32 0 0 0 0 0 \n",
      "1 2 4 8 16 32 64 0 0 0 0 0 0 \n",
      "1 2 4 8 16 32 64 128 0 0 0 0 0 0 0 \n"
     ]
    }
   ],
   "source": [
    "#Q.9\n",
    "c=0\n",
    "s=0\n",
    "for i in range(1,9):\n",
    "    x=1\n",
    "    for j in range(0,i): \n",
    "        print(x,end=\" \")\n",
    "        x=x+x\n",
    "    y=c\n",
    "    for k in range(1,i):\n",
    "        print(s,end=\" \")\n",
    "        y=y+y\n",
    "        \n",
    "    c=c+y\n",
    "    print()\n",
    "    s=s+c"
   ]
  },
  {
   "cell_type": "code",
   "execution_count": 173,
   "id": "3dfc1443",
   "metadata": {},
   "outputs": [
    {
     "name": "stdout",
     "output_type": "stream",
     "text": [
      "1\n",
      "22\n",
      "444.0\n",
      "888.08.0\n",
      "161616.016.016.0\n",
      "323232.032.032.032.0\n",
      "646464.064.064.064.064.0\n",
      "128128128.0128.0128.0128.0128.0128.0\n"
     ]
    }
   ],
   "source": [
    "#Q10\n",
    "s=1\n",
    "for i in range(1,9):\n",
    "    y=0\n",
    "    x=s\n",
    "    for j in range(0,i):\n",
    "        print(x,end=\"\")\n",
    "    \n",
    "        x=x-y\n",
    "        y=y-y/2\n",
    "    \n",
    "        \n",
    "        \n",
    "    s=s+s\n",
    "    print()\n",
    "        "
   ]
  }
 ],
 "metadata": {
  "kernelspec": {
   "display_name": "Python 3 (ipykernel)",
   "language": "python",
   "name": "python3"
  },
  "language_info": {
   "codemirror_mode": {
    "name": "ipython",
    "version": 3
   },
   "file_extension": ".py",
   "mimetype": "text/x-python",
   "name": "python",
   "nbconvert_exporter": "python",
   "pygments_lexer": "ipython3",
   "version": "3.9.13"
  }
 },
 "nbformat": 4,
 "nbformat_minor": 5
}
