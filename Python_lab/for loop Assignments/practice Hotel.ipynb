{
 "cells": [
  {
   "cell_type": "code",
   "execution_count": 6,
   "id": "b62b96bf",
   "metadata": {},
   "outputs": [
    {
     "name": "stdout",
     "output_type": "stream",
     "text": [
      "Welcome to Rutuja's Kichen \n",
      "press 1 for veg \n",
      "press 2 for bill \n",
      "press 3 for exit \n",
      "press option :1\n",
      "press 1. Dal .......... 50 Rs\n",
      "press 2. Rice ..........60 Rs\n",
      "press option 1\n",
      "Dal ............50 Rs\n",
      "Select your quantity :2\n",
      "Type price250\n",
      "500\n"
     ]
    }
   ],
   "source": [
    "def welcome():\n",
    "    print(\"Welcome to Rutuja's Kichen \")\n",
    "    menu()\n",
    "    \n",
    "def menu():\n",
    "    print(\"press 1 for veg \")\n",
    "    print(\"press 2 for bill \")\n",
    "    print(\"press 3 for exit \")\n",
    "    opt=int(input(\"press option :\"))\n",
    "    \n",
    "    if(opt==1):\n",
    "        veg()\n",
    "    elif(opt==2):\n",
    "        bill()\n",
    "    \n",
    "def veg():\n",
    "    print(\"press 1. Dal .......... 50 Rs\")\n",
    "    print(\"press 2. Rice ..........60 Rs\")\n",
    "    veg_opt=int(input(\"press option \"))\n",
    "    \n",
    "    if(veg_opt==1):\n",
    "        dal()\n",
    "\n",
    "def dal():\n",
    "    print(\"Dal ............50 Rs\")\n",
    "    q=int(input(\"Select your quantity :\"))\n",
    "    p=int(input(\"Type price\"))\n",
    "    total=q*p\n",
    "    print(total)\n",
    "    \n",
    "    \n",
    "def bill():\n",
    "    print(\"your total bill \")\n",
    "    \n",
    "\n",
    "welcome()\n"
   ]
  }
 ],
 "metadata": {
  "kernelspec": {
   "display_name": "Python 3 (ipykernel)",
   "language": "python",
   "name": "python3"
  },
  "language_info": {
   "codemirror_mode": {
    "name": "ipython",
    "version": 3
   },
   "file_extension": ".py",
   "mimetype": "text/x-python",
   "name": "python",
   "nbconvert_exporter": "python",
   "pygments_lexer": "ipython3",
   "version": "3.9.13"
  }
 },
 "nbformat": 4,
 "nbformat_minor": 5
}
