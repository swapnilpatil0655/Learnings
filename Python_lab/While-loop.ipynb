{
 "cells": [
  {
   "cell_type": "code",
   "execution_count": 1,
   "id": "f39a7223",
   "metadata": {},
   "outputs": [
    {
     "name": "stdout",
     "output_type": "stream",
     "text": [
      "1\n",
      "2\n",
      "3\n",
      "4\n",
      "5\n",
      "6\n",
      "7\n",
      "8\n",
      "9\n"
     ]
    }
   ],
   "source": [
    "x=1\n",
    "while(x<10):\n",
    "    print(x)\n",
    "    x=x+1\n"
   ]
  },
  {
   "cell_type": "code",
   "execution_count": 4,
   "id": "7339b802",
   "metadata": {},
   "outputs": [
    {
     "name": "stdout",
     "output_type": "stream",
     "text": [
      "5 "
     ]
    }
   ],
   "source": [
    "i=1\n",
    "while i<=10:\n",
    "    if(i==5):\n",
    "        print(i,end=\" \")\n",
    "    i=i+1"
   ]
  },
  {
   "cell_type": "code",
   "execution_count": 5,
   "id": "61ffba02",
   "metadata": {},
   "outputs": [
    {
     "name": "stdout",
     "output_type": "stream",
     "text": [
      "28 50 "
     ]
    }
   ],
   "source": [
    "i=1\n",
    "while i<=400:\n",
    "    if(i==28 or i==50):\n",
    "        print(i,end=\" \")\n",
    "    i=i+1"
   ]
  },
  {
   "cell_type": "code",
   "execution_count": 6,
   "id": "649d73eb",
   "metadata": {},
   "outputs": [
    {
     "name": "stdout",
     "output_type": "stream",
     "text": [
      "1 2 3 4 6 7 8 9 10 "
     ]
    }
   ],
   "source": [
    "i=1\n",
    "while i<=10:\n",
    "    if(i!=5):\n",
    "        print(i,end=\" \")\n",
    "    i=i+1"
   ]
  },
  {
   "cell_type": "code",
   "execution_count": null,
   "id": "c7999d56",
   "metadata": {},
   "outputs": [],
   "source": [
    "i=1\n",
    "while i<=10:\n",
    "    if(i!=4 and i!=8):\n",
    "        print(i,end=\" \")\n",
    "    i=i+1"
   ]
  },
  {
   "cell_type": "code",
   "execution_count": null,
   "id": "7897e420",
   "metadata": {},
   "outputs": [],
   "source": [
    "i=10\n",
    "while(0<i):\n",
    "    print(i,end=\" \")\n",
    "    i=i-1\n"
   ]
  },
  {
   "cell_type": "code",
   "execution_count": 1,
   "id": "b6f875f8",
   "metadata": {},
   "outputs": [
    {
     "name": "stdout",
     "output_type": "stream",
     "text": [
      "10 8 6 hi 4 2 0 "
     ]
    }
   ],
   "source": [
    "#wrong\n",
    "i=10\n",
    "while(0<=i):\n",
    "    if(i%2==0):\n",
    "        if(i==4):\n",
    "            print(\"hi\",end=\" \")\n",
    "        print(i,end=\" \")\n",
    "    i=i-1"
   ]
  },
  {
   "cell_type": "code",
   "execution_count": null,
   "id": "a437f120",
   "metadata": {},
   "outputs": [],
   "source": [
    "i=10\n",
    "while i>=-2:\n",
    "    if(i==4):\n",
    "        print(\"hi\",end=\" \")\n",
    "    elif(i==-2):\n",
    "        print(\"done\",end=\" \")\n",
    "    else:\n",
    "        print(i,end=\" \")\n",
    "    i=i-2"
   ]
  },
  {
   "cell_type": "code",
   "execution_count": 1,
   "id": "9d2024f9",
   "metadata": {},
   "outputs": [
    {
     "name": "stdout",
     "output_type": "stream",
     "text": [
      "5 5\n",
      "4 20\n",
      "3 60\n",
      "2 120\n",
      "1 120\n"
     ]
    }
   ],
   "source": [
    "x=5\n",
    "s=1\n",
    "while x>0:\n",
    "    print(x,end=\" \")\n",
    "    s=s*x\n",
    "    x=x-1\n",
    "    print(s)\n",
    "    \n",
    "    "
   ]
  },
  {
   "cell_type": "code",
   "execution_count": null,
   "id": "2e0521e9",
   "metadata": {},
   "outputs": [],
   "source": [
    "num=int(input())\n",
    "fact=1\n",
    "while num>0:\n",
    "    fact=fact*num\n",
    "    num=num-1\n",
    "print(fact)"
   ]
  },
  {
   "cell_type": "code",
   "execution_count": null,
   "id": "cf97a8d0",
   "metadata": {},
   "outputs": [],
   "source": [
    "x=1\n",
    "flag=True\n",
    "while(flag):\n",
    "    print(x)\n",
    "    x=x+1\n",
    "    if(x==10):\n",
    "        flag=False"
   ]
  },
  {
   "cell_type": "code",
   "execution_count": 4,
   "id": "3a403268",
   "metadata": {},
   "outputs": [
    {
     "name": "stdout",
     "output_type": "stream",
     "text": [
      "20\n",
      "22\n",
      "24\n",
      "26\n",
      "28\n",
      "30\n",
      "32\n",
      "34\n",
      "36\n",
      "38\n",
      "40\n"
     ]
    }
   ],
   "source": [
    "x=20\n",
    "flag=True\n",
    "while (flag):\n",
    "    if(x%2==0):\n",
    "        print(x)\n",
    "    x=x+1\n",
    "    if(x==41):\n",
    "        flag=False"
   ]
  },
  {
   "cell_type": "code",
   "execution_count": 3,
   "id": "5df44f74",
   "metadata": {},
   "outputs": [
    {
     "name": "stdout",
     "output_type": "stream",
     "text": [
      "0 0 \n",
      "0 0 \n",
      "0 0 \n"
     ]
    }
   ],
   "source": [
    "i=0\n",
    "while(i<3):\n",
    "    j=0\n",
    "    while(j<2):\n",
    "        print(\"0\",end=\" \")\n",
    "        j=j+1\n",
    "    i=i+1\n",
    "    print()"
   ]
  },
  {
   "cell_type": "code",
   "execution_count": 2,
   "id": "ec528929",
   "metadata": {},
   "outputs": [
    {
     "name": "stdout",
     "output_type": "stream",
     "text": [
      "0 0 0 0 \n",
      "0 0 0 0 \n"
     ]
    }
   ],
   "source": [
    "i=0\n",
    "while(i<2):\n",
    "    j=0\n",
    "    while(j<4):\n",
    "        print(\"0\",end=\" \")\n",
    "        j=j+1\n",
    "    i=i+1\n",
    "    print()"
   ]
  },
  {
   "cell_type": "code",
   "execution_count": null,
   "id": "bef32d36",
   "metadata": {},
   "outputs": [],
   "source": [
    "# Advance #\n",
    "sum=0\n",
    "num=541\n",
    "while(num>0):\n",
    "    rem=num%10\n",
    "    sum=sum+rem\n",
    "    num=num//10\n",
    "print(sum)"
   ]
  },
  {
   "cell_type": "code",
   "execution_count": 5,
   "id": "44efa266",
   "metadata": {},
   "outputs": [
    {
     "ename": "KeyboardInterrupt",
     "evalue": "Interrupted by user",
     "output_type": "error",
     "traceback": [
      "\u001b[1;31m---------------------------------------------------------------------------\u001b[0m",
      "\u001b[1;31mKeyboardInterrupt\u001b[0m                         Traceback (most recent call last)",
      "\u001b[1;32m~\\AppData\\Local\\Temp\\ipykernel_2552\\3540683198.py\u001b[0m in \u001b[0;36m<module>\u001b[1;34m\u001b[0m\n\u001b[0;32m      1\u001b[0m \u001b[0msum\u001b[0m\u001b[1;33m=\u001b[0m\u001b[1;36m0\u001b[0m\u001b[1;33m\u001b[0m\u001b[1;33m\u001b[0m\u001b[0m\n\u001b[1;32m----> 2\u001b[1;33m \u001b[0ms\u001b[0m\u001b[1;33m=\u001b[0m\u001b[0mint\u001b[0m\u001b[1;33m(\u001b[0m\u001b[0minput\u001b[0m\u001b[1;33m(\u001b[0m\u001b[1;33m)\u001b[0m\u001b[1;33m)\u001b[0m\u001b[1;33m\u001b[0m\u001b[1;33m\u001b[0m\u001b[0m\n\u001b[0m\u001b[0;32m      3\u001b[0m \u001b[1;32mwhile\u001b[0m \u001b[0ms\u001b[0m\u001b[1;33m>\u001b[0m\u001b[1;36m0\u001b[0m\u001b[1;33m:\u001b[0m\u001b[1;33m\u001b[0m\u001b[1;33m\u001b[0m\u001b[0m\n\u001b[0;32m      4\u001b[0m     \u001b[0mrem\u001b[0m\u001b[1;33m=\u001b[0m\u001b[0ms\u001b[0m\u001b[1;33m%\u001b[0m\u001b[1;36m10\u001b[0m\u001b[1;33m\u001b[0m\u001b[1;33m\u001b[0m\u001b[0m\n\u001b[0;32m      5\u001b[0m     \u001b[0msum\u001b[0m\u001b[1;33m=\u001b[0m\u001b[0msum\u001b[0m\u001b[1;33m+\u001b[0m\u001b[0mrem\u001b[0m\u001b[1;33m\u001b[0m\u001b[1;33m\u001b[0m\u001b[0m\n",
      "\u001b[1;32mC:\\ProgramData\\Anaconda3\\lib\\site-packages\\ipykernel\\kernelbase.py\u001b[0m in \u001b[0;36mraw_input\u001b[1;34m(self, prompt)\u001b[0m\n\u001b[0;32m   1175\u001b[0m                 \u001b[1;34m\"raw_input was called, but this frontend does not support input requests.\"\u001b[0m\u001b[1;33m\u001b[0m\u001b[1;33m\u001b[0m\u001b[0m\n\u001b[0;32m   1176\u001b[0m             )\n\u001b[1;32m-> 1177\u001b[1;33m         return self._input_request(\n\u001b[0m\u001b[0;32m   1178\u001b[0m             \u001b[0mstr\u001b[0m\u001b[1;33m(\u001b[0m\u001b[0mprompt\u001b[0m\u001b[1;33m)\u001b[0m\u001b[1;33m,\u001b[0m\u001b[1;33m\u001b[0m\u001b[1;33m\u001b[0m\u001b[0m\n\u001b[0;32m   1179\u001b[0m             \u001b[0mself\u001b[0m\u001b[1;33m.\u001b[0m\u001b[0m_parent_ident\u001b[0m\u001b[1;33m[\u001b[0m\u001b[1;34m\"shell\"\u001b[0m\u001b[1;33m]\u001b[0m\u001b[1;33m,\u001b[0m\u001b[1;33m\u001b[0m\u001b[1;33m\u001b[0m\u001b[0m\n",
      "\u001b[1;32mC:\\ProgramData\\Anaconda3\\lib\\site-packages\\ipykernel\\kernelbase.py\u001b[0m in \u001b[0;36m_input_request\u001b[1;34m(self, prompt, ident, parent, password)\u001b[0m\n\u001b[0;32m   1217\u001b[0m             \u001b[1;32mexcept\u001b[0m \u001b[0mKeyboardInterrupt\u001b[0m\u001b[1;33m:\u001b[0m\u001b[1;33m\u001b[0m\u001b[1;33m\u001b[0m\u001b[0m\n\u001b[0;32m   1218\u001b[0m                 \u001b[1;31m# re-raise KeyboardInterrupt, to truncate traceback\u001b[0m\u001b[1;33m\u001b[0m\u001b[1;33m\u001b[0m\u001b[0m\n\u001b[1;32m-> 1219\u001b[1;33m                 \u001b[1;32mraise\u001b[0m \u001b[0mKeyboardInterrupt\u001b[0m\u001b[1;33m(\u001b[0m\u001b[1;34m\"Interrupted by user\"\u001b[0m\u001b[1;33m)\u001b[0m \u001b[1;32mfrom\u001b[0m \u001b[1;32mNone\u001b[0m\u001b[1;33m\u001b[0m\u001b[1;33m\u001b[0m\u001b[0m\n\u001b[0m\u001b[0;32m   1220\u001b[0m             \u001b[1;32mexcept\u001b[0m \u001b[0mException\u001b[0m\u001b[1;33m:\u001b[0m\u001b[1;33m\u001b[0m\u001b[1;33m\u001b[0m\u001b[0m\n\u001b[0;32m   1221\u001b[0m                 \u001b[0mself\u001b[0m\u001b[1;33m.\u001b[0m\u001b[0mlog\u001b[0m\u001b[1;33m.\u001b[0m\u001b[0mwarning\u001b[0m\u001b[1;33m(\u001b[0m\u001b[1;34m\"Invalid Message:\"\u001b[0m\u001b[1;33m,\u001b[0m \u001b[0mexc_info\u001b[0m\u001b[1;33m=\u001b[0m\u001b[1;32mTrue\u001b[0m\u001b[1;33m)\u001b[0m\u001b[1;33m\u001b[0m\u001b[1;33m\u001b[0m\u001b[0m\n",
      "\u001b[1;31mKeyboardInterrupt\u001b[0m: Interrupted by user"
     ]
    }
   ],
   "source": [
    "sum=0\n",
    "s=int(input())\n",
    "while s>0:\n",
    "    rem=s%10\n",
    "    sum=sum+rem\n",
    "    s=s//10\n",
    "print(sum)"
   ]
  },
  {
   "cell_type": "code",
   "execution_count": 6,
   "id": "631003a2",
   "metadata": {},
   "outputs": [
    {
     "name": "stdout",
     "output_type": "stream",
     "text": [
      "1 2 3 4 5 6 7 "
     ]
    }
   ],
   "source": [
    "i=1\n",
    "while i<=7:\n",
    "    print(i,end=\" \")\n",
    "    i=i+1"
   ]
  },
  {
   "cell_type": "code",
   "execution_count": 7,
   "id": "15b7eb80",
   "metadata": {},
   "outputs": [
    {
     "name": "stdout",
     "output_type": "stream",
     "text": [
      "10 9 8 7 6 5 4 3 2 1 0 "
     ]
    }
   ],
   "source": [
    "i=10\n",
    "while i>=0:\n",
    "    print(i,end=\" \")\n",
    "    i=i-1"
   ]
  },
  {
   "cell_type": "code",
   "execution_count": 8,
   "id": "c89caa45",
   "metadata": {},
   "outputs": [
    {
     "name": "stdout",
     "output_type": "stream",
     "text": [
      "26 28 30 32 34 36 38 40 42 44 46 48 50 52 54 56 58 60 62 64 66 68 70 72 74 76 78 80 82 84 86 88 90 92 94 96 98 100 102 104 106 108 110 112 114 116 118 120 122 124 126 128 130 132 134 136 138 140 142 144 146 148 150 "
     ]
    }
   ],
   "source": [
    "#range 25-150 even no. #\n",
    "i=0 \n",
    "while i<=200:\n",
    "    if(i>=25 and i<=150):\n",
    "        if(i%2==0):\n",
    "            print(i,end=\" \")\n",
    "    i=i+1"
   ]
  },
  {
   "cell_type": "code",
   "execution_count": 9,
   "id": "4014267d",
   "metadata": {},
   "outputs": [
    {
     "name": "stdout",
     "output_type": "stream",
     "text": [
      "4\n",
      "5\n",
      "9 14 23 37 60 97 157 254 411 665 "
     ]
    }
   ],
   "source": [
    "# fabpnaci series using while loop #\n",
    "n1=int(input())\n",
    "n2=int(input())\n",
    "n=0\n",
    "while n<500:\n",
    "    n=n1+n2\n",
    "    print(n,end=\" \")\n",
    "    n1 = n2\n",
    "    n2 = n"
   ]
  },
  {
   "cell_type": "code",
   "execution_count": 1,
   "id": "32abbc48",
   "metadata": {},
   "outputs": [
    {
     "name": "stdout",
     "output_type": "stream",
     "text": [
      "4\n",
      "5\n",
      "9 14 23 37 60 97 157 254 411 "
     ]
    }
   ],
   "source": [
    "n1=int(input())\n",
    "n2=int(input())\n",
    "n=0\n",
    "while n<500:\n",
    "    n=n1+n2\n",
    "    if n<500:\n",
    "        print(n,end=\" \")\n",
    "        n1 = n2\n",
    "        n2 = n"
   ]
  },
  {
   "cell_type": "code",
   "execution_count": 2,
   "id": "b26ecd5f",
   "metadata": {},
   "outputs": [
    {
     "name": "stdout",
     "output_type": "stream",
     "text": [
      "120\n"
     ]
    }
   ],
   "source": [
    "fact=1 \n",
    "num =5\n",
    "while num > 1:\n",
    "    fact=num*fact\n",
    "    num=num-1\n",
    "print(fact)"
   ]
  },
  {
   "cell_type": "code",
   "execution_count": null,
   "id": "e93aa28a",
   "metadata": {},
   "outputs": [],
   "source": [
    "# factorial #\n",
    "num=int(input())\n",
    "fact=1\n",
    "while num>0:\n",
    "    fact=fact*num\n",
    "    num=num-1\n",
    "print(fact)"
   ]
  },
  {
   "cell_type": "code",
   "execution_count": null,
   "id": "9f6ef177",
   "metadata": {},
   "outputs": [],
   "source": [
    "#factorial using for loop #\n",
    "num=int(input())\n",
    "fact=1\n",
    "for i in range (1,num+1):\n",
    "    fact=fact*i\n",
    "print(fact)"
   ]
  },
  {
   "cell_type": "code",
   "execution_count": null,
   "id": "7bf9728b",
   "metadata": {},
   "outputs": [],
   "source": [
    "num=int(input())\n",
    "fact=1\n",
    "while num>0:\n",
    "    fact=fact*num\n",
    "    num=num-1\n",
    "print(fact)"
   ]
  },
  {
   "cell_type": "code",
   "execution_count": null,
   "id": "86647d89",
   "metadata": {},
   "outputs": [],
   "source": [
    "i=1\n",
    "while i<4:\n",
    "    j=1\n",
    "    while j<3:\n",
    "        print(j,end=\" \")\n",
    "        j=j+1\n",
    "    \n",
    "    i=i+1\n",
    "    print()"
   ]
  },
  {
   "cell_type": "code",
   "execution_count": null,
   "id": "b7cd5f44",
   "metadata": {},
   "outputs": [],
   "source": [
    "i=1\n",
    "while i<5:\n",
    "    j=1\n",
    "    while j<5:\n",
    "        print(j, end=\" \")\n",
    "        j=j+1\n",
    "        \n",
    "    i=i+1\n",
    "    print()"
   ]
  },
  {
   "cell_type": "code",
   "execution_count": null,
   "id": "86e56d6e",
   "metadata": {},
   "outputs": [],
   "source": [
    "i=1\n",
    "while i<5:\n",
    "    j=5\n",
    "    while j>0:\n",
    "        print(j, end=\" \")\n",
    "        j=j-1\n",
    "        \n",
    "    i=i+1\n",
    "    print()"
   ]
  },
  {
   "cell_type": "code",
   "execution_count": null,
   "id": "0b51248a",
   "metadata": {},
   "outputs": [],
   "source": [
    "#find 2nd largest no. #\n",
    "\n",
    "x=int(input())\n",
    "y=int(input())\n",
    "z=int(input())\n",
    "\n",
    "if (x>y and x>z):\n",
    "    if(y>z):\n",
    "        print(\" y is the 2nd largest no.\")\n",
    "    else:\n",
    "        print(\" z is the 2bd largest no.\")\n",
    "\n",
    "        \n",
    "elif (y>x and y>z):\n",
    "    if (x>z):\n",
    "        print(\" x is the 2nd largest no. \")\n",
    "    else:\n",
    "        print(\" z is the 2nd largest no. \")\n",
    "\n",
    "else:\n",
    "    if(x>y):\n",
    "        print(\"x is the 2nd largest no. \")\n",
    "    else:\n",
    "        print(\"y is the 2nd largest number\")"
   ]
  },
  {
   "cell_type": "code",
   "execution_count": null,
   "id": "4267d44c",
   "metadata": {},
   "outputs": [],
   "source": [
    "#find 2nd largest no. #\n",
    "\n",
    "x=int(input())\n",
    "y=int(input())\n",
    "z=int(input())\n",
    "\n",
    "if (x>y and x>z):\n",
    "    if(y>z):\n",
    "        print(\" y is the 2nd largest no.\")\n",
    "    else:\n",
    "        print(\" z is the 2bd largest no.\")\n",
    "\n",
    "        \n",
    "elif (y>x and y>z):\n",
    "    if (x>z):\n",
    "        print(\" x is the 2nd largest no. \")\n",
    "    else:\n",
    "        print(\" z is the 2nd largest no. \")\n",
    "\n",
    "elif (z>x and z>y ):\n",
    "    if(x>y):\n",
    "        print(\"y is the 2nd largest no. \")\n",
    "    else:\n",
    "        print(\" x is the 2nd largest no. \")"
   ]
  },
  {
   "cell_type": "code",
   "execution_count": 10,
   "id": "52d8609b",
   "metadata": {},
   "outputs": [
    {
     "name": "stdout",
     "output_type": "stream",
     "text": [
      "1\n",
      "2\n",
      "3\n",
      "4\n",
      "5\n",
      "6\n",
      "7\n",
      "8\n",
      "9\n",
      "10\n"
     ]
    }
   ],
   "source": [
    "flag=True\n",
    "count=0\n",
    "while flag :\n",
    "    count=count+1\n",
    "    print(count)\n",
    "    if(count==10):\n",
    "        flag=False"
   ]
  },
  {
   "cell_type": "code",
   "execution_count": 6,
   "id": "a755f5a3",
   "metadata": {},
   "outputs": [
    {
     "name": "stdout",
     "output_type": "stream",
     "text": [
      "1 2 3 4 5 6 7 8 9 10 11 12 13 14 15 16 17 18 19 20 21 22 23 24 25 26 27 28 29 30 31 32 33 34 35 36 37 38 39 40 41 42 43 44 45 46 47 48 49 50 "
     ]
    }
   ],
   "source": [
    "flag=True\n",
    "count=0\n",
    "while flag :\n",
    "    count=count+1\n",
    "    print(count,end=\" \")\n",
    "    if(count==50):\n",
    "        flag=False"
   ]
  },
  {
   "cell_type": "code",
   "execution_count": null,
   "id": "05b25a48",
   "metadata": {},
   "outputs": [
    {
     "name": "stdout",
     "output_type": "stream",
     "text": [
      "11\n",
      "enter again\n",
      "12\n",
      "enter again\n",
      "13\n",
      "enter again\n",
      "14\n",
      "enter again\n",
      "15\n",
      "enter again\n",
      "16\n",
      "enter again\n",
      "17\n",
      "enter again\n"
     ]
    }
   ],
   "source": [
    "#WAP to take a no . from user until the corret no. correct no, is betweern 5 to 10\n",
    "flag=True\n",
    "while flag:\n",
    "    num=int(input())\n",
    "    if(num>=5 and num<=10):\n",
    "        print(\"ok\")\n",
    "        flag=False\n",
    "    else:\n",
    "        print(\"enter again\")\n"
   ]
  },
  {
   "cell_type": "code",
   "execution_count": 21,
   "id": "2f7871e9",
   "metadata": {},
   "outputs": [
    {
     "name": "stdout",
     "output_type": "stream",
     "text": [
      "Enter the no.4\n",
      "Please enter again\n",
      "Enter the no.5\n",
      "your no. is correct\n"
     ]
    }
   ],
   "source": [
    "#WAP to take a no . from user until the corret no. correct no, is betweern 5 to 10\n",
    "flag=True\n",
    "while flag:\n",
    "    num=int(input(\"Enter the no.\"))\n",
    "    if(num>=5 and num<=10):\n",
    "        print(\"your no. is correct\")\n",
    "        flag=False\n",
    "    else:\n",
    "        print(\"Please enter again\")"
   ]
  },
  {
   "cell_type": "code",
   "execution_count": null,
   "id": "309d8e97",
   "metadata": {},
   "outputs": [],
   "source": [
    "num=int(input(\"Enter the no.\"))\n",
    "if(num>=5 and num<=10):\n",
    "    print(\"your no. is correct\")\n",
    "else:\n",
    "    print(\"Please enter again\")"
   ]
  },
  {
   "cell_type": "code",
   "execution_count": 2,
   "id": "1a100457",
   "metadata": {},
   "outputs": [
    {
     "name": "stdout",
     "output_type": "stream",
     "text": [
      "Enter the ATM Pin564\n",
      "You have entered wrong pin Please enter again\n",
      "Enter the ATM Pin789\n",
      "You have entered wrong pin Please enter again\n",
      "Enter the ATM Pin657\n",
      "You have entered wrong pin Please enter again\n"
     ]
    },
    {
     "ename": "KeyboardInterrupt",
     "evalue": "Interrupted by user",
     "output_type": "error",
     "traceback": [
      "\u001b[1;31m---------------------------------------------------------------------------\u001b[0m",
      "\u001b[1;31mKeyboardInterrupt\u001b[0m                         Traceback (most recent call last)",
      "\u001b[1;32m~\\AppData\\Local\\Temp\\ipykernel_8912\\2199757573.py\u001b[0m in \u001b[0;36m<module>\u001b[1;34m\u001b[0m\n\u001b[0;32m      2\u001b[0m \u001b[0mpin\u001b[0m\u001b[1;33m=\u001b[0m\u001b[1;36m1234\u001b[0m\u001b[1;33m\u001b[0m\u001b[1;33m\u001b[0m\u001b[0m\n\u001b[0;32m      3\u001b[0m \u001b[1;32mwhile\u001b[0m \u001b[0mflag\u001b[0m\u001b[1;33m:\u001b[0m\u001b[1;33m\u001b[0m\u001b[1;33m\u001b[0m\u001b[0m\n\u001b[1;32m----> 4\u001b[1;33m     \u001b[0mnum\u001b[0m\u001b[1;33m=\u001b[0m\u001b[0mint\u001b[0m\u001b[1;33m(\u001b[0m\u001b[0minput\u001b[0m\u001b[1;33m(\u001b[0m\u001b[1;34m\"Enter the ATM Pin\"\u001b[0m\u001b[1;33m)\u001b[0m\u001b[1;33m)\u001b[0m\u001b[1;33m\u001b[0m\u001b[1;33m\u001b[0m\u001b[0m\n\u001b[0m\u001b[0;32m      5\u001b[0m     \u001b[1;32mif\u001b[0m\u001b[1;33m(\u001b[0m\u001b[0mpin\u001b[0m\u001b[1;33m==\u001b[0m\u001b[0mnum\u001b[0m\u001b[1;33m)\u001b[0m\u001b[1;33m:\u001b[0m\u001b[1;33m\u001b[0m\u001b[1;33m\u001b[0m\u001b[0m\n\u001b[0;32m      6\u001b[0m         \u001b[0mprint\u001b[0m\u001b[1;33m(\u001b[0m\u001b[1;34m\" You have succesfully login\"\u001b[0m\u001b[1;33m)\u001b[0m\u001b[1;33m\u001b[0m\u001b[1;33m\u001b[0m\u001b[0m\n",
      "\u001b[1;32mC:\\ProgramData\\Anaconda3\\lib\\site-packages\\ipykernel\\kernelbase.py\u001b[0m in \u001b[0;36mraw_input\u001b[1;34m(self, prompt)\u001b[0m\n\u001b[0;32m   1175\u001b[0m                 \u001b[1;34m\"raw_input was called, but this frontend does not support input requests.\"\u001b[0m\u001b[1;33m\u001b[0m\u001b[1;33m\u001b[0m\u001b[0m\n\u001b[0;32m   1176\u001b[0m             )\n\u001b[1;32m-> 1177\u001b[1;33m         return self._input_request(\n\u001b[0m\u001b[0;32m   1178\u001b[0m             \u001b[0mstr\u001b[0m\u001b[1;33m(\u001b[0m\u001b[0mprompt\u001b[0m\u001b[1;33m)\u001b[0m\u001b[1;33m,\u001b[0m\u001b[1;33m\u001b[0m\u001b[1;33m\u001b[0m\u001b[0m\n\u001b[0;32m   1179\u001b[0m             \u001b[0mself\u001b[0m\u001b[1;33m.\u001b[0m\u001b[0m_parent_ident\u001b[0m\u001b[1;33m[\u001b[0m\u001b[1;34m\"shell\"\u001b[0m\u001b[1;33m]\u001b[0m\u001b[1;33m,\u001b[0m\u001b[1;33m\u001b[0m\u001b[1;33m\u001b[0m\u001b[0m\n",
      "\u001b[1;32mC:\\ProgramData\\Anaconda3\\lib\\site-packages\\ipykernel\\kernelbase.py\u001b[0m in \u001b[0;36m_input_request\u001b[1;34m(self, prompt, ident, parent, password)\u001b[0m\n\u001b[0;32m   1217\u001b[0m             \u001b[1;32mexcept\u001b[0m \u001b[0mKeyboardInterrupt\u001b[0m\u001b[1;33m:\u001b[0m\u001b[1;33m\u001b[0m\u001b[1;33m\u001b[0m\u001b[0m\n\u001b[0;32m   1218\u001b[0m                 \u001b[1;31m# re-raise KeyboardInterrupt, to truncate traceback\u001b[0m\u001b[1;33m\u001b[0m\u001b[1;33m\u001b[0m\u001b[0m\n\u001b[1;32m-> 1219\u001b[1;33m                 \u001b[1;32mraise\u001b[0m \u001b[0mKeyboardInterrupt\u001b[0m\u001b[1;33m(\u001b[0m\u001b[1;34m\"Interrupted by user\"\u001b[0m\u001b[1;33m)\u001b[0m \u001b[1;32mfrom\u001b[0m \u001b[1;32mNone\u001b[0m\u001b[1;33m\u001b[0m\u001b[1;33m\u001b[0m\u001b[0m\n\u001b[0m\u001b[0;32m   1220\u001b[0m             \u001b[1;32mexcept\u001b[0m \u001b[0mException\u001b[0m\u001b[1;33m:\u001b[0m\u001b[1;33m\u001b[0m\u001b[1;33m\u001b[0m\u001b[0m\n\u001b[0;32m   1221\u001b[0m                 \u001b[0mself\u001b[0m\u001b[1;33m.\u001b[0m\u001b[0mlog\u001b[0m\u001b[1;33m.\u001b[0m\u001b[0mwarning\u001b[0m\u001b[1;33m(\u001b[0m\u001b[1;34m\"Invalid Message:\"\u001b[0m\u001b[1;33m,\u001b[0m \u001b[0mexc_info\u001b[0m\u001b[1;33m=\u001b[0m\u001b[1;32mTrue\u001b[0m\u001b[1;33m)\u001b[0m\u001b[1;33m\u001b[0m\u001b[1;33m\u001b[0m\u001b[0m\n",
      "\u001b[1;31mKeyboardInterrupt\u001b[0m: Interrupted by user"
     ]
    }
   ],
   "source": [
    "# ATM pin no.\n",
    "flag=True\n",
    "pin=1234\n",
    "while flag:\n",
    "    num=int(input(\"Enter the ATM Pin\"))\n",
    "    if(pin==num):\n",
    "        print(\" You have succesfully login\")\n",
    "        flag=False\n",
    "    else:\n",
    "        print(\"You have entered wrong pin Please enter again\")\n",
    "    "
   ]
  },
  {
   "cell_type": "code",
   "execution_count": 11,
   "id": "be42b9fd",
   "metadata": {},
   "outputs": [
    {
     "name": "stdout",
     "output_type": "stream",
     "text": [
      "Enter the ATM Pin4\n",
      "You have entered wrong pin Please enter again\n",
      "Enter the ATM Pin4\n",
      "You have entered wrong pin Please enter again\n",
      "Enter the ATM Pin5\n",
      "You have entered wrong pin Please enter again\n",
      "No. of attempts is over, your card is block\n"
     ]
    }
   ],
   "source": [
    "# ATM pin no.\n",
    "flag=True\n",
    "pin=1234\n",
    "count=0\n",
    "while flag:\n",
    "    num=int(input(\"Enter the ATM Pin\"))\n",
    "    if(pin==num):\n",
    "        print(\" You have succesfully login\")\n",
    "        flag=False\n",
    "    else:\n",
    "        print(\"You have entered wrong pin Please enter again\")\n",
    "        count=count+1\n",
    "        if(count==3):\n",
    "            print(\"No. of attempts is over, your card is block\")\n",
    "            flag=False"
   ]
  },
  {
   "cell_type": "code",
   "execution_count": 13,
   "id": "bad01db6",
   "metadata": {},
   "outputs": [
    {
     "name": "stdout",
     "output_type": "stream",
     "text": [
      "Enter the ATM pin : 4\n",
      "Please Try again .\n",
      "Enter the ATM pin : 4\n",
      "Please Try again .\n",
      "Enter the ATM pin : 4\n",
      "Card block \n"
     ]
    }
   ],
   "source": [
    "pin=1234\n",
    "flag=True\n",
    "count=0\n",
    "while flag:\n",
    "    upin=int(input(\"Enter the ATM pin : \"))\n",
    "    if (upin==pin):\n",
    "        print(\"Loggin successfull ......\")\n",
    "        flag=False\n",
    "    else:\n",
    "        count=count+1\n",
    "        \n",
    "        if count!=3:\n",
    "            print(\"Please Try again .\")\n",
    "            \n",
    "        elif count==3:\n",
    "            print(\"Card block \")\n",
    "            flag=False"
   ]
  }
 ],
 "metadata": {
  "kernelspec": {
   "display_name": "Python 3 (ipykernel)",
   "language": "python",
   "name": "python3"
  },
  "language_info": {
   "codemirror_mode": {
    "name": "ipython",
    "version": 3
   },
   "file_extension": ".py",
   "mimetype": "text/x-python",
   "name": "python",
   "nbconvert_exporter": "python",
   "pygments_lexer": "ipython3",
   "version": "3.9.13"
  }
 },
 "nbformat": 4,
 "nbformat_minor": 5
}
