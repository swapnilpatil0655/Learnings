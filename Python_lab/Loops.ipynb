{
 "cells": [
  {
   "cell_type": "code",
   "execution_count": 7,
   "id": "9e26dcb8",
   "metadata": {},
   "outputs": [
    {
     "name": "stdout",
     "output_type": "stream",
     "text": [
      "0\n",
      "1\n",
      "2\n",
      "3\n",
      "4\n"
     ]
    }
   ],
   "source": [
    "for i in range(0,5):\n",
    "    print(i)"
   ]
  },
  {
   "cell_type": "code",
   "execution_count": 10,
   "id": "91399b7b",
   "metadata": {},
   "outputs": [
    {
     "name": "stdout",
     "output_type": "stream",
     "text": [
      "Hello\n",
      "Hello\n",
      "Hello\n",
      "Hello\n",
      "Hello\n"
     ]
    }
   ],
   "source": [
    "for i in range(0,5):\n",
    "    print(\"Hello\")"
   ]
  },
  {
   "cell_type": "code",
   "execution_count": 19,
   "id": "faa6e492",
   "metadata": {},
   "outputs": [
    {
     "name": "stdout",
     "output_type": "stream",
     "text": [
      "2 4 6 8 "
     ]
    }
   ],
   "source": [
    "for i in range(1,10):\n",
    "    if(i%2==0):\n",
    "        print(i,end=\" \")"
   ]
  },
  {
   "cell_type": "code",
   "execution_count": 20,
   "id": "22ddacdd",
   "metadata": {},
   "outputs": [
    {
     "name": "stdout",
     "output_type": "stream",
     "text": [
      "1 3 5 7 9 "
     ]
    }
   ],
   "source": [
    "for i in range(1,10):\n",
    "    if(i%2!=0):\n",
    "        print(i,end=\" \")"
   ]
  },
  {
   "cell_type": "code",
   "execution_count": 25,
   "id": "ccdddd86",
   "metadata": {},
   "outputs": [
    {
     "name": "stdout",
     "output_type": "stream",
     "text": [
      "0\n",
      "2\n",
      "4\n",
      "6\n",
      "8\n",
      "10\n",
      "12\n",
      "14\n",
      "16\n",
      "18\n",
      "20\n",
      "22\n",
      "24\n",
      "26\n",
      "28\n",
      "30\n",
      "32\n",
      "34\n",
      "36\n",
      "38\n",
      "40\n",
      "42\n",
      "44\n",
      "46\n"
     ]
    }
   ],
   "source": [
    "#wap to find even no except 48#\n",
    "for i in range(0,50):\n",
    "    if(i%2==0 and i!=48):\n",
    "        print(i)"
   ]
  },
  {
   "cell_type": "code",
   "execution_count": 31,
   "id": "af207b22",
   "metadata": {},
   "outputs": [
    {
     "name": "stdout",
     "output_type": "stream",
     "text": [
      "0 2 4 6 8 10 12 14 16 18 20 22 24 26 28 30 32 34 36 38 40 42 44 46 "
     ]
    }
   ],
   "source": [
    "#wap to find even no except 48#\n",
    "for i in range(0,50):\n",
    "    if(i%2==0 and i!=48):\n",
    "        print(i,end=\" \")"
   ]
  },
  {
   "cell_type": "code",
   "execution_count": 5,
   "id": "6df0eaf4",
   "metadata": {},
   "outputs": [
    {
     "name": "stdout",
     "output_type": "stream",
     "text": [
      "40\n",
      "42\n",
      "44\n",
      "46\n"
     ]
    }
   ],
   "source": [
    "for i in range(40,50):\n",
    "    if(i%2==0 and i!=48):\n",
    "        print(i)"
   ]
  },
  {
   "cell_type": "code",
   "execution_count": 2,
   "id": "28aa738c",
   "metadata": {},
   "outputs": [
    {
     "name": "stdout",
     "output_type": "stream",
     "text": [
      "26\n",
      "28\n",
      "32\n",
      "34\n",
      "36\n",
      "38\n",
      "42\n",
      "44\n",
      "46\n",
      "48\n",
      "52\n",
      "54\n",
      "56\n",
      "58\n",
      "62\n",
      "64\n",
      "66\n",
      "68\n",
      "70\n",
      "72\n",
      "74\n"
     ]
    }
   ],
   "source": [
    "#wap to print 25-75 even no except 30/40/50/60#\n",
    "for i in range(25,75):\n",
    "    if(i%2==0 ):\n",
    "        if(i!=30):\n",
    "            if(i!=40):\n",
    "                if(i!=50):\n",
    "                    if(i!=60):\n",
    "                         print(i)\n",
    "    \n",
    "    "
   ]
  },
  {
   "cell_type": "code",
   "execution_count": 55,
   "id": "31fb431e",
   "metadata": {},
   "outputs": [
    {
     "name": "stdout",
     "output_type": "stream",
     "text": [
      "26 28 32 34 36 38 42 44 46 48 52 54 56 58 62 64 66 68 70 72 74 "
     ]
    }
   ],
   "source": [
    "#wap to print 25-75 even no except 30/40/50/60#\n",
    "for i in range(25,75):\n",
    "    if(i%2==0 and (i!=30) and (i!=40) and (i!=50) and (i!=60) ):\n",
    "        print(i, end=\" \")\n",
    "        \n",
    "    \n",
    "    "
   ]
  },
  {
   "cell_type": "code",
   "execution_count": 66,
   "id": "cb6a29b8",
   "metadata": {},
   "outputs": [
    {
     "name": "stdout",
     "output_type": "stream",
     "text": [
      "26\n",
      "28\n",
      "30\n",
      "32\n",
      "34\n",
      "36\n",
      "38\n",
      "40\n",
      "42\n",
      "44\n",
      "46\n",
      "48\n",
      "50\n",
      "52\n",
      "54\n",
      "56\n",
      "58\n",
      "60\n",
      "62\n",
      "64\n",
      "66\n",
      "68\n",
      "70\n",
      "72\n",
      "74\n"
     ]
    }
   ],
   "source": [
    "#wap to print 25-75  30/40/50/60#\n",
    "for i in range(25,75):\n",
    "    if(i%2==0 and i==30 or i==40 or i==50 or i==60 ):\n",
    "        print(i)\n",
    "        "
   ]
  },
  {
   "cell_type": "code",
   "execution_count": 69,
   "id": "a9e97792",
   "metadata": {},
   "outputs": [
    {
     "name": "stdout",
     "output_type": "stream",
     "text": [
      "30\n",
      "40\n",
      "50\n",
      "60\n"
     ]
    }
   ],
   "source": [
    "#wap to print 25-75  30/40/50/60#\n",
    "for i in range(25,75):\n",
    "    if(i%2==0):\n",
    "        if(i==30 or i==40 or i==50 or i==60 ):\n",
    "            print(i)"
   ]
  },
  {
   "cell_type": "code",
   "execution_count": 1,
   "id": "081b2846",
   "metadata": {},
   "outputs": [
    {
     "name": "stdout",
     "output_type": "stream",
     "text": [
      "7\n",
      "enter again\n",
      "8\n",
      "enter again\n",
      "9\n",
      "enter again\n",
      "10\n",
      "enter again\n",
      "11\n",
      "enter again\n"
     ]
    }
   ],
   "source": [
    "for i in range(0,5):\n",
    "    num=int(input())\n",
    "    if(num>0 and num<6):\n",
    "        print(\"ok\")\n",
    "        break\n",
    "    else:\n",
    "        print(\"enter again\")"
   ]
  },
  {
   "cell_type": "code",
   "execution_count": 80,
   "id": "b5247d6c",
   "metadata": {},
   "outputs": [
    {
     "name": "stdout",
     "output_type": "stream",
     "text": [
      "enter ur pin num1456\n",
      "enter pin again\n",
      "enter ur pin num4789\n",
      "enter pin again\n",
      "enter ur pin num687\n",
      "enter pin again\n"
     ]
    }
   ],
   "source": [
    "for i in range (0,3):\n",
    "    pin=1234\n",
    "    upin=int(input(\"enter ur pin num\"))\n",
    "    if(pin==upin):\n",
    "        print(\"login succesfull\")\n",
    "        break\n",
    "    else:\n",
    "        print(\"enter pin again\")\n",
    "         "
   ]
  },
  {
   "cell_type": "code",
   "execution_count": null,
   "id": "6925ec82",
   "metadata": {},
   "outputs": [],
   "source": [
    "for i in range (0,3):\n",
    "    pin=int(input(\"enter ur pin num\"))\n",
    "    upin=int(input(\"re-enter ur pin num\"))\n",
    "    if(pin==upin):\n",
    "        print(\"login succesfull\")\n",
    "        break\n",
    "    else:\n",
    "        print(\"enter pin again\")\n",
    "         "
   ]
  }
 ],
 "metadata": {
  "kernelspec": {
   "display_name": "Python 3 (ipykernel)",
   "language": "python",
   "name": "python3"
  },
  "language_info": {
   "codemirror_mode": {
    "name": "ipython",
    "version": 3
   },
   "file_extension": ".py",
   "mimetype": "text/x-python",
   "name": "python",
   "nbconvert_exporter": "python",
   "pygments_lexer": "ipython3",
   "version": "3.9.13"
  }
 },
 "nbformat": 4,
 "nbformat_minor": 5
}
