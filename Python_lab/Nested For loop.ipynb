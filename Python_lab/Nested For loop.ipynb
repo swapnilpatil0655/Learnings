{
 "cells": [
  {
   "cell_type": "code",
   "execution_count": 2,
   "id": "e58384b4",
   "metadata": {},
   "outputs": [
    {
     "name": "stdout",
     "output_type": "stream",
     "text": [
      "0 0 0 \n",
      "0 0 0 \n"
     ]
    }
   ],
   "source": [
    "for i in range (0,2):\n",
    "    for j in range (0,3):\n",
    "        print (0,end=\" \")\n",
    "    print()"
   ]
  },
  {
   "cell_type": "code",
   "execution_count": 3,
   "id": "ce19a6aa",
   "metadata": {},
   "outputs": [
    {
     "name": "stdout",
     "output_type": "stream",
     "text": [
      "0 0 0 \n",
      "0 0 0 \n",
      "0 0 0 \n"
     ]
    }
   ],
   "source": [
    "for i in range (0,3):\n",
    "    for j in range (0,3):\n",
    "        print (0,end=\" \")\n",
    "    print()"
   ]
  },
  {
   "cell_type": "code",
   "execution_count": 5,
   "id": "6844acb1",
   "metadata": {},
   "outputs": [
    {
     "name": "stdout",
     "output_type": "stream",
     "text": [
      "0 0 \n",
      "0 0 \n",
      "0 0 \n"
     ]
    }
   ],
   "source": [
    "for i in range (0,3):\n",
    "    for j in range (0,2):\n",
    "        print (0,end=\" \")\n",
    "    print()"
   ]
  },
  {
   "cell_type": "code",
   "execution_count": 14,
   "id": "ca268a79",
   "metadata": {},
   "outputs": [
    {
     "name": "stdout",
     "output_type": "stream",
     "text": [
      "\n",
      "0 \n",
      "0 0 \n",
      "0 0 0 \n"
     ]
    }
   ],
   "source": [
    "for i in range (0,4):\n",
    "    for j in range (0,i):\n",
    "        print(0,end=\" \")\n",
    "    print()"
   ]
  },
  {
   "cell_type": "code",
   "execution_count": 22,
   "id": "01ef3fbc",
   "metadata": {},
   "outputs": [
    {
     "name": "stdout",
     "output_type": "stream",
     "text": [
      "0 \n",
      "0 0 \n",
      "0 0 0 \n"
     ]
    }
   ],
   "source": [
    "for i in range (1,4):\n",
    "    for j in range (0,i):\n",
    "        print(0,end=\" \")\n",
    "    print()"
   ]
  },
  {
   "cell_type": "code",
   "execution_count": 57,
   "id": "f35faadd",
   "metadata": {},
   "outputs": [
    {
     "name": "stdout",
     "output_type": "stream",
     "text": [
      "* * * * \n",
      "* * * \n",
      "* * \n",
      "* \n"
     ]
    }
   ],
   "source": [
    "for i in range (0,4):\n",
    "    for j in range (i,4):\n",
    "        print(\"*\",end=\" \")\n",
    "    print()"
   ]
  },
  {
   "cell_type": "code",
   "execution_count": 59,
   "id": "5a507d13",
   "metadata": {},
   "outputs": [
    {
     "name": "stdout",
     "output_type": "stream",
     "text": [
      "0 0 0 \n",
      "+ 0 0 \n",
      "+ + 0 \n"
     ]
    }
   ],
   "source": [
    "for i in range (0,3):\n",
    "    for j in range (0,i):\n",
    "        print(\"+\",end=\" \")\n",
    "    for k in range (i,3):\n",
    "        print(0, end=\" \")\n",
    "    print ()"
   ]
  },
  {
   "cell_type": "code",
   "execution_count": 60,
   "id": "85d55f19",
   "metadata": {},
   "outputs": [
    {
     "name": "stdout",
     "output_type": "stream",
     "text": [
      "0 0 0 \n",
      "  0 0 \n",
      "    0 \n"
     ]
    }
   ],
   "source": [
    "for i in range (0,3):\n",
    "    for j in range (0,i):\n",
    "        print(\" \",end=\" \")\n",
    "    for k in range (i,3):\n",
    "        print(0, end=\" \")\n",
    "    print ()"
   ]
  },
  {
   "cell_type": "code",
   "execution_count": 54,
   "id": "e813b8e5",
   "metadata": {},
   "outputs": [
    {
     "name": "stdout",
     "output_type": "stream",
     "text": [
      "      0 \n",
      "    0   0 \n",
      "  0   0   0 \n"
     ]
    }
   ],
   "source": [
    "for i in range (1,4):\n",
    "    for j in range(i,3):\n",
    "        print(\" \",end=\" \")\n",
    "    for k in range(0,i):\n",
    "        print(\"  0\", end=\" \")\n",
    "    print()\n",
    "    "
   ]
  },
  {
   "cell_type": "code",
   "execution_count": 56,
   "id": "9748c1ae",
   "metadata": {},
   "outputs": [
    {
     "name": "stdout",
     "output_type": "stream",
     "text": [
      "    +   +   + \n",
      "      +   + \n",
      "        + \n"
     ]
    }
   ],
   "source": [
    "for i in range (1,4):\n",
    "    for j in range (0,i):\n",
    "        print(\" \",end=\" \")\n",
    "    for k in range (i,4):\n",
    "        print(\"  +\",end=\" \")\n",
    "    print()"
   ]
  },
  {
   "cell_type": "code",
   "execution_count": 228,
   "id": "c1dd878c",
   "metadata": {},
   "outputs": [
    {
     "name": "stdout",
     "output_type": "stream",
     "text": [
      "H\n",
      "\n",
      "0 E\n",
      "\n",
      "0 0 L\n",
      "\n",
      "0 0 0 L\n",
      "\n",
      "0 0 0 0 O\n",
      "\n"
     ]
    }
   ],
   "source": [
    "for i in range (1,6):\n",
    "    for j in range (1,i):\n",
    "        print(0,end=\" \")\n",
    "    if (i==1):\n",
    "        print(\"H\")\n",
    "    elif (j==1):\n",
    "         print(\"E\")\n",
    "    elif (j==2):\n",
    "         print(\"L\")\n",
    "    elif (j==3):\n",
    "         print(\"L\")\n",
    "    elif (j==4):\n",
    "         print(\"O\")\n",
    "    print()"
   ]
  },
  {
   "cell_type": "code",
   "execution_count": 8,
   "id": "3b5db01a",
   "metadata": {},
   "outputs": [
    {
     "name": "stdout",
     "output_type": "stream",
     "text": [
      "H \n",
      "0 E \n",
      "0 0 L \n",
      "0 0 0 L \n",
      "0 0 0 0 O \n"
     ]
    }
   ],
   "source": [
    "for i in range (0,5):\n",
    "    for j in range (0,i):\n",
    "        print(0,end=\" \")\n",
    "    if (i==0):\n",
    "        print(\"H\",end=\" \")\n",
    "    elif (i==1):\n",
    "         print(\"E\",end=\" \")\n",
    "    elif (i==2):\n",
    "         print(\"L\",end=\" \")\n",
    "    elif (i==3):\n",
    "         print(\"L\",end=\" \")\n",
    "    elif (i==4):\n",
    "         print(\"O\",end=\" \")\n",
    "    print()"
   ]
  },
  {
   "cell_type": "code",
   "execution_count": 83,
   "id": "bb2affa6",
   "metadata": {
    "scrolled": true
   },
   "outputs": [
    {
     "name": "stdout",
     "output_type": "stream",
     "text": [
      "B\n",
      "O 0 \n",
      "F 0 0 \n",
      "F 0 0 0 \n",
      "I 0 0 0 0 \n",
      "N 0 0 0 0 0 \n",
      "s 0 0 0 0 0 0 \n"
     ]
    }
   ],
   "source": [
    "for i in range (0,7):\n",
    "    if(i==0):\n",
    "        print(\"B\",end=\"\")\n",
    "    elif(i==1):\n",
    "        print(\"O\",end=\" \")\n",
    "    elif(i==2):\n",
    "        print(\"F\",end=\" \")\n",
    "    elif(i==3):\n",
    "        print(\"F\",end=\" \")\n",
    "    elif(i==4):\n",
    "        print(\"I\",end=\" \")\n",
    "    elif(i==5):\n",
    "        print(\"N\",end=\" \")\n",
    "    elif(i==6):\n",
    "        print(\"s\",end=\" \")\n",
    "    for j in range(0,i):\n",
    "        print(0,end=\" \")\n",
    "    print()"
   ]
  },
  {
   "cell_type": "code",
   "execution_count": 221,
   "id": "1941bdd3",
   "metadata": {},
   "outputs": [
    {
     "name": "stdout",
     "output_type": "stream",
     "text": [
      "          L \n",
      "        A * \n",
      "      R * * \n",
      "    O * * * \n",
      "  M * * * * \n"
     ]
    }
   ],
   "source": [
    "for i in range (0,5):\n",
    "    for j in range (i,5):\n",
    "        print(\" \", end=\" \")\n",
    "    if(i==0):\n",
    "        print(\"L \",end=\"\")\n",
    "    el   if(i==1 and j==4):\n",
    "        print(\"A\",end=\" \")\n",
    "    elif(i==2 and j==4):\n",
    "        print(\"R\",end=\" \")\n",
    "    elif(i==3 and j==4):\n",
    "        print(\"O\",end=\" \")\n",
    "    elif(i==4 and j==4):\n",
    "        print(\"M\",end=\" \")\n",
    "    for k in range (0,i):\n",
    "        print(\"*\", end=\" \")\n",
    "    \n",
    "   \n",
    "    print ()"
   ]
  },
  {
   "cell_type": "code",
   "execution_count": 46,
   "id": "c701bf99",
   "metadata": {},
   "outputs": [
    {
     "name": "stdout",
     "output_type": "stream",
     "text": [
      "          L \n",
      "        A *\n",
      "      R * * \n",
      "    O * * * \n",
      "  M O R A L \n"
     ]
    }
   ],
   "source": [
    "for i in range (0,5):\n",
    "    for j in range (i,5):\n",
    "        print(\" \",end=\" \")\n",
    "    if(i==0):\n",
    "        print(\"L \",end=\"\")\n",
    "    elif(i==1 and j==4):\n",
    "        print(\"A\",end=\" \")\n",
    "    elif(i==2 and j==4):\n",
    "        print(\"R\",end=\" \")\n",
    "    elif(i==3 and j==4):\n",
    "        print(\"O\",end=\" \")\n",
    "    elif(i==4 and j==4):\n",
    "        print(\"M\",end=\" \")\n",
    "    for k in range (0,i):\n",
    "        if(i==1 and k==0 ):\n",
    "            print(\"*\",end=\"\")\n",
    "        elif(i==2 and k==0):\n",
    "            print(\"*\",end=\" \")\n",
    "        elif(i==2 and k==1):\n",
    "            print(\"*\",end=\" \")\n",
    "        elif(i==3 and k==0):\n",
    "            print(\"*\",end=\" \")\n",
    "        elif(i==3 and k==1):\n",
    "            print(\"*\",end=\" \")\n",
    "        elif(i==3 and k==2):\n",
    "            print(\"*\",end=\" \")\n",
    "        elif(i==4 and k==0):\n",
    "            print(\"O\",end=\" \")\n",
    "        elif(i==4 and k==1):\n",
    "            print(\"R\",end=\" \")\n",
    "        elif(i==4 and k==2):\n",
    "            print(\"A\",end=\" \")\n",
    "        elif(i==4 and k==3):\n",
    "            print(\"L\",end=\" \")\n",
    "           \n",
    "        \n",
    "    \n",
    "   \n",
    "    print ()\n",
    "        "
   ]
  },
  {
   "cell_type": "code",
   "execution_count": 165,
   "id": "82625195",
   "metadata": {},
   "outputs": [
    {
     "name": "stdout",
     "output_type": "stream",
     "text": [
      "   *   *   *   *   * \n",
      "    *   *   *   * \n",
      "     *   *   * \n",
      "   *  *  *   * \n",
      " *  *   *   * \n"
     ]
    }
   ],
   "source": [
    "for i in range (1,6):\n",
    "    for j in range (0,i):\n",
    "        print(\"\",end=\" \")\n",
    "        if(i==4 and j==1):\n",
    "            print(\" *\",end=\"\")\n",
    "        elif(i==4 and j==3):\n",
    "            print(\"*\",end=\"\")\n",
    "        elif(i==5 and j==0):\n",
    "            print(\"*\",end=\"\")\n",
    "        elif(i==5 and j==2):\n",
    "            print(\"* \",end=\"\")\n",
    "        elif(i==5 and j==4):\n",
    "            print(\"* \",end=\"\")\n",
    "        \n",
    "        \n",
    "            \n",
    "            \n",
    "            \n",
    "    for k in range (i,6):\n",
    "        print(\"  *\",end=\" \")\n",
    "    print()\n"
   ]
  },
  {
   "cell_type": "code",
   "execution_count": 223,
   "id": "4c3d3956",
   "metadata": {},
   "outputs": [
    {
     "name": "stdout",
     "output_type": "stream",
     "text": [
      "*   *   * \n",
      "  *   *   \n",
      "    *     \n",
      "    * \n",
      "  *   * \n",
      "*   *   * \n"
     ]
    }
   ],
   "source": [
    "for i in range (0,6):\n",
    "    for j in range (0,6):\n",
    "        \n",
    "        if(i==0 and j==0):\n",
    "            print(\"*\",end=\" \")\n",
    "        elif(i==0 and j==1):\n",
    "            print(\" \",end=\" \")\n",
    "        elif(i==0 and j==2):\n",
    "            print(\"*\",end=\" \")\n",
    "        elif(i==0 and j==3):\n",
    "            print(\" \",end=\" \")\n",
    "        elif(i==0 and j==4):\n",
    "            print(\"*\",end=\" \")\n",
    "        elif(i==1 and j==0):\n",
    "            print(\" \",end=\" \")\n",
    "        elif(i==1 and j==1):\n",
    "            print(\"*\",end=\" \")\n",
    "        elif(i==1 and j==2):\n",
    "            print(\"\",end=\" \")\n",
    "        elif(i==1 and j==3):\n",
    "            print(\" *\",end=\" \")\n",
    "        elif(i==1 and j==4):\n",
    "            print(\" \",end=\" \")\n",
    "        elif(i==2 and j==0):\n",
    "            print(\" \",end=\" \")\n",
    "        elif(i==2 and j==1):\n",
    "            print(\"\",end=\" \")\n",
    "        elif(i==2 and j==2):\n",
    "            print(\"\",end=\" \")\n",
    "        elif(i==2 and j==3):\n",
    "            print(\"* \",end=\" \")\n",
    "        elif(i==2 and j==4):\n",
    "            print(\"  \",end=\" \")\n",
    "        elif(i==3 and j==0):\n",
    "            print(\" \",end=\" \")\n",
    "        elif(i==3 and j==1):\n",
    "            print(\" \",end=\" \")\n",
    "        elif(i==3 and j==2):\n",
    "            print(\"* \",end=\"\")\n",
    "        elif(i==4 and j==2):\n",
    "            print(\"  *\",end=\" \")\n",
    "        elif(i==4 and j==4):\n",
    "            print(\"  *\",end=\" \")\n",
    "        elif(i==5 and j==1):\n",
    "            print(\"*\",end=\" \")\n",
    "        elif(i==5 and j==3):\n",
    "            print(\"  *\",end=\" \")\n",
    "        elif(i==5 and j==5):\n",
    "            print(\"  *\",end=\" \")\n",
    "            \n",
    "            \n",
    "    \n",
    "    \n",
    "    \n",
    "    print()"
   ]
  },
  {
   "cell_type": "code",
   "execution_count": 249,
   "id": "a0d39703",
   "metadata": {},
   "outputs": [
    {
     "name": "stdout",
     "output_type": "stream",
     "text": [
      "*   *   * \n",
      "  *   * \n",
      "    * \n",
      "    *\n",
      "  *   * \n",
      "*   *   * \n"
     ]
    }
   ],
   "source": [
    "for i in range (0,6):\n",
    "    for j in range (0,6):\n",
    "        \n",
    "        if(i==0 and j==0):\n",
    "            print(\"*\",end=\" \")\n",
    "        elif(i==0 and j==2):\n",
    "            print(\"  *\",end=\" \")\n",
    "        elif(i==0 and j==4):\n",
    "            print(\"  *\",end=\" \")\n",
    "        elif(i==1 and j==1):\n",
    "            print(\"  *\",end=\" \")\n",
    "        elif(i==1 and j==3):\n",
    "            print(\"  *\",end=\" \")\n",
    "        elif(i==2 and j==3):\n",
    "            print(\"    *\",end=\" \")\n",
    "        elif(i==3 and j==3):\n",
    "            print(\"    *\",end=\"\")\n",
    "        elif(i==4 and j==2):\n",
    "            print(\"  *\",end=\" \")\n",
    "        elif(i==4 and j==4):\n",
    "            print(\"  *\",end=\" \")\n",
    "        elif(i==5 and j==1):\n",
    "            print(\"*\",end=\" \")\n",
    "        elif(i==5 and j==3):\n",
    "            print(\"  *\",end=\" \")\n",
    "        elif(i==5 and j==5):\n",
    "            print(\"  *\",end=\" \")\n",
    "            \n",
    "    print()"
   ]
  },
  {
   "cell_type": "code",
   "execution_count": 284,
   "id": "1a83e022",
   "metadata": {},
   "outputs": [
    {
     "name": "stdout",
     "output_type": "stream",
     "text": [
      "*   *   * \n",
      "  *   * \n",
      "    * \n",
      "  *   *\n",
      "*   *   * \n"
     ]
    }
   ],
   "source": [
    "for i in range (0,5):\n",
    "    for j in range (0,5):\n",
    "        \n",
    "        if(i==0 and j==0):\n",
    "            print(\"*\",end=\" \")\n",
    "        elif(i==0 and j==2):\n",
    "            print(\"  *\",end=\" \")\n",
    "        elif(i==0 and j==4):\n",
    "            print(\"  *\",end=\" \")\n",
    "        elif(i==1 and j==1):\n",
    "            print(\"  *\",end=\" \")\n",
    "        elif(i==1 and j==3):\n",
    "            print(\"  *\",end=\" \")\n",
    "        elif(i==2 and j==3):\n",
    "            print(\"    *\",end=\" \")\n",
    "        elif(i==3 and j==1):\n",
    "            print(\"  *\",end=\"\")\n",
    "        elif(i==3 and j==4):\n",
    "            print(\"   *\",end=\"\")\n",
    "        elif(i==4 and j==0):\n",
    "            print(\"*\",end=\" \")\n",
    "        elif(i==4 and j==2):\n",
    "            print(\"  *\",end=\" \")\n",
    "        elif(i==4 and j==4):\n",
    "            print(\"  *\",end=\" \")\n",
    "        \n",
    "            \n",
    "    print()"
   ]
  },
  {
   "cell_type": "code",
   "execution_count": 122,
   "id": "5a1b8695",
   "metadata": {},
   "outputs": [
    {
     "name": "stdout",
     "output_type": "stream",
     "text": [
      "* * * \n",
      " * * \n",
      "  * \n",
      " * * \n",
      "* * * \n"
     ]
    }
   ],
   "source": [
    "#H.W theis program is better versiion of previous version (if we inrease space it will be seen like above diagram)\n",
    "for i in range (0,5):\n",
    "    if(i==0 or i==1 or i==2):\n",
    "        for j in range (0,i):\n",
    "            print(\" \",end=\"\")\n",
    "        for k in range (i,3):\n",
    "            print(\"*\",end=\" \")\n",
    "        print()\n",
    "    else:\n",
    "        for l in range(i,4):\n",
    "            print(\" \",end=\"\")\n",
    "        for m in range (1,i):\n",
    "            print(\"*\",end=\" \")\n",
    "        print()"
   ]
  },
  {
   "cell_type": "code",
   "execution_count": 36,
   "id": "66a758b8",
   "metadata": {},
   "outputs": [
    {
     "name": "stdout",
     "output_type": "stream",
     "text": [
      " + + +\n",
      "  + +\n",
      "   +\n",
      "  + +\n",
      " + + +\n"
     ]
    }
   ],
   "source": [
    "for i in range (0,5):\n",
    "    if(i==0 or i==1 or i==2):\n",
    "        for j in range (0,i):\n",
    "            print(\" \",end=\"\")\n",
    "        for k in range (i,3):\n",
    "            print(\" +\",end=\"\")\n",
    "        print()\n",
    "    else:\n",
    "        for l in range(i,4):\n",
    "            print(\" \",end=\"\")\n",
    "        for m in range (1,i):\n",
    "            print(\" +\",end=\"\")\n",
    "        print()"
   ]
  },
  {
   "cell_type": "code",
   "execution_count": 7,
   "id": "548c10dd",
   "metadata": {},
   "outputs": [
    {
     "name": "stdout",
     "output_type": "stream",
     "text": [
      "* * * \n",
      " * * \n",
      "  * \n"
     ]
    }
   ],
   "source": [
    "for i in range (0,5):\n",
    "    if(i==0 or i==1 or i==2):\n",
    "        for j in range (0,i):\n",
    "            print(\" \",end=\"\")\n",
    "        for k in range (i,3):\n",
    "            print(\"*\",end=\" \")\n",
    "        print()"
   ]
  },
  {
   "cell_type": "code",
   "execution_count": 38,
   "id": "e028a28d",
   "metadata": {},
   "outputs": [
    {
     "name": "stdout",
     "output_type": "stream",
     "text": [
      " H * * \n",
      "  E * \n",
      "   L\n",
      "  + L \n",
      "+ +  o \n"
     ]
    }
   ],
   "source": [
    "#H.W #\n",
    "for i in range (1,6):\n",
    "    if(i==1 or i==2 or i==3):\n",
    "        for j in range (0,i):\n",
    "            print(\" \",end=\"\")\n",
    "        if(i==1):\n",
    "             print(\"H \",end=\"\")\n",
    "        elif(i==2 and j==1):\n",
    "             print(\"E \",end=\"\")\n",
    "        elif(i==3 and j==2):\n",
    "             print(\"L\",end=\"\")\n",
    "                \n",
    "        for k in range (i,3):\n",
    "            print(\"*\",end=\" \")\n",
    "        \n",
    "        print()\n",
    "        \n",
    "    else:\n",
    "        for a in range (i,5):\n",
    "            print(\"  \",end=\"\")\n",
    "        for l in range (3,i):\n",
    "            print(\"+\",end=\" \")\n",
    "        for b in range (i,6):\n",
    "            if(b==3):\n",
    "                print(\"L\",end=\" \")\n",
    "            elif(b==4):\n",
    "                print(\"L\",end=\" \")\n",
    "            elif(i==5 and b==5):\n",
    "                print(\" o\",end=\" \")           \n",
    "        \n",
    "        print()\n",
    "        "
   ]
  },
  {
   "cell_type": "code",
   "execution_count": 89,
   "id": "54b357db",
   "metadata": {},
   "outputs": [
    {
     "name": "stdout",
     "output_type": "stream",
     "text": [
      "  * \n",
      " * * \n",
      "* * * * * \n",
      "     * * \n",
      "      * \n"
     ]
    }
   ],
   "source": [
    "for i in range (1,6):\n",
    "    if(i==1 or i==2):\n",
    "        for j in range(i,3):\n",
    "            print(\" \",end=\"\")\n",
    "        for k in range(0,i):\n",
    "            print(\"*\",end=\" \")\n",
    "        print()\n",
    "    elif(i==3):\n",
    "        for l in range (0,5):\n",
    "            print(\"*\",end=\" \")\n",
    "        print()\n",
    "    else:\n",
    "        for m in range(0,2):\n",
    "            print(\" \",end=\" \")\n",
    "        for n in range(3,i):\n",
    "            print(\" \",end=\"\")\n",
    "        for o in range(i,6):\n",
    "            print(\"*\",end=\" \")\n",
    "        print()"
   ]
  },
  {
   "cell_type": "code",
   "execution_count": 38,
   "id": "b5f4d0c7",
   "metadata": {},
   "outputs": [
    {
     "name": "stdout",
     "output_type": "stream",
     "text": [
      "  + \n",
      " + + \n",
      "+ + + + + \n",
      "     + + \n",
      "      + \n"
     ]
    }
   ],
   "source": [
    "for i in range (1,6):\n",
    "    if (i==1 or i==2):\n",
    "        for j in range (i,3):\n",
    "            print(\" \", end=\"\")\n",
    "        for k in range (0,i):\n",
    "            print(\"+\",end=\" \")\n",
    "        print()\n",
    "    elif(i==3):\n",
    "        for l in range (1,6):\n",
    "            print(\"+\",end=\" \")\n",
    "        print()\n",
    "    else:\n",
    "        for k in range(0,2):\n",
    "            print(\" \",end=\" \")\n",
    "        for m in range (3,i):\n",
    "            print(\" \",end=\"\")\n",
    "        for l in range(i,6):\n",
    "            print(\"+\", end=\" \")\n",
    "        print()"
   ]
  },
  {
   "cell_type": "code",
   "execution_count": 39,
   "id": "544f26ab",
   "metadata": {},
   "outputs": [
    {
     "name": "stdout",
     "output_type": "stream",
     "text": [
      "1 \n",
      "2 2 \n",
      "3 3 3 \n",
      "4 4 4 4 \n",
      "5 5 5 5 5 \n"
     ]
    }
   ],
   "source": [
    "for i in range(1,6):\n",
    "    for j in range(0,i):\n",
    "        print(i,end=\" \")\n",
    "    print()"
   ]
  },
  {
   "cell_type": "code",
   "execution_count": 45,
   "id": "694c8b78",
   "metadata": {},
   "outputs": [
    {
     "name": "stdout",
     "output_type": "stream",
     "text": [
      "5 4 3 2 1 \n",
      "5 4 3 2 1 \n",
      "5 4 3 2 1 \n"
     ]
    }
   ],
   "source": [
    "for i in range(1,4):\n",
    "    n=5\n",
    "    for j in range(0,5):\n",
    "        print(n,end=\" \")\n",
    "        n=n-1\n",
    "    print()"
   ]
  },
  {
   "cell_type": "code",
   "execution_count": 46,
   "id": "054c1402",
   "metadata": {},
   "outputs": [
    {
     "name": "stdout",
     "output_type": "stream",
     "text": [
      "1 2 3 4 \n",
      "1 2 3 4 \n",
      "1 2 3 4 \n",
      "1 2 3 4 \n"
     ]
    }
   ],
   "source": [
    "for i in range(1,5):\n",
    "    for j in range(1,5):\n",
    "        print(j,end=\" \")\n",
    "    print()"
   ]
  },
  {
   "cell_type": "code",
   "execution_count": null,
   "id": "01894d39",
   "metadata": {},
   "outputs": [],
   "source": []
  }
 ],
 "metadata": {
  "kernelspec": {
   "display_name": "Python 3 (ipykernel)",
   "language": "python",
   "name": "python3"
  },
  "language_info": {
   "codemirror_mode": {
    "name": "ipython",
    "version": 3
   },
   "file_extension": ".py",
   "mimetype": "text/x-python",
   "name": "python",
   "nbconvert_exporter": "python",
   "pygments_lexer": "ipython3",
   "version": "3.9.13"
  }
 },
 "nbformat": 4,
 "nbformat_minor": 5
}
