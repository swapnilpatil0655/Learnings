{
 "cells": [
  {
   "cell_type": "code",
   "execution_count": null,
   "id": "7ab12c1d",
   "metadata": {},
   "outputs": [],
   "source": [
    "import pandas as pd"
   ]
  },
  {
   "cell_type": "code",
   "execution_count": null,
   "id": "0174d8a5",
   "metadata": {},
   "outputs": [],
   "source": [
    "pip install pandas"
   ]
  },
  {
   "cell_type": "code",
   "execution_count": null,
   "id": "e72abea7",
   "metadata": {},
   "outputs": [],
   "source": [
    "data = pd.read_csv(\"Cookie Types\")"
   ]
  },
  {
   "cell_type": "code",
   "execution_count": null,
   "id": "9e04deab",
   "metadata": {},
   "outputs": [],
   "source": [
    "data = pd.read_csv(r\"‪C:\\Users\\swapn\\Downloads\\books_new.csv\")"
   ]
  },
  {
   "cell_type": "code",
   "execution_count": null,
   "id": "73d3c7c6",
   "metadata": {},
   "outputs": [],
   "source": []
  }
 ],
 "metadata": {
  "kernelspec": {
   "display_name": "Python 3 (ipykernel)",
   "language": "python",
   "name": "python3"
  },
  "language_info": {
   "codemirror_mode": {
    "name": "ipython",
    "version": 3
   },
   "file_extension": ".py",
   "mimetype": "text/x-python",
   "name": "python",
   "nbconvert_exporter": "python",
   "pygments_lexer": "ipython3",
   "version": "3.9.13"
  }
 },
 "nbformat": 4,
 "nbformat_minor": 5
}
