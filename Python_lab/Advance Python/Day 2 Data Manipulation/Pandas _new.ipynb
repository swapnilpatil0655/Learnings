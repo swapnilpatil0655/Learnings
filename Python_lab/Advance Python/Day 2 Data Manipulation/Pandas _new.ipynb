{
 "cells": [
  {
   "cell_type": "markdown",
   "id": "b2c36bfe",
   "metadata": {},
   "source": [
    "What is Pandas?\n",
    "Pandas is a Python library used for working with data sets.\n",
    "\n",
    "It has functions for analyzing, cleaning, exploring, and manipulating data."
   ]
  },
  {
   "cell_type": "markdown",
   "id": "48567554",
   "metadata": {},
   "source": [
    "Why Use Pandas?\n",
    "Pandas allows us to analyze big data and make conclusions based on statistical theories.\n",
    "\n",
    "Pandas can clean messy data sets, and make them readable and relevant.\n",
    "\n",
    "Relevant data is very important in data science."
   ]
  },
  {
   "cell_type": "markdown",
   "id": "23bfb8b6",
   "metadata": {},
   "source": [
    "What Can Pandas Do?\n",
    "Pandas gives you answers about the data. Like:\n",
    "\n",
    "Is there a correlation between two or more columns?\n",
    "What is average value?\n",
    "Max value?\n",
    "Min value?\n",
    "Pandas are also able to delete rows that are not relevant, or contains wrong values, like empty or NULL values. \n",
    "This is called cleaning the data."
   ]
  },
  {
   "cell_type": "code",
   "execution_count": null,
   "id": "1011382a",
   "metadata": {},
   "outputs": [],
   "source": [
    "#Installation of Pandas\n",
    "pip install pandas"
   ]
  },
  {
   "cell_type": "markdown",
   "id": "2ebcfb56",
   "metadata": {},
   "source": [
    "# What is pandas series ?\n",
    "Pandas Series is a one-dimensional labeled array capable of holding data of any type \n",
    "(integer, string, float, python objects, etc.). \n",
    "The axis labels are collectively called index. \n",
    "Pandas Series is nothing but a column in an excel sheet."
   ]
  },
  {
   "cell_type": "markdown",
   "id": "67bec31c",
   "metadata": {},
   "source": [
    "In the real world, a Pandas Series will be created by loading the datasets from existing storage, \n",
    "storage can be SQL Database, CSV file, and Excel file. Pandas Series can be created from the lists, dictionary, \n",
    "and from a scalar value etc. \n",
    "Series can be created in different ways, here are some ways by which we create a series:"
   ]
  },
  {
   "cell_type": "code",
   "execution_count": 3,
   "id": "3e3e11e1",
   "metadata": {},
   "outputs": [
    {
     "name": "stdout",
     "output_type": "stream",
     "text": [
      "0    11\n",
      "1    77\n",
      "2    22\n",
      "dtype: int64\n"
     ]
    }
   ],
   "source": [
    "#Creating series from python list.Here we are getting labels in the form of default sr nos\n",
    "import pandas as pd\n",
    "a = [11, 77, 22]\n",
    "myvar = pd.Series(a)\n",
    "print(myvar)"
   ]
  },
  {
   "cell_type": "code",
   "execution_count": 4,
   "id": "cabcaa2a",
   "metadata": {},
   "outputs": [
    {
     "name": "stdout",
     "output_type": "stream",
     "text": [
      "x    11\n",
      "y    78\n",
      "z    42\n",
      "dtype: int64\n"
     ]
    }
   ],
   "source": [
    "#Create your own labels:\n",
    "\n",
    "import pandas as pd\n",
    "a = [11, 78, 42]\n",
    "myvar = pd.Series(a, index = [\"x\", \"y\", \"z\"])\n",
    "print(myvar)"
   ]
  },
  {
   "cell_type": "code",
   "execution_count": 5,
   "id": "2ee9540e",
   "metadata": {},
   "outputs": [
    {
     "name": "stdout",
     "output_type": "stream",
     "text": [
      "78\n"
     ]
    }
   ],
   "source": [
    "#When you have created labels, you can access an item by referring to the label.\n",
    "print(myvar[\"y\"])"
   ]
  },
  {
   "cell_type": "code",
   "execution_count": 9,
   "id": "487cb978",
   "metadata": {},
   "outputs": [
    {
     "name": "stdout",
     "output_type": "stream",
     "text": [
      "day1    420\n",
      "day2    380\n",
      "day3    390\n",
      "dtype: int64\n"
     ]
    }
   ],
   "source": [
    "#Create a simple Pandas Series from a dictionary:\n",
    "import pandas as pd\n",
    "calories = {\"day1\": 420, \"day2\": 380, \"day3\": 390}\n",
    "myvar = pd.Series(calories)\n",
    "print(myvar)"
   ]
  },
  {
   "cell_type": "code",
   "execution_count": 5,
   "id": "fb815ba0",
   "metadata": {},
   "outputs": [
    {
     "name": "stdout",
     "output_type": "stream",
     "text": [
      "day1    420\n",
      "day2    380\n",
      "day3    390\n",
      "dtype: int64\n"
     ]
    }
   ],
   "source": [
    "#Create a Series using only data from \"day1\" and \"day2\": CHOOSE specific labels to create series\n",
    "\n",
    "import pandas as pd\n",
    "calories = {\"day1\": 420, \"day2\": 380, \"day3\": 390}\n",
    "myvar = pd.Series(calories, index = [\"day1\", \"day2\", \"day3\"])\n",
    "print(myvar)\n",
    "\n",
    "\n"
   ]
  },
  {
   "cell_type": "code",
   "execution_count": 10,
   "id": "f7fa084e",
   "metadata": {},
   "outputs": [
    {
     "name": "stdout",
     "output_type": "stream",
     "text": [
      "0    b\n",
      "1    o\n",
      "2    f\n",
      "3    f\n",
      "4    i\n",
      "5    n\n",
      "6    s\n",
      "dtype: object\n"
     ]
    }
   ],
   "source": [
    "# Creating series using ndarray\n",
    "import pandas as pd\n",
    "import numpy as np \n",
    "\n",
    "data = np.array(['b','o','f','f','i','n','s']) \n",
    "ser = pd.Series(data)\n",
    "print(ser)"
   ]
  },
  {
   "cell_type": "code",
   "execution_count": 12,
   "id": "a2199982",
   "metadata": {},
   "outputs": [
    {
     "name": "stdout",
     "output_type": "stream",
     "text": [
      "0    b\n",
      "1    o\n",
      "2    f\n",
      "3    f\n",
      "4    i\n",
      "5    n\n",
      "6    s\n",
      "dtype: object\n"
     ]
    }
   ],
   "source": [
    "#Creating series from the list\n",
    "import pandas as pd \n",
    "List = ['b','o','f','f','i','n','s'] \n",
    "ser = pd.Series(List)\n",
    "print(ser)"
   ]
  },
  {
   "cell_type": "markdown",
   "id": "7ade8113",
   "metadata": {},
   "source": [
    "There are two ways through which we can access element of series, they are :\n",
    "Accessing Element from Series with Position\n",
    "Accessing Element Using Label (index)"
   ]
  },
  {
   "cell_type": "code",
   "execution_count": 13,
   "id": "73d945db",
   "metadata": {},
   "outputs": [
    {
     "name": "stdout",
     "output_type": "stream",
     "text": [
      "0    b\n",
      "1    o\n",
      "2    f\n",
      "3    f\n",
      "4    i\n",
      "dtype: object\n"
     ]
    }
   ],
   "source": [
    "#Accessing first 5 elements of Series\n",
    "\n",
    "import pandas as pd\n",
    "import numpy as np\n",
    " \n",
    "data = np.array(['b','o','f','f','i','n','s'])\n",
    "ser = pd.Series(data)  \n",
    "#retrieve the first element\n",
    "print(ser[:5])"
   ]
  },
  {
   "cell_type": "markdown",
   "id": "a8e97128",
   "metadata": {},
   "source": [
    "Accessing Element Using Label (index) :\n",
    "In order to access an element from series, we have to set values by index label. \n",
    "A Series is like a fixed-size dictionary in that you can get and set values by index label.\n",
    "Accessing a single element using index label"
   ]
  },
  {
   "cell_type": "code",
   "execution_count": 6,
   "id": "14738ed9",
   "metadata": {},
   "outputs": [
    {
     "name": "stdout",
     "output_type": "stream",
     "text": [
      "1    b\n",
      "2    o\n",
      "3    f\n",
      "4    f\n",
      "5    i\n",
      "6    n\n",
      "7    s\n",
      "dtype: object\n",
      "f\n"
     ]
    }
   ],
   "source": [
    "import pandas as pd\n",
    "import numpy as np \n",
    "# creating simple array\n",
    "data = np.array(['b','o','f','f','i','n','s'])\n",
    "ser = pd.Series(data,index=[1,2,3,4,5,6,7]) \n",
    "print(ser)  \n",
    "# accessing a element using index element\n",
    "print(ser[4])"
   ]
  },
  {
   "cell_type": "code",
   "execution_count": 14,
   "id": "ab249d1c",
   "metadata": {},
   "outputs": [
    {
     "data": {
      "text/plain": [
       "pandas.core.series.Series"
      ]
     },
     "execution_count": 14,
     "metadata": {},
     "output_type": "execute_result"
    }
   ],
   "source": [
    "# Reading and creating data from csv file using column name \n",
    "import pandas as pd\n",
    "df = pd.read_csv(\"mtcars.csv\")    \n",
    "df\n",
    "ser = pd.Series(df['mpg']) \n",
    "data = ser.tail(3)\n",
    "data = ser.head(6)\n",
    "type(data) "
   ]
  },
  {
   "cell_type": "code",
   "execution_count": 17,
   "id": "15856872",
   "metadata": {},
   "outputs": [
    {
     "data": {
      "text/plain": [
       "3    21.4\n",
       "4    18.7\n",
       "5    18.1\n",
       "Name: mpg, dtype: float64"
      ]
     },
     "execution_count": 17,
     "metadata": {},
     "output_type": "execute_result"
    }
   ],
   "source": [
    "#slicing can be use using .loc function\n",
    "import pandas as pd\n",
    "df = pd.read_csv(\"education.csv\")    \n",
    "df\n",
    "ser = pd.Series(df['gmat'])  \n",
    "data.loc[3:6]"
   ]
  },
  {
   "cell_type": "code",
   "execution_count": null,
   "id": "2381864a",
   "metadata": {},
   "outputs": [],
   "source": []
  },
  {
   "cell_type": "markdown",
   "id": "afd6207e",
   "metadata": {},
   "source": [
    "# Pandas Series\n",
    "\n",
    "1. One-dimensional\n",
    "\n",
    "2. Homogenous – Series elements must be of the same data type.\n",
    "\n",
    "3. Size-immutable – Once created, the size of a Series object cannot be changed.\n"
   ]
  },
  {
   "cell_type": "markdown",
   "id": "9ec02ba7",
   "metadata": {},
   "source": [
    "## Pandas DataFrame\n",
    "\n",
    "1. Two-dimensional\n",
    "2. Heterogenous – DataFrame elements can have different data types.\n",
    "3. Size-mutable – Elements can be dropped or added in an existing DataFrame."
   ]
  },
  {
   "cell_type": "code",
   "execution_count": 18,
   "id": "1d985633",
   "metadata": {},
   "outputs": [
    {
     "name": "stdout",
     "output_type": "stream",
     "text": [
      "    cars  passings\n",
      "0    BMW         3\n",
      "1  Volvo         7\n",
      "2   Ford         2\n"
     ]
    }
   ],
   "source": [
    "import pandas\n",
    "mydataset = {'cars': [\"BMW\", \"Volvo\", \"Ford\"], 'passings': [3, 7, 2]}\n",
    "myvar = pandas.DataFrame(mydataset)\n",
    "print(myvar)"
   ]
  },
  {
   "cell_type": "code",
   "execution_count": null,
   "id": "bfa6cea2",
   "metadata": {},
   "outputs": [],
   "source": [
    "# creating th e dataframe\n",
    "import pandas as pd\n",
    "\n",
    "data = {\"name\": [\"Chandler Bing\", \"Harry Kane\", \"John Doe\", \"Joey Tribbiani\",  \"Monica Geller\"],\n",
    "        \"Activity\": [\"party\", \"Football\", \"beach\", \"party\", \"travel\"]}\n",
    "data = pd.DataFrame(data)\n",
    "data"
   ]
  },
  {
   "cell_type": "code",
   "execution_count": 3,
   "id": "af106cdc",
   "metadata": {},
   "outputs": [
    {
     "name": "stdout",
     "output_type": "stream",
     "text": [
      "    cars  passings\n",
      "0    BMW         3\n",
      "1  Volvo         7\n",
      "2   Ford         2\n"
     ]
    }
   ],
   "source": [
    "#Pandas using alias\n",
    "import pandas as pd\n",
    "mydataset = {\n",
    "  'cars': [\"BMW\", \"Volvo\", \"Ford\"],\n",
    "  'passings': [3, 7, 2]\n",
    "}\n",
    "\n",
    "myvar = pd.DataFrame(mydataset)\n",
    "print(myvar)"
   ]
  },
  {
   "cell_type": "code",
   "execution_count": 4,
   "id": "f7f2b509",
   "metadata": {},
   "outputs": [
    {
     "name": "stdout",
     "output_type": "stream",
     "text": [
      "1.4.2\n"
     ]
    }
   ],
   "source": [
    "#Checking Pandas Version\n",
    "import pandas as pd\n",
    "print(pd.__version__)"
   ]
  },
  {
   "cell_type": "code",
   "execution_count": 5,
   "id": "45eb5fe9",
   "metadata": {},
   "outputs": [
    {
     "name": "stdout",
     "output_type": "stream",
     "text": [
      "0     1\n",
      "1     7\n",
      "2     2\n",
      "3    33\n",
      "4    55\n",
      "5    55\n",
      "dtype: int64\n"
     ]
    }
   ],
   "source": [
    "#What is a Series in pandas?\n",
    "#A Pandas Series is like a column in a table.\n",
    "#It is a one-dimensional array holding data of any type.\n",
    "\n",
    "import pandas as pd\n",
    "a = [1, 7, 2, 33, 55 ,55]\n",
    "myvar = pd.Series(a)\n",
    "print(myvar)"
   ]
  },
  {
   "cell_type": "code",
   "execution_count": null,
   "id": "70f0b4e6",
   "metadata": {},
   "outputs": [],
   "source": []
  },
  {
   "cell_type": "code",
   "execution_count": 20,
   "id": "e8c8fffd",
   "metadata": {},
   "outputs": [
    {
     "data": {
      "text/html": [
       "<div>\n",
       "<style scoped>\n",
       "    .dataframe tbody tr th:only-of-type {\n",
       "        vertical-align: middle;\n",
       "    }\n",
       "\n",
       "    .dataframe tbody tr th {\n",
       "        vertical-align: top;\n",
       "    }\n",
       "\n",
       "    .dataframe thead th {\n",
       "        text-align: right;\n",
       "    }\n",
       "</style>\n",
       "<table border=\"1\" class=\"dataframe\">\n",
       "  <thead>\n",
       "    <tr style=\"text-align: right;\">\n",
       "      <th></th>\n",
       "      <th>x1</th>\n",
       "      <th>x2</th>\n",
       "      <th>x3</th>\n",
       "    </tr>\n",
       "  </thead>\n",
       "  <tbody>\n",
       "    <tr>\n",
       "      <th>101</th>\n",
       "      <td>1</td>\n",
       "      <td>10</td>\n",
       "      <td>0</td>\n",
       "    </tr>\n",
       "    <tr>\n",
       "      <th>102</th>\n",
       "      <td>2</td>\n",
       "      <td>11</td>\n",
       "      <td>1</td>\n",
       "    </tr>\n",
       "    <tr>\n",
       "      <th>103</th>\n",
       "      <td>3</td>\n",
       "      <td>12</td>\n",
       "      <td>2</td>\n",
       "    </tr>\n",
       "    <tr>\n",
       "      <th>104</th>\n",
       "      <td>4</td>\n",
       "      <td>100</td>\n",
       "      <td>3</td>\n",
       "    </tr>\n",
       "    <tr>\n",
       "      <th>105</th>\n",
       "      <td>5</td>\n",
       "      <td>NA</td>\n",
       "      <td>4</td>\n",
       "    </tr>\n",
       "  </tbody>\n",
       "</table>\n",
       "</div>"
      ],
      "text/plain": [
       "     x1   x2  x3\n",
       "101   1   10   0\n",
       "102   2   11   1\n",
       "103   3   12   2\n",
       "104   4  100   3\n",
       "105   5   NA   4"
      ]
     },
     "execution_count": 20,
     "metadata": {},
     "output_type": "execute_result"
    }
   ],
   "source": [
    "# Importing necessary libraries\n",
    "import pandas as pd # importing pandas = > useful for creating dataframes\n",
    "import numpy as np   # importing numpy = > useful for creating numpy arrays\n",
    "\n",
    "# pandas we have series and data frame\n",
    "# series is your single dimension\n",
    "# dataframe is two dimension\n",
    "\n",
    "\n",
    "x1 = [1, 2, 3, 4,5] # list format\n",
    "x2 = [10, 11, 12,100,'NA']  # list format\n",
    "\n",
    "x3 = list(range(5))\n",
    "\n",
    "new_x = list(zip(x1,x2,x3))\n",
    "\n",
    "# Creating a data frame using explicits lists\n",
    "X = pd.DataFrame(new_x, columns= ['x1','x2','x3'],index = [101,102,103,104,105])\n",
    "X\n"
   ]
  },
  {
   "cell_type": "code",
   "execution_count": 25,
   "id": "8715f927",
   "metadata": {},
   "outputs": [
    {
     "name": "stdout",
     "output_type": "stream",
     "text": [
      "         0      1       2\n",
      "0    Spark  20000  35days\n",
      "1  Pyspark  20000  35days\n",
      "2     Java  15000  40days\n",
      "3      PHP  10000  30days\n"
     ]
    }
   ],
   "source": [
    "# Creating from multi list (list of list)\n",
    "courses = [['Spark','20000', '35days'],['Pyspark','20000','35days'],\n",
    "           ['Java','15000','40days'],['PHP','10000','30days']]\n",
    "df = pd.DataFrame(courses, columns= None, index=None )\n",
    "print(df)"
   ]
  },
  {
   "cell_type": "code",
   "execution_count": 27,
   "id": "c8161ae9",
   "metadata": {},
   "outputs": [
    {
     "name": "stdout",
     "output_type": "stream",
     "text": [
      "         0      1       2\n",
      "0    Spark  20000  35days\n",
      "1  PySpark  20000  35days\n",
      "2     Java  15000  40days\n",
      "3      PHP  10000  30days\n"
     ]
    }
   ],
   "source": [
    "technologies =  ['Spark','PySpark','Java','PHP']\n",
    "fee = [20000,20000,15000,10000]\n",
    "duration = ['35days','35days','40days','30days']\n",
    "df = pd.DataFrame(list(zip(technologies,fee,duration)))\n",
    "print(df)"
   ]
  },
  {
   "cell_type": "code",
   "execution_count": 28,
   "id": "f836ca1e",
   "metadata": {},
   "outputs": [
    {
     "name": "stdout",
     "output_type": "stream",
     "text": [
      "    Courses    Fee Duration\n",
      "r0    Spark  20000   35days\n",
      "r1  PySpark  20000   35days\n",
      "r2     Java  15000   40days\n",
      "r3      PHP  10000   30days\n"
     ]
    }
   ],
   "source": [
    "# Create from multiple lists\n",
    "columns=['Courses','Fee','Duration']\n",
    "index=['r0','r1','r2','r3']\n",
    "df = pd.DataFrame(list(zip(technologies, fee,duration)),\n",
    "                 columns=columns,index=index )\n",
    "print(df)"
   ]
  },
  {
   "cell_type": "code",
   "execution_count": 30,
   "id": "619b6282",
   "metadata": {},
   "outputs": [
    {
     "name": "stdout",
     "output_type": "stream",
     "text": [
      "    Courses    Fee Duration\n",
      "r0    Spark  20000   35days\n",
      "r1  PySpark  20000   35days\n",
      "r2     Java  15000   40days\n",
      "r3      PHP  10000   30days\n"
     ]
    }
   ],
   "source": [
    "# Creating from dict of list\n",
    "courses = {'Courses':['Spark','PySpark','Java','PHP'],\n",
    "           'Fee':[20000,20000,15000,10000],\n",
    "           'Duration':['35days','35days','40days','30days']}\n",
    "df = pd.DataFrame(courses,index=index )\n",
    "print(df)\n"
   ]
  },
  {
   "cell_type": "code",
   "execution_count": 31,
   "id": "01716df1",
   "metadata": {},
   "outputs": [
    {
     "data": {
      "text/plain": [
       "x1    float64\n",
       "x2    float64\n",
       "x3      int64\n",
       "dtype: object"
      ]
     },
     "execution_count": 31,
     "metadata": {},
     "output_type": "execute_result"
    }
   ],
   "source": [
    "# Importing necessary libraries\n",
    "import pandas as pd # importing pandas = > useful for creating dataframes\n",
    "import numpy as np   # importing numpy = > useful for creating numpy arrays\n",
    "\n",
    "# pandas we have series and data frame\n",
    "# series is your single dimension\n",
    "# dataframe is two dimension\n",
    "\n",
    "\n",
    "x1 = [1, 2, 3, 4,5,np.nan] # list format\n",
    "x2 = [np.nan, 11, 12,100,np.nan,200]  # list format\n",
    "\n",
    "x3 = list(range(6))\n",
    "\n",
    "new_x = list(zip(x1,x2,x3))\n",
    "\n",
    "# Creating a data frame using explicits lists\n",
    "X = pd.DataFrame(new_x, columns= ['x1','x2','x3'],index = [0,1,2,3,4,5])\n",
    "X.head()\n",
    "# to get missing values\n",
    "X.isnull()\n",
    "X.columns\n",
    "X.dtypes"
   ]
  },
  {
   "cell_type": "code",
   "execution_count": null,
   "id": "1945654d",
   "metadata": {},
   "outputs": [],
   "source": []
  },
  {
   "cell_type": "code",
   "execution_count": null,
   "id": "c79f44fd",
   "metadata": {},
   "outputs": [],
   "source": []
  },
  {
   "cell_type": "code",
   "execution_count": null,
   "id": "64ee1475",
   "metadata": {},
   "outputs": [],
   "source": []
  }
 ],
 "metadata": {
  "kernelspec": {
   "display_name": "Python 3 (ipykernel)",
   "language": "python",
   "name": "python3"
  },
  "language_info": {
   "codemirror_mode": {
    "name": "ipython",
    "version": 3
   },
   "file_extension": ".py",
   "mimetype": "text/x-python",
   "name": "python",
   "nbconvert_exporter": "python",
   "pygments_lexer": "ipython3",
   "version": "3.9.13"
  }
 },
 "nbformat": 4,
 "nbformat_minor": 5
}
