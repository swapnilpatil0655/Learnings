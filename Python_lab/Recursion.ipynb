{
 "cells": [
  {
   "cell_type": "code",
   "execution_count": null,
   "id": "679772ae",
   "metadata": {},
   "outputs": [],
   "source": [
    "import sys\n",
    "sys.getrecursionlimit()\n",
    "sys.setrecursionlimit(100)\n",
    "sys.getrecursionlimit()"
   ]
  },
  {
   "cell_type": "code",
   "execution_count": null,
   "id": "fdb9722a",
   "metadata": {},
   "outputs": [],
   "source": [
    "def name():\n",
    "    print(\"Deepak\")\n",
    "    name()\n",
    "name()"
   ]
  },
  {
   "cell_type": "code",
   "execution_count": null,
   "id": "1feee87f",
   "metadata": {},
   "outputs": [],
   "source": [
    "count=0\n",
    "def name():\n",
    "    global count\n",
    "    count=count+1\n",
    "    print(\"Deepak\",count)\n",
    "    name()\n",
    "name()"
   ]
  },
  {
   "cell_type": "code",
   "execution_count": 4,
   "id": "70eaaf59",
   "metadata": {},
   "outputs": [
    {
     "name": "stdout",
     "output_type": "stream",
     "text": [
      "012345678910"
     ]
    }
   ],
   "source": [
    "def num(n):\n",
    "    if(n<=10):\n",
    "        print(n,end=\"\")\n",
    "        num(n+1)\n",
    "num(0)"
   ]
  },
  {
   "cell_type": "code",
   "execution_count": 2,
   "id": "40eddf67",
   "metadata": {},
   "outputs": [
    {
     "name": "stdout",
     "output_type": "stream",
     "text": [
      "10 9 8 7 6 5 4 3 2 1 0 "
     ]
    }
   ],
   "source": [
    "def num(n):\n",
    "    if(n>=0):\n",
    "        print(n,end=\" \")\n",
    "        num(n-1)\n",
    "num(10)"
   ]
  },
  {
   "cell_type": "code",
   "execution_count": null,
   "id": "be8dc512",
   "metadata": {},
   "outputs": [],
   "source": [
    "def num(n):\n",
    "    if(n%2==0):\n",
    "        print(n,end=\" \")\n",
    "        num(n+1)\n",
    "    else:\n",
    "        num(num+1)\n",
    "num(0)"
   ]
  },
  {
   "cell_type": "code",
   "execution_count": 2,
   "id": "4f0142ae",
   "metadata": {},
   "outputs": [
    {
     "name": "stdout",
     "output_type": "stream",
     "text": [
      "0 2 4 6 8 10 "
     ]
    }
   ],
   "source": [
    "def even(n):\n",
    "    if(n%2==0 and n<=10):\n",
    "        print(n,end=\" \")\n",
    "        even(n+1)\n",
    "    else:\n",
    "        if(n<10):\n",
    "            even(n+1)\n",
    "        \n",
    "even(0)"
   ]
  },
  {
   "cell_type": "code",
   "execution_count": 1,
   "id": "083906ae",
   "metadata": {},
   "outputs": [
    {
     "data": {
      "text/plain": [
       "120"
      ]
     },
     "execution_count": 1,
     "metadata": {},
     "output_type": "execute_result"
    }
   ],
   "source": [
    "#fibonacci\n",
    "def fact(n):\n",
    "    if(n<=1):\n",
    "        return 1\n",
    "    else:\n",
    "        return n*fact(n-1)\n",
    "fact(5)"
   ]
  },
  {
   "cell_type": "code",
   "execution_count": 2,
   "id": "7f66d516",
   "metadata": {},
   "outputs": [
    {
     "name": "stdout",
     "output_type": "stream",
     "text": [
      "1 2 3 5 8 13 21 34 55 done\n"
     ]
    }
   ],
   "source": [
    "def fibo (n1,n2):\n",
    "    n=n1+n2\n",
    "    print(n,end=\" \")\n",
    "    n1=n2\n",
    "    n2=n\n",
    "    if(n==55):\n",
    "        print(\"done\")\n",
    "    else:\n",
    "        return fibo(n1,n2)\n",
    "    \n",
    "fibo(0,1)"
   ]
  },
  {
   "cell_type": "code",
   "execution_count": 15,
   "id": "f534764e",
   "metadata": {},
   "outputs": [
    {
     "ename": "TypeError",
     "evalue": "unsupported operand type(s) for //: 'function' and 'int'",
     "output_type": "error",
     "traceback": [
      "\u001b[1;31m---------------------------------------------------------------------------\u001b[0m",
      "\u001b[1;31mTypeError\u001b[0m                                 Traceback (most recent call last)",
      "\u001b[1;32m~\\AppData\\Local\\Temp\\ipykernel_2552\\1728073520.py\u001b[0m in \u001b[0;36m<module>\u001b[1;34m\u001b[0m\n\u001b[0;32m      8\u001b[0m     \u001b[0mprint\u001b[0m\u001b[1;33m(\u001b[0m\u001b[0mx\u001b[0m\u001b[1;33m)\u001b[0m\u001b[1;33m\u001b[0m\u001b[1;33m\u001b[0m\u001b[0m\n\u001b[0;32m      9\u001b[0m \u001b[1;33m\u001b[0m\u001b[0m\n\u001b[1;32m---> 10\u001b[1;33m \u001b[0ms\u001b[0m\u001b[1;33m(\u001b[0m\u001b[1;33m)\u001b[0m\u001b[1;33m\u001b[0m\u001b[1;33m\u001b[0m\u001b[0m\n\u001b[0m",
      "\u001b[1;32m~\\AppData\\Local\\Temp\\ipykernel_2552\\1728073520.py\u001b[0m in \u001b[0;36ms\u001b[1;34m()\u001b[0m\n\u001b[0;32m      5\u001b[0m     \u001b[0mx\u001b[0m\u001b[1;33m=\u001b[0m\u001b[0ms\u001b[0m\u001b[1;33m\u001b[0m\u001b[1;33m\u001b[0m\u001b[0m\n\u001b[0;32m      6\u001b[0m \u001b[1;33m\u001b[0m\u001b[0m\n\u001b[1;32m----> 7\u001b[1;33m     \u001b[0ms\u001b[0m\u001b[1;33m=\u001b[0m\u001b[0mx\u001b[0m\u001b[1;33m//\u001b[0m\u001b[1;36m10\u001b[0m\u001b[1;33m\u001b[0m\u001b[1;33m\u001b[0m\u001b[0m\n\u001b[0m\u001b[0;32m      8\u001b[0m     \u001b[0mprint\u001b[0m\u001b[1;33m(\u001b[0m\u001b[0mx\u001b[0m\u001b[1;33m)\u001b[0m\u001b[1;33m\u001b[0m\u001b[1;33m\u001b[0m\u001b[0m\n\u001b[0;32m      9\u001b[0m \u001b[1;33m\u001b[0m\u001b[0m\n",
      "\u001b[1;31mTypeError\u001b[0m: unsupported operand type(s) for //: 'function' and 'int'"
     ]
    }
   ],
   "source": [
    "s=6432\n",
    "def s():\n",
    "    global s\n",
    "    \n",
    "    x=s\n",
    "    \n",
    "    s=x//10\n",
    "    print(x)\n",
    "    \n",
    "s()"
   ]
  },
  {
   "cell_type": "code",
   "execution_count": 10,
   "id": "2791b22c",
   "metadata": {},
   "outputs": [
    {
     "data": {
      "text/plain": [
       "13"
      ]
     },
     "execution_count": 10,
     "metadata": {},
     "output_type": "execute_result"
    }
   ],
   "source": [
    "def digit(n):\n",
    "\n",
    "    res=n%10\n",
    "    v=n/10\n",
    "    if(n==0):\n",
    "        return 0\n",
    "    else:\n",
    "        return res+digit(n//10)\n",
    "        \n",
    "digit(247)"
   ]
  },
  {
   "cell_type": "code",
   "execution_count": 29,
   "id": "bbfcb28b",
   "metadata": {},
   "outputs": [
    {
     "name": "stdout",
     "output_type": "stream",
     "text": [
      "248 24 2 0 "
     ]
    },
    {
     "data": {
      "text/plain": [
       "7842"
      ]
     },
     "execution_count": 29,
     "metadata": {},
     "output_type": "execute_result"
    }
   ],
   "source": [
    "ans=0\n",
    "def rev(n):\n",
    "    global ans\n",
    "    rem=n%10\n",
    "    n=n//10\n",
    "    ans=ans*10+rem\n",
    "    print(n,end=\" \")\n",
    "    \n",
    "    \n",
    "    if(n>0):\n",
    "        return rev(n)\n",
    "        print()\n",
    "    else:\n",
    "        return ans\n",
    "        \n",
    "    \n",
    "rev(2487)"
   ]
  }
 ],
 "metadata": {
  "kernelspec": {
   "display_name": "Python 3 (ipykernel)",
   "language": "python",
   "name": "python3"
  },
  "language_info": {
   "codemirror_mode": {
    "name": "ipython",
    "version": 3
   },
   "file_extension": ".py",
   "mimetype": "text/x-python",
   "name": "python",
   "nbconvert_exporter": "python",
   "pygments_lexer": "ipython3",
   "version": "3.9.13"
  }
 },
 "nbformat": 4,
 "nbformat_minor": 5
}
