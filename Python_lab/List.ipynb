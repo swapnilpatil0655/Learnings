{
 "cells": [
  {
   "cell_type": "code",
   "execution_count": 1,
   "id": "a062eca3",
   "metadata": {},
   "outputs": [
    {
     "name": "stdout",
     "output_type": "stream",
     "text": [
      "\n",
      "\n",
      "1\n",
      "120\n",
      "12300\n",
      "1234000\n",
      "123450000\n"
     ]
    }
   ],
   "source": [
    "for i in range (0,7):\n",
    "    for j in range(1,i):\n",
    "        print(j,end=\"\")\n",
    "    \n",
    "    for k in range (2,i):\n",
    "        s=0\n",
    "        print(s,end=\"\")\n",
    "        s=s+1\n",
    "        \n",
    "    print()"
   ]
  },
  {
   "cell_type": "code",
   "execution_count": 1,
   "id": "2c3d03c3",
   "metadata": {},
   "outputs": [
    {
     "name": "stdout",
     "output_type": "stream",
     "text": [
      "\n",
      "\n",
      "1\n",
      "121\n",
      "12311\n",
      "1234111\n",
      "123451111\n"
     ]
    }
   ],
   "source": [
    "for i in range (0,7):\n",
    "    for j in range(1,i):\n",
    "        print(j,end=\"\")\n",
    "    \n",
    "    if(i==2 or i==3 or i==4 or i==5 or i==6):\n",
    "        for k in range (2,i):\n",
    "            s=1\n",
    "            print(s,end=\"\")\n",
    "            s=s+1\n",
    "        \n",
    "    print()"
   ]
  },
  {
   "cell_type": "code",
   "execution_count": 2,
   "id": "93a2344d",
   "metadata": {},
   "outputs": [
    {
     "name": "stdout",
     "output_type": "stream",
     "text": [
      "1 2 3 4 5 \n",
      "2 3 4 5 \n",
      "3 4 5 \n",
      "4 5 \n",
      "5 \n"
     ]
    }
   ],
   "source": [
    "for i in range (1,6):\n",
    "    for j in range (i,6):\n",
    "        print(j,end=\" \")\n",
    "    print()"
   ]
  },
  {
   "cell_type": "code",
   "execution_count": 3,
   "id": "00762b27",
   "metadata": {},
   "outputs": [
    {
     "name": "stdout",
     "output_type": "stream",
     "text": [
      "\n",
      "1 \n",
      "1 3 \n",
      "1 4 16 \n",
      "1 5 25 125 \n",
      "1 6 36 216 1296 \n",
      "1 7 49 343 2401 16807 \n",
      "1 8 64 512 4096 32768 262144 \n"
     ]
    }
   ],
   "source": [
    "x=1\n",
    "for i in range(0,8):\n",
    "    s=1\n",
    "    \n",
    "    for j in range (0,i):\n",
    "        print(s,end=\" \")\n",
    "        s=s*x\n",
    "        \n",
    "    x=x+1   \n",
    "        \n",
    "    print()\n",
    "        "
   ]
  },
  {
   "cell_type": "code",
   "execution_count": 4,
   "id": "69f4569e",
   "metadata": {},
   "outputs": [
    {
     "name": "stdout",
     "output_type": "stream",
     "text": [
      "5 \n",
      "5 4 \n",
      "5 4 3 \n",
      "5 4 3 2 \n",
      "5 4 3 2 1 \n"
     ]
    }
   ],
   "source": [
    "for i in range (1,6):\n",
    "    s=5\n",
    "    for j in range (0,i):\n",
    "        \n",
    "        print(s,end=\" \")\n",
    "        \n",
    "        s=s-1\n",
    "        \n",
    "    print()"
   ]
  },
  {
   "cell_type": "code",
   "execution_count": 5,
   "id": "6e46e931",
   "metadata": {},
   "outputs": [
    {
     "name": "stdout",
     "output_type": "stream",
     "text": [
      "40\n",
      "42\n",
      "44\n",
      "46\n"
     ]
    }
   ],
   "source": [
    "for i in range (40,50):\n",
    "    if(i%2==0 and i!=48):\n",
    "        print(i)"
   ]
  },
  {
   "cell_type": "code",
   "execution_count": 6,
   "id": "0751c82e",
   "metadata": {},
   "outputs": [
    {
     "name": "stdout",
     "output_type": "stream",
     "text": [
      "5 3 1 -1 -3 -5 "
     ]
    }
   ],
   "source": [
    "x=5\n",
    "for i in range(0,6):\n",
    "\n",
    "    print(x,end=\" \")\n",
    "    x=x-2"
   ]
  },
  {
   "cell_type": "code",
   "execution_count": 11,
   "id": "afdf9a6c",
   "metadata": {},
   "outputs": [
    {
     "ename": "KeyboardInterrupt",
     "evalue": "Interrupted by user",
     "output_type": "error",
     "traceback": [
      "\u001b[1;31m---------------------------------------------------------------------------\u001b[0m",
      "\u001b[1;31mKeyboardInterrupt\u001b[0m                         Traceback (most recent call last)",
      "\u001b[1;32m~\\AppData\\Local\\Temp\\ipykernel_8788\\1922431255.py\u001b[0m in \u001b[0;36m<module>\u001b[1;34m\u001b[0m\n\u001b[1;32m----> 1\u001b[1;33m \u001b[0ms\u001b[0m\u001b[1;33m=\u001b[0m\u001b[0mint\u001b[0m\u001b[1;33m(\u001b[0m\u001b[0minput\u001b[0m\u001b[1;33m(\u001b[0m\u001b[1;33m)\u001b[0m\u001b[1;33m)\u001b[0m\u001b[1;33m\u001b[0m\u001b[1;33m\u001b[0m\u001b[0m\n\u001b[0m\u001b[0;32m      2\u001b[0m \u001b[0mv\u001b[0m\u001b[1;33m=\u001b[0m\u001b[1;36m1\u001b[0m\u001b[1;33m\u001b[0m\u001b[1;33m\u001b[0m\u001b[0m\n\u001b[0;32m      3\u001b[0m \u001b[1;32mfor\u001b[0m \u001b[0mi\u001b[0m \u001b[1;32min\u001b[0m \u001b[0mrange\u001b[0m\u001b[1;33m(\u001b[0m\u001b[1;36m0\u001b[0m\u001b[1;33m,\u001b[0m\u001b[0ms\u001b[0m\u001b[1;33m)\u001b[0m\u001b[1;33m:\u001b[0m\u001b[1;33m\u001b[0m\u001b[1;33m\u001b[0m\u001b[0m\n\u001b[0;32m      4\u001b[0m     \u001b[1;32mif\u001b[0m\u001b[1;33m(\u001b[0m\u001b[0ms\u001b[0m\u001b[1;33m>\u001b[0m\u001b[1;36m0\u001b[0m\u001b[1;33m)\u001b[0m\u001b[1;33m:\u001b[0m\u001b[1;33m\u001b[0m\u001b[1;33m\u001b[0m\u001b[0m\n\u001b[0;32m      5\u001b[0m         \u001b[0mv\u001b[0m\u001b[1;33m=\u001b[0m\u001b[0mv\u001b[0m\u001b[1;33m*\u001b[0m\u001b[0ms\u001b[0m\u001b[1;33m\u001b[0m\u001b[1;33m\u001b[0m\u001b[0m\n",
      "\u001b[1;32mC:\\ProgramData\\Anaconda3\\lib\\site-packages\\ipykernel\\kernelbase.py\u001b[0m in \u001b[0;36mraw_input\u001b[1;34m(self, prompt)\u001b[0m\n\u001b[0;32m   1175\u001b[0m                 \u001b[1;34m\"raw_input was called, but this frontend does not support input requests.\"\u001b[0m\u001b[1;33m\u001b[0m\u001b[1;33m\u001b[0m\u001b[0m\n\u001b[0;32m   1176\u001b[0m             )\n\u001b[1;32m-> 1177\u001b[1;33m         return self._input_request(\n\u001b[0m\u001b[0;32m   1178\u001b[0m             \u001b[0mstr\u001b[0m\u001b[1;33m(\u001b[0m\u001b[0mprompt\u001b[0m\u001b[1;33m)\u001b[0m\u001b[1;33m,\u001b[0m\u001b[1;33m\u001b[0m\u001b[1;33m\u001b[0m\u001b[0m\n\u001b[0;32m   1179\u001b[0m             \u001b[0mself\u001b[0m\u001b[1;33m.\u001b[0m\u001b[0m_parent_ident\u001b[0m\u001b[1;33m[\u001b[0m\u001b[1;34m\"shell\"\u001b[0m\u001b[1;33m]\u001b[0m\u001b[1;33m,\u001b[0m\u001b[1;33m\u001b[0m\u001b[1;33m\u001b[0m\u001b[0m\n",
      "\u001b[1;32mC:\\ProgramData\\Anaconda3\\lib\\site-packages\\ipykernel\\kernelbase.py\u001b[0m in \u001b[0;36m_input_request\u001b[1;34m(self, prompt, ident, parent, password)\u001b[0m\n\u001b[0;32m   1217\u001b[0m             \u001b[1;32mexcept\u001b[0m \u001b[0mKeyboardInterrupt\u001b[0m\u001b[1;33m:\u001b[0m\u001b[1;33m\u001b[0m\u001b[1;33m\u001b[0m\u001b[0m\n\u001b[0;32m   1218\u001b[0m                 \u001b[1;31m# re-raise KeyboardInterrupt, to truncate traceback\u001b[0m\u001b[1;33m\u001b[0m\u001b[1;33m\u001b[0m\u001b[0m\n\u001b[1;32m-> 1219\u001b[1;33m                 \u001b[1;32mraise\u001b[0m \u001b[0mKeyboardInterrupt\u001b[0m\u001b[1;33m(\u001b[0m\u001b[1;34m\"Interrupted by user\"\u001b[0m\u001b[1;33m)\u001b[0m \u001b[1;32mfrom\u001b[0m \u001b[1;32mNone\u001b[0m\u001b[1;33m\u001b[0m\u001b[1;33m\u001b[0m\u001b[0m\n\u001b[0m\u001b[0;32m   1220\u001b[0m             \u001b[1;32mexcept\u001b[0m \u001b[0mException\u001b[0m\u001b[1;33m:\u001b[0m\u001b[1;33m\u001b[0m\u001b[1;33m\u001b[0m\u001b[0m\n\u001b[0;32m   1221\u001b[0m                 \u001b[0mself\u001b[0m\u001b[1;33m.\u001b[0m\u001b[0mlog\u001b[0m\u001b[1;33m.\u001b[0m\u001b[0mwarning\u001b[0m\u001b[1;33m(\u001b[0m\u001b[1;34m\"Invalid Message:\"\u001b[0m\u001b[1;33m,\u001b[0m \u001b[0mexc_info\u001b[0m\u001b[1;33m=\u001b[0m\u001b[1;32mTrue\u001b[0m\u001b[1;33m)\u001b[0m\u001b[1;33m\u001b[0m\u001b[1;33m\u001b[0m\u001b[0m\n",
      "\u001b[1;31mKeyboardInterrupt\u001b[0m: Interrupted by user"
     ]
    }
   ],
   "source": [
    "s=int(input())\n",
    "v=1\n",
    "for i in range(0,s):\n",
    "    if(s>0):\n",
    "        v=v*s\n",
    "        s=s-1\n",
    "print(v)"
   ]
  },
  {
   "cell_type": "code",
   "execution_count": null,
   "id": "bc86cb9a",
   "metadata": {},
   "outputs": [],
   "source": [
    "for i in range(1,11):\n",
    "    print(i*i)"
   ]
  },
  {
   "cell_type": "code",
   "execution_count": null,
   "id": "4093df46",
   "metadata": {},
   "outputs": [],
   "source": [
    "x=1\n",
    "s=1\n",
    "for i in range (1,11):\n",
    "    print(x)\n",
    "    x=x*s\n",
    "    s=s+1"
   ]
  },
  {
   "cell_type": "code",
   "execution_count": null,
   "id": "a05cfc76",
   "metadata": {},
   "outputs": [],
   "source": [
    "for i in range (1,5):\n",
    "    for j in range(0,i):\n",
    "        print(\"+\",end=\"\")\n",
    "    print()"
   ]
  },
  {
   "cell_type": "code",
   "execution_count": null,
   "id": "2f596350",
   "metadata": {},
   "outputs": [],
   "source": [
    "for i in range (1,5):\n",
    "    for j in range(i,5):\n",
    "        print(\"+\",end=\" \")\n",
    "    print()"
   ]
  },
  {
   "cell_type": "code",
   "execution_count": null,
   "id": "abd181c9",
   "metadata": {},
   "outputs": [],
   "source": [
    "for i in range (1,5):\n",
    "    for j in range(i,5):\n",
    "        print(\"\",end=\" \")\n",
    "    for k in range (0,i):\n",
    "        print(0,end=\"\")\n",
    "    print()"
   ]
  },
  {
   "cell_type": "code",
   "execution_count": null,
   "id": "fb93ae0a",
   "metadata": {},
   "outputs": [],
   "source": [
    "for i in range(1,5):\n",
    "    for j in range(0,i):\n",
    "        print(\" \",end=\"\")\n",
    "    for k in range(i,5):\n",
    "        print(0,end=\"\")\n",
    "    print()"
   ]
  },
  {
   "cell_type": "code",
   "execution_count": 1,
   "id": "918c745b",
   "metadata": {},
   "outputs": [
    {
     "name": "stdout",
     "output_type": "stream",
     "text": [
      "\n",
      "2\n",
      "22\n",
      "222\n",
      "2222\n"
     ]
    }
   ],
   "source": [
    "#2,22,222,2222,22222 for n terms #\n",
    "for i in range(0,5):\n",
    "    for j in range (0,i):\n",
    "        print(2,end=\"\")\n",
    "    print()"
   ]
  },
  {
   "cell_type": "code",
   "execution_count": 12,
   "id": "30560502",
   "metadata": {},
   "outputs": [
    {
     "name": "stdout",
     "output_type": "stream",
     "text": [
      "5\n",
      "\n",
      "2\n",
      "22\n",
      "222\n",
      "2222\n"
     ]
    }
   ],
   "source": [
    "s=int(input())\n",
    "for i in range(0,s):\n",
    "    for j in range(0,i):\n",
    "        print(2,end=\"\")\n",
    "    print(\"\")"
   ]
  },
  {
   "cell_type": "code",
   "execution_count": null,
   "id": "de0c9132",
   "metadata": {},
   "outputs": [],
   "source": [
    "for i in range (1,10):\n",
    "    if i<6:\n",
    "        for j in range (0,i):\n",
    "            print(\"*\",end=\" \")\n",
    "        for k in range (i,5):\n",
    "            print(\" \",end=\" \")\n",
    "        for l in range (i,5):\n",
    "            print(\" \",end=\" \")\n",
    "        for m in range (0,i):\n",
    "            print(\"*\",end=\" \")\n",
    "    else:\n",
    "        for j in range (i,10):\n",
    "            print(\"*\",end=\" \")\n",
    "        for k in range (5,i):\n",
    "            print(\" \",end=\" \")\n",
    "        for l in range (5,i):\n",
    "            print(\" \",end=\" \")\n",
    "        for m in range (i,10):\n",
    "            print(\"*\",end=\" \")\n",
    "        \n",
    "    print()"
   ]
  },
  {
   "cell_type": "code",
   "execution_count": 2,
   "id": "ccc21c27",
   "metadata": {},
   "outputs": [
    {
     "name": "stdout",
     "output_type": "stream",
     "text": [
      "10 21 33 41 50 61 70 81 95 "
     ]
    }
   ],
   "source": [
    "lst=[10,21,33,41,50,61,70,81,95]\n",
    "\n",
    "for i in range(0,len(lst)):\n",
    "    print(lst[i],end=\" \")"
   ]
  },
  {
   "cell_type": "code",
   "execution_count": 3,
   "id": "b27edcc3",
   "metadata": {},
   "outputs": [
    {
     "name": "stdout",
     "output_type": "stream",
     "text": [
      "0 1 2 3 4 5 6 7 8 "
     ]
    }
   ],
   "source": [
    "lst=[10,21,33,41,50,61,70,81,95]\n",
    "\n",
    "for i in range(0,len(lst)):\n",
    "    print(i,end=\" \")"
   ]
  },
  {
   "cell_type": "code",
   "execution_count": 2,
   "id": "4a28ce81",
   "metadata": {},
   "outputs": [
    {
     "name": "stdout",
     "output_type": "stream",
     "text": [
      "10 50 70 "
     ]
    }
   ],
   "source": [
    "lst=[10,21,33,41,50,61,70,81,95]\n",
    "for i in range(0,len(lst)):\n",
    "    if (lst[i]%2==0):\n",
    "        print(lst[i],end=\" \")"
   ]
  },
  {
   "cell_type": "code",
   "execution_count": 3,
   "id": "a4f24ff9",
   "metadata": {},
   "outputs": [
    {
     "name": "stdout",
     "output_type": "stream",
     "text": [
      "10 33 50 70 95 "
     ]
    }
   ],
   "source": [
    "lst=[10,21,33,41,50,61,70,81,95]\n",
    "for i in range(0,len(lst)):\n",
    "    if (i%2==0):\n",
    "        print(lst[i],end=\" \")"
   ]
  },
  {
   "cell_type": "code",
   "execution_count": 7,
   "id": "fb543dc2",
   "metadata": {},
   "outputs": [
    {
     "name": "stdout",
     "output_type": "stream",
     "text": [
      "21 33 41 61 81 95 "
     ]
    }
   ],
   "source": [
    "for i in range(0,len(lst)):\n",
    "    if (lst[i]%2!=0):\n",
    "        print(lst[i],end=\" \")"
   ]
  },
  {
   "cell_type": "code",
   "execution_count": 8,
   "id": "39625dc9",
   "metadata": {},
   "outputs": [
    {
     "name": "stdout",
     "output_type": "stream",
     "text": [
      "0 \n",
      "10 \n",
      "31 \n",
      "64 \n",
      "105 \n",
      "155 \n",
      "216 \n",
      "286 \n",
      "367 \n"
     ]
    }
   ],
   "source": [
    "#H.W. total of list #\n",
    "lst=[10,21,33,41,50,61,70,81,95]\n",
    "sum=0\n",
    "count=0\n",
    "for i in lst:\n",
    "    print(sum,end=\" \")\n",
    "    sum=sum+i\n",
    "    \n",
    "    print()\n",
    "    "
   ]
  },
  {
   "cell_type": "code",
   "execution_count": 9,
   "id": "68f557a0",
   "metadata": {},
   "outputs": [
    {
     "name": "stdout",
     "output_type": "stream",
     "text": [
      "51.333333333333336\n"
     ]
    }
   ],
   "source": [
    "#H.W avg of list \n",
    "lst=[10,21,33,41,50,61,70,81,95]\n",
    "\n",
    "sum=0\n",
    "count=0\n",
    "for i in range (0,len(lst)):\n",
    "    \n",
    "    sum=sum+lst[i]\n",
    "    count=count+1\n",
    "    avg=sum/count\n",
    "print(avg)\n",
    "\n",
    "\n",
    "    \n",
    "    "
   ]
  },
  {
   "cell_type": "code",
   "execution_count": 10,
   "id": "ef1e414c",
   "metadata": {},
   "outputs": [
    {
     "name": "stdout",
     "output_type": "stream",
     "text": [
      "51.333333333333336\n"
     ]
    }
   ],
   "source": [
    "#H.W avg of list \n",
    "sum=0\n",
    "count=0\n",
    "for i in lst:\n",
    "    sum=sum+i\n",
    "    count=count+1\n",
    "    avg=sum/count\n",
    "print(avg)"
   ]
  },
  {
   "cell_type": "code",
   "execution_count": 11,
   "id": "9470e526",
   "metadata": {},
   "outputs": [
    {
     "name": "stdout",
     "output_type": "stream",
     "text": [
      "10\n",
      "50\n",
      "70\n"
     ]
    }
   ],
   "source": [
    "#H.W find even and odd no.\n",
    "lst=[10,21,33,41,50,61,70,81,95]\n",
    "\n",
    "for i in lst:\n",
    "    if i%2==0:\n",
    "        print(i)"
   ]
  },
  {
   "cell_type": "code",
   "execution_count": null,
   "id": "2566d185",
   "metadata": {},
   "outputs": [],
   "source": [
    "#find max\n",
    "lst=[40,70,60,110,90,120,50,40]\n",
    "Max1=0\n",
    "for i in range(0,len(lst)):\n",
    "    if(lst[i]>Max1):\n",
    "        Max1=lst[i]\n",
    "        print(Max1)"
   ]
  },
  {
   "cell_type": "code",
   "execution_count": null,
   "id": "8ea042cd",
   "metadata": {},
   "outputs": [],
   "source": [
    "#find largest no. \n",
    "Lst=[40,70,60,110,90,120,50,40]\n",
    "max(Lst)"
   ]
  },
  {
   "cell_type": "code",
   "execution_count": 12,
   "id": "764947cd",
   "metadata": {},
   "outputs": [
    {
     "name": "stdout",
     "output_type": "stream",
     "text": [
      "40 70 60 110 90 120 50 40 90 "
     ]
    }
   ],
   "source": [
    "#nested list #\n",
    "lst=[[40,70,60],[110,90,120],[50,40,90]]\n",
    "for i in lst :\n",
    "    for j in i :\n",
    "        print(j,end=\" \")\n",
    "        "
   ]
  },
  {
   "cell_type": "code",
   "execution_count": 13,
   "id": "624c5499",
   "metadata": {},
   "outputs": [
    {
     "name": "stdout",
     "output_type": "stream",
     "text": [
      "40 70 60 110 90 120 50 40 90 670\n"
     ]
    }
   ],
   "source": [
    "#nested list add #\n",
    "lst=[[40,70,60],[110,90,120],[50,40,90]]\n",
    "sum=0\n",
    "for i in lst :\n",
    "    for j in i :\n",
    "        print(j,end=\" \")\n",
    "        sum=sum+j\n",
    "print(sum)"
   ]
  },
  {
   "cell_type": "code",
   "execution_count": 14,
   "id": "65f7c04a",
   "metadata": {},
   "outputs": [
    {
     "name": "stdout",
     "output_type": "stream",
     "text": [
      "74.44444444444444\n"
     ]
    }
   ],
   "source": [
    "#nested list add and avg #\n",
    "lst=[[40,70,60],[110,90,120],[50,40,90]]\n",
    "sum=0\n",
    "count=0\n",
    "for i in lst :\n",
    "    for j in i :\n",
    "       # print(j,end=\" \")\n",
    "        sum=sum+j\n",
    "        count=count+1\n",
    "        avg=sum/count\n",
    "print(avg)\n"
   ]
  },
  {
   "cell_type": "code",
   "execution_count": 15,
   "id": "51bbbad4",
   "metadata": {},
   "outputs": [
    {
     "name": "stdout",
     "output_type": "stream",
     "text": [
      "120\n"
     ]
    }
   ],
   "source": [
    "# nested list max\n",
    "lst=[[40,70,60],[110,90,120],[50,40,90]]\n",
    "Max1=0\n",
    "for i in lst:\n",
    "    for j in i:\n",
    "        if(j>Max1):\n",
    "            Max1=j\n",
    "print(Max1)"
   ]
  },
  {
   "cell_type": "code",
   "execution_count": null,
   "id": "b2f8e25c",
   "metadata": {},
   "outputs": [],
   "source": []
  }
 ],
 "metadata": {
  "kernelspec": {
   "display_name": "Python 3 (ipykernel)",
   "language": "python",
   "name": "python3"
  },
  "language_info": {
   "codemirror_mode": {
    "name": "ipython",
    "version": 3
   },
   "file_extension": ".py",
   "mimetype": "text/x-python",
   "name": "python",
   "nbconvert_exporter": "python",
   "pygments_lexer": "ipython3",
   "version": "3.9.13"
  }
 },
 "nbformat": 4,
 "nbformat_minor": 5
}
