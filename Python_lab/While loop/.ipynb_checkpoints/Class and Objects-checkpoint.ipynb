{
 "cells": [
  {
   "cell_type": "code",
   "execution_count": 1,
   "id": "640f56d5",
   "metadata": {},
   "outputs": [
    {
     "ename": "IndentationError",
     "evalue": "expected an indented block (1112791768.py, line 6)",
     "output_type": "error",
     "traceback": [
      "\u001b[1;36m  File \u001b[1;32m\"C:\\Users\\Admin\\AppData\\Local\\Temp\\ipykernel_7584\\1112791768.py\"\u001b[1;36m, line \u001b[1;32m6\u001b[0m\n\u001b[1;33m    elif(opt==2):\u001b[0m\n\u001b[1;37m                 ^\u001b[0m\n\u001b[1;31mIndentationError\u001b[0m\u001b[1;31m:\u001b[0m expected an indented block\n"
     ]
    }
   ],
   "source": [
    "class Balance():\n",
    "    bal=10000\n",
    "    def update(self, amt,opt):\n",
    "        if(opt==1):\n",
    "            self.bal=self.bal+amt\n",
    "        elif(opt==2):\n",
    "            self.bal=self.bal-amt\n",
    "        else:\n",
    "            print(\"invalid option\")"
   ]
  },
  {
   "cell_type": "code",
   "execution_count": 2,
   "id": "960126cf",
   "metadata": {},
   "outputs": [],
   "source": [
    "def sample():\n",
    "    print(\"hello\")\n"
   ]
  },
  {
   "cell_type": "code",
   "execution_count": 4,
   "id": "ec381079",
   "metadata": {},
   "outputs": [
    {
     "name": "stdout",
     "output_type": "stream",
     "text": [
      "my name is  shekhar\n"
     ]
    }
   ],
   "source": [
    "class Sample():\n",
    "    name=\"shekhar\"\n",
    "    def printMyName(self):\n",
    "        print(\"my name is \", self.name)\n",
    "x=Sample()\n",
    "x.printMyName()"
   ]
  },
  {
   "cell_type": "markdown",
   "id": "2432dc58",
   "metadata": {},
   "source": [
    "#Every object has \n",
    "State\n",
    "behaviour\n",
    "ID\n",
    "#Every object will hold the separate memory location"
   ]
  },
  {
   "cell_type": "code",
   "execution_count": 7,
   "id": "ccca8239",
   "metadata": {},
   "outputs": [
    {
     "name": "stdout",
     "output_type": "stream",
     "text": [
      "bhow\n",
      "jimmy   White\n",
      "<__main__.Dog object at 0x000002403B6050D0>\n"
     ]
    }
   ],
   "source": [
    "class Dog():\n",
    "    name=\"jimmy\"\n",
    "    color=\"White\"\n",
    "    def barking(self):\n",
    "        print(\"bhow\")\n",
    "        print(self.name, \" \", self.color)\n",
    "d=Dog()\n",
    "d.barking()\n",
    "print(d)"
   ]
  },
  {
   "cell_type": "code",
   "execution_count": 10,
   "id": "badaca3c",
   "metadata": {},
   "outputs": [
    {
     "name": "stdout",
     "output_type": "stream",
     "text": [
      "1000\n",
      "0\n"
     ]
    }
   ],
   "source": [
    "class Calculation():\n",
    "    count=0    \n",
    "c = Calculation()\n",
    "c.count=1000\n",
    "print(c.count)\n",
    "c1 = Calculation()\n",
    "print(c1.count)"
   ]
  },
  {
   "cell_type": "code",
   "execution_count": 16,
   "id": "6785777b",
   "metadata": {},
   "outputs": [
    {
     "name": "stdout",
     "output_type": "stream",
     "text": [
      "welcome to SBI ATM\n",
      "enter ur 4 digit pin1234\n",
      "login succesful\n",
      "Press 1 for Deposite\n",
      "Press 2 for Withdraw\n",
      "Press 3 for Balance\n",
      "enter ur option2\n",
      "Enter amount to withdraw5000\n",
      "before withdraw amt is  10000\n",
      "after withdraw amt is  5000\n"
     ]
    }
   ],
   "source": [
    "class Balance():\n",
    "    bal=10000\n",
    "    def update(self, amt, opt):\n",
    "        if(opt==1):\n",
    "            print(\"before deposite amt is \", self.bal)\n",
    "            self.bal=self.bal+amt\n",
    "            print(\"after deposite amt is \", self.bal)\n",
    "        elif(opt==2):\n",
    "            print(\"before withdraw amt is \", self.bal)\n",
    "            self.bal=self.bal-amt\n",
    "            print(\"after withdraw amt is \", self.bal)\n",
    "\n",
    "class Withdraw():\n",
    "    def getWithdraw(self, amt, opt):\n",
    "        b=Balance()\n",
    "        b.update(amt, opt)\n",
    "            \n",
    "class Deposite():\n",
    "    def getDeposite(self, amt, opt):\n",
    "        b=Balance()\n",
    "        b.update(amt, opt)\n",
    "        \n",
    "        \n",
    "class Menu():\n",
    "    def getMenu(self):\n",
    "        print(\"Press 1 for Deposite\")\n",
    "        print(\"Press 2 for Withdraw\")\n",
    "        print(\"Press 3 for Balance\")\n",
    "        opt=int(input(\"enter ur option\"))\n",
    "        if(opt==1):\n",
    "            d=Deposite()\n",
    "            amt=int(input(\"Enter amount to deposite\"))\n",
    "            d.getDeposite(amt,opt)\n",
    "        elif(opt==2):\n",
    "            w=Withdraw()\n",
    "            amt=int(input(\"Enter amount to withdraw\"))\n",
    "            w.getWithdraw(amt, opt)\n",
    "            \n",
    "\n",
    "class Authentication():\n",
    "    pin=1234\n",
    "    def auth(self, upin):\n",
    "        if(upin==self.pin):\n",
    "            print(\"login succesful\")\n",
    "            m=Menu()\n",
    "            m.getMenu()\n",
    "        else:\n",
    "            print(\"failed\")\n",
    "class Bank():\n",
    "    def welcome(self):\n",
    "        print(\"welcome to SBI ATM\")\n",
    "        upin=int(input(\"enter ur 4 digit pin\"))\n",
    "        a=Authentication()\n",
    "        a.auth(upin)\n",
    "        \n",
    "b=Bank()\n",
    "b.welcome()"
   ]
  },
  {
   "cell_type": "code",
   "execution_count": null,
   "id": "6fb31d82",
   "metadata": {},
   "outputs": [],
   "source": []
  }
 ],
 "metadata": {
  "kernelspec": {
   "display_name": "Python 3 (ipykernel)",
   "language": "python",
   "name": "python3"
  },
  "language_info": {
   "codemirror_mode": {
    "name": "ipython",
    "version": 3
   },
   "file_extension": ".py",
   "mimetype": "text/x-python",
   "name": "python",
   "nbconvert_exporter": "python",
   "pygments_lexer": "ipython3",
   "version": "3.9.13"
  }
 },
 "nbformat": 4,
 "nbformat_minor": 5
}
