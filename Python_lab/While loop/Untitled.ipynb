{
 "cells": [
  {
   "cell_type": "code",
   "execution_count": 54,
   "id": "ba5f7f5d",
   "metadata": {},
   "outputs": [
    {
     "name": "stdout",
     "output_type": "stream",
     "text": [
      "Welcome to the ATM\n",
      "Enter your pin ...5\n",
      "Please enter your pin correct \n",
      "Enter your pin ...1234\n",
      "press 1 for blance check \n",
      "press 2 for withdorw \n",
      "press 3 for deposite \n",
      "press 4 for pin change \n",
      "press 5 for exit\n",
      "5\n",
      "Thank you for visiting ATM ....\n"
     ]
    }
   ],
   "source": [
    "print(\"Welcome to the ATM\")\n",
    "pin=1234\n",
    "balance=10000\n",
    "flag=True\n",
    "count=0\n",
    "while flag:\n",
    "    upin=int(input(\"Enter your pin ...\"))\n",
    "    if upin==pin:\n",
    "        print(\"press 1 for blance check \")\n",
    "        print(\"press 2 for withdorw \")\n",
    "        print(\"press 3 for deposite \")\n",
    "        print(\"press 4 for pin change \")\n",
    "        print(\"press 5 for exit\")\n",
    "        opt=int(input())\n",
    "        if opt==1:\n",
    "            print(\"your balance is : \",balance)\n",
    "            \n",
    "        elif opt==2:\n",
    "            withdrow=int(input(\"Enter withdrow amount : \"))\n",
    "            if withdrow <=balance:\n",
    "                balance=balance-withdrow\n",
    "                print(\"balance : \",balance)\n",
    "                break\n",
    "            else:\n",
    "                print(\"you don't have suficient balance \")\n",
    "        elif opt==3:\n",
    "            deposite=int(input(\"Enter deposite amount : \"))\n",
    "            balance=balance+deposite\n",
    "            print(\"your balance is : \",balance)\n",
    "        elif opt==4:\n",
    "            xpin=int(input(\"Enter your old pin \"))\n",
    "            if xpin==pin:\n",
    "                npin=int(input(\"Enter new pin : \"))\n",
    "                pin=npin\n",
    "        elif opt==5:\n",
    "            print(\"Thank you for visiting ATM ....\")\n",
    "            flag=False\n",
    "            \n",
    "    else:\n",
    "        count=count+1\n",
    "        if count<3:\n",
    "            print (\"Please enter your pin correct \")\n",
    "        else:\n",
    "            print(\"Card bolck\")\n",
    "            flag=False"
   ]
  },
  {
   "cell_type": "code",
   "execution_count": 26,
   "id": "42fa217d",
   "metadata": {},
   "outputs": [
    {
     "name": "stdout",
     "output_type": "stream",
     "text": [
      "Please enter your pin .....1234\n",
      "successfully login \n"
     ]
    }
   ],
   "source": [
    "pin=1234\n",
    "count=0\n",
    "flag=True\n",
    "while flag:\n",
    "    upin=int(input(\"Please enter your pin .....\"))\n",
    "    if upin==pin:\n",
    "        print(\"successfully login \")\n",
    "        break\n",
    "    else:\n",
    "        count=count+1\n",
    "        if count<3 :\n",
    "            print(\"try again\")\n",
    "        else:\n",
    "            print(\"card block\")\n",
    "            flag=False\n",
    "        "
   ]
  },
  {
   "cell_type": "code",
   "execution_count": 91,
   "id": "f7d0a76d",
   "metadata": {},
   "outputs": [
    {
     "name": "stdout",
     "output_type": "stream",
     "text": [
      "Welcom to the atm \n",
      "Enter your pin 1234\n",
      "Press 1 for Blance check \n",
      "Press 2 for withdrow \n",
      "Press 3 for deposite\n",
      "Press 4 for exit \n",
      "Press option 1\n",
      "Your total balance is :  10000\n"
     ]
    }
   ],
   "source": [
    "def welcome():\n",
    "    print(\"Welcom to the atm \")\n",
    "welcome()\n",
    "\n",
    "def opt ():\n",
    "    print(\"Press 1 for Blance check \")\n",
    "    print(\"Press 2 for withdrow \")\n",
    "    print(\"Press 3 for deposite\")\n",
    "    print(\"Press 4 for exit \")\n",
    "        \n",
    "\n",
    "def Bal():\n",
    "    global balance\n",
    "    print(\"Your total balance is : \",balance)\n",
    "    \n",
    "def wit():\n",
    "    wit=int(input(\"press withdrawl amt : \"))\n",
    "    global balance \n",
    "    if wit<=balance:\n",
    "        balance = balance-wit\n",
    "        print(\"Your updated balance is : \",balance)\n",
    "    else:\n",
    "        print(\"you don't have sufficient balance \")\n",
    "        \n",
    "def dep():\n",
    "    dep=int(input(\"Enter deposite amt : \"))\n",
    "    global balance\n",
    "    balance=balance+dep\n",
    "    print(\"Your updated balance is : \",balance)\n",
    "    \n",
    "\n",
    "pin=1234\n",
    "count=0\n",
    "balance=10000\n",
    "flag=True\n",
    "while flag:\n",
    "    upin=int(input(\"Enter your pin \"))\n",
    "    if upin==pin:\n",
    "        opt()\n",
    "        opt=int(input(\"Press option \"))\n",
    "        if opt==1:\n",
    "            Bal()\n",
    "            flag=False\n",
    "        elif opt==2:\n",
    "            wit()\n",
    "            \n",
    "        elif opt==3:\n",
    "            dep()\n",
    "        elif opt==4:\n",
    "            print(\"Thank you for visiting ATM ...\")\n",
    "            break\n",
    "\n",
    "        else:\n",
    "            print(\"please press correct option\")\n",
    "\n",
    "\n",
    "\n",
    "\n",
    "    else:\n",
    "        count=count+1\n",
    "        if count<3:\n",
    "            print(\"please try again..\")\n",
    "        else:\n",
    "            print(\"Card Block.....\")\n"
   ]
  },
  {
   "cell_type": "code",
   "execution_count": null,
   "id": "fbe1539d",
   "metadata": {},
   "outputs": [],
   "source": []
  }
 ],
 "metadata": {
  "kernelspec": {
   "display_name": "Python 3 (ipykernel)",
   "language": "python",
   "name": "python3"
  },
  "language_info": {
   "codemirror_mode": {
    "name": "ipython",
    "version": 3
   },
   "file_extension": ".py",
   "mimetype": "text/x-python",
   "name": "python",
   "nbconvert_exporter": "python",
   "pygments_lexer": "ipython3",
   "version": "3.9.13"
  }
 },
 "nbformat": 4,
 "nbformat_minor": 5
}
