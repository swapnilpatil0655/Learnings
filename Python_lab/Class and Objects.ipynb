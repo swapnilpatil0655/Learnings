{
 "cells": [
  {
   "cell_type": "code",
   "execution_count": 1,
   "id": "f9cbfd47",
   "metadata": {},
   "outputs": [
    {
     "name": "stdout",
     "output_type": "stream",
     "text": [
      "Hello\n",
      "raj\n"
     ]
    }
   ],
   "source": [
    "class student ():\n",
    "    name =\"raj\"\n",
    "    def sample (self):\n",
    "        print(\"Hello\")\n",
    "        \n",
    "obj=student()\n",
    "#(Instance of class)\n",
    "obj.sample()\n",
    "print(obj.name)"
   ]
  },
  {
   "cell_type": "code",
   "execution_count": null,
   "id": "c6d5a2f3",
   "metadata": {},
   "outputs": [],
   "source": []
  },
  {
   "cell_type": "code",
   "execution_count": 1,
   "id": "f7a06ec5",
   "metadata": {},
   "outputs": [
    {
     "name": "stdout",
     "output_type": "stream",
     "text": [
      "writing\n",
      "black 15 camlin\n"
     ]
    }
   ],
   "source": [
    "class pen():\n",
    "    color=\"black\"\n",
    "    price=15\n",
    "    name=\"camlin\"\n",
    "    def writing(self):\n",
    "        print(\"writing\")\n",
    "        \n",
    "p=pen()\n",
    "p.writing()\n",
    "print(p.color,p.price,p.name)\n"
   ]
  },
  {
   "cell_type": "code",
   "execution_count": 9,
   "id": "2cab6199",
   "metadata": {},
   "outputs": [],
   "source": [
    "# object is a instanse of class , every object is hold the seperate memory location\n",
    "#   every object has\n",
    "state\n",
    "behaviour \n",
    "ID"
   ]
  },
  {
   "cell_type": "code",
   "execution_count": 15,
   "id": "b14f5308",
   "metadata": {},
   "outputs": [
    {
     "name": "stdout",
     "output_type": "stream",
     "text": [
      "my name is shekar\n"
     ]
    }
   ],
   "source": [
    "class sample():\n",
    "    name=\"shekar\"\n",
    "    def printMyName(self):\n",
    "        print(\"my name is\",self.name)\n",
    "x=sample()\n",
    "x.printMyName()"
   ]
  },
  {
   "cell_type": "code",
   "execution_count": 17,
   "id": "4d0d403c",
   "metadata": {},
   "outputs": [
    {
     "name": "stdout",
     "output_type": "stream",
     "text": [
      "bhow\n",
      "jummy   White\n",
      "<__main__.dog object at 0x000001FEAD6DB070>\n"
     ]
    }
   ],
   "source": [
    "class dog():\n",
    "    name=\"jummy\"\n",
    "    color=\"White\"\n",
    "    def barking(self):\n",
    "        print(\"bhow\")\n",
    "        print(self.name,\" \",self.color)\n",
    "d=dog()\n",
    "d.barking()\n",
    "print(d)"
   ]
  },
  {
   "cell_type": "code",
   "execution_count": 16,
   "id": "56e50b72",
   "metadata": {},
   "outputs": [
    {
     "name": "stdout",
     "output_type": "stream",
     "text": [
      "1000\n",
      "0\n"
     ]
    }
   ],
   "source": [
    "class calculation ():\n",
    "    count=0\n",
    "    \n",
    "c=calculation()\n",
    "c.count=1000\n",
    "print(c.count)\n",
    "c1=calculation()\n",
    "print(c1.count)"
   ]
  },
  {
   "cell_type": "code",
   "execution_count": 10,
   "id": "972178cd",
   "metadata": {},
   "outputs": [
    {
     "name": "stdout",
     "output_type": "stream",
     "text": [
      "Welcome to SBI ATM...\n",
      "Enter your 4 digit pin 1234\n",
      "Login Successful \n",
      "press 1 for Deposite \n",
      "press 2 for Wthdorw \n",
      "press 3 for Balance \n",
      "Enter your option 1\n",
      "Enter Deposite amount : 2546\n",
      "before deposite amount is 10000\n",
      "After deposite amount is 12546\n"
     ]
    }
   ],
   "source": [
    "class Balance():\n",
    "    bal=10000\n",
    "    def update(self,amt,opt):\n",
    "        if(opt==1):\n",
    "            print(\"before deposite amount is\", self.bal)\n",
    "            self.bal=self.bal+amt\n",
    "            print(\"After deposite amount is\", self.bal)\n",
    "        elif(opt==2):\n",
    "            print(\"before withdraw amount is \", self.bal)\n",
    "            self.bal=self.bal-amt\n",
    "            print(\"After withdraw amount is\", self.bal)\n",
    "            \n",
    "class Withdraw():\n",
    "    def getWithdraw(self,amt,opt):\n",
    "        b=Balance()\n",
    "        b.update(amt,opt)\n",
    "        \n",
    "class Deposite():\n",
    "    def getDeposite(self,amt,opt):\n",
    "        b=Balance()\n",
    "        b.update(amt,opt)\n",
    "class Menu():\n",
    "    def getMenu(self):\n",
    "        print(\"press 1 for Deposite \")\n",
    "        print(\"press 2 for Wthdorw \")\n",
    "        print(\"press 3 for Balance \")\n",
    "        opt=int(input(\"Enter your option \"))\n",
    "        if(opt==1):\n",
    "            d=Deposite()\n",
    "            amt=int(input(\"Enter Deposite amount : \"))\n",
    "            d.getDeposite(amt,opt)\n",
    "        elif(opt==2):\n",
    "            w=Withdraw()\n",
    "            amt=int(input(\"Enter Withdraw amount : \"))\n",
    "            w.getWithdraw(amt,opt)\n",
    "        \n",
    "            \n",
    "class Authentication():\n",
    "    pin=1234\n",
    "    def auth(self,upin):\n",
    "        if(upin==self.pin):\n",
    "            print(\"Login Successful \")\n",
    "            m=Menu()\n",
    "            m.getMenu()\n",
    "\n",
    "        else:\n",
    "            print((\"Login failled\"))\n",
    "class bank():\n",
    "    def welcome(self):\n",
    "        print(\"Welcome to SBI ATM...\")\n",
    "        upin=int(input(\"Enter your 4 digit pin \"))\n",
    "        a=Authentication()\n",
    "        a.auth(upin)\n",
    "        \n",
    "b=bank()\n",
    "b.welcome()"
   ]
  },
  {
   "cell_type": "code",
   "execution_count": 12,
   "id": "a2c0f940",
   "metadata": {},
   "outputs": [
    {
     "name": "stdout",
     "output_type": "stream",
     "text": [
      "Welcome to Icici bank ATM.....\n",
      "enter the 4 digit atm pin..1234\n",
      "Login successful ..\n",
      "press 1 for deposite\n",
      "press 2 for withdraw\n",
      "Enter your option : 1\n",
      "Enter amount 2644\n"
     ]
    }
   ],
   "source": [
    "class Deposite():\n",
    "    def getDeposite(self):\n",
    "        amt=int(input(\"Enter amount \"))\n",
    "\n",
    "\n",
    "        \n",
    "class menu():\n",
    "    def getmenu(self):\n",
    "        print(\"press 1 for deposite\")\n",
    "        print(\"press 2 for withdraw\")\n",
    "        opt=int(input(\"Enter your option : \"))\n",
    "        if opt==1 :\n",
    "            d=Deposite()\n",
    "            d.getDeposite()\n",
    "        \n",
    "        elif opt==2:\n",
    "            pass\n",
    "        \n",
    "        elif opt==3:\n",
    "            pass\n",
    "            \n",
    "            \n",
    "\n",
    "class Authentication():\n",
    "    pin=1234\n",
    "    def auth(self,upin):\n",
    "        if upin==self.pin :\n",
    "            print(\"Login successful ..\")\n",
    "            m=menu()\n",
    "            m.getmenu()\n",
    "        else:\n",
    "            print(\"Login failed \")\n",
    "    \n",
    "class bank():\n",
    "    def welcome(self):\n",
    "        print(\"Welcome to Icici bank ATM.....\")\n",
    "        upin=int(input(\"enter the 4 digit atm pin..\"))\n",
    "        a=Authentication()\n",
    "        a.auth(upin)\n",
    "        \n",
    "b=bank()\n",
    "b.welcome()"
   ]
  }
 ],
 "metadata": {
  "kernelspec": {
   "display_name": "Python 3 (ipykernel)",
   "language": "python",
   "name": "python3"
  },
  "language_info": {
   "codemirror_mode": {
    "name": "ipython",
    "version": 3
   },
   "file_extension": ".py",
   "mimetype": "text/x-python",
   "name": "python",
   "nbconvert_exporter": "python",
   "pygments_lexer": "ipython3",
   "version": "3.9.13"
  }
 },
 "nbformat": 4,
 "nbformat_minor": 5
}
