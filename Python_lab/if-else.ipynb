{
 "cells": [
  {
   "cell_type": "code",
   "execution_count": 3,
   "id": "40da569f",
   "metadata": {},
   "outputs": [
    {
     "name": "stdout",
     "output_type": "stream",
     "text": [
      "s is an even no.\n"
     ]
    }
   ],
   "source": [
    "s=10\n",
    "if(s%2==0):\n",
    "    print(\"s is an even no.\")\n",
    "else:\n",
    "    print(\"s is an odd no.\")"
   ]
  },
  {
   "cell_type": "code",
   "execution_count": 5,
   "id": "6d5a245b",
   "metadata": {},
   "outputs": [
    {
     "name": "stdout",
     "output_type": "stream",
     "text": [
      "11\n",
      " s is an odd no.\n"
     ]
    }
   ],
   "source": [
    "s=int(input())\n",
    "if(s%2==0):\n",
    "    print(\" s is an even no.\")\n",
    "else:\n",
    "    print(\" s is an odd no.\")"
   ]
  },
  {
   "cell_type": "code",
   "execution_count": 6,
   "id": "a178344d",
   "metadata": {},
   "outputs": [
    {
     "name": "stdout",
     "output_type": "stream",
     "text": [
      "10\n",
      "11\n",
      " v is greater\n"
     ]
    }
   ],
   "source": [
    "s=int(input())\n",
    "v=int(input())\n",
    "if(s>v):\n",
    "    print(\" s is greater\")\n",
    "else:\n",
    "    print(\" v is greater\")"
   ]
  },
  {
   "cell_type": "code",
   "execution_count": 15,
   "id": "0763efa8",
   "metadata": {},
   "outputs": [
    {
     "name": "stdout",
     "output_type": "stream",
     "text": [
      "s = 10\n",
      "v = 50\n",
      "50 is greater than 10\n"
     ]
    }
   ],
   "source": [
    "s=int(input(\"s = \"))\n",
    "v=int(input(\"v = \"))\n",
    "if(s>v):\n",
    "    print(s,\"is greater than\",v)\n",
    "else:\n",
    "    print(v,\"is greater than\",s)"
   ]
  },
  {
   "cell_type": "code",
   "execution_count": 16,
   "id": "8543677e",
   "metadata": {},
   "outputs": [
    {
     "name": "stdout",
     "output_type": "stream",
     "text": [
      "10\n",
      "12\n",
      "12 is greater than  10\n"
     ]
    }
   ],
   "source": [
    "s=int(input())\n",
    "v=int(input())\n",
    "if(s>v):\n",
    "    print(s,\"is greater than \",v)\n",
    "elif(s==v):\n",
    "    print(\" s and v are equal\")\n",
    "else:\n",
    "    print(v,\"is greater than \",s)"
   ]
  },
  {
   "cell_type": "code",
   "execution_count": 23,
   "id": "328e4907",
   "metadata": {},
   "outputs": [
    {
     "name": "stdout",
     "output_type": "stream",
     "text": [
      "10\n",
      "even no.\n"
     ]
    }
   ],
   "source": [
    "num=int(input())\n",
    "if(num % 2 == 0):\n",
    "    print(\"even no.\")\n",
    "else:\n",
    "    print(\"odd no.\")"
   ]
  },
  {
   "cell_type": "code",
   "execution_count": 30,
   "id": "237a34c1",
   "metadata": {},
   "outputs": [
    {
     "name": "stdout",
     "output_type": "stream",
     "text": [
      "2\n",
      "not an odd no.\n"
     ]
    }
   ],
   "source": [
    "num=int(input())\n",
    "if(num % 2 != 0):\n",
    "    print(\"odd no.\")\n",
    "else:\n",
    "    print(\"not an odd no.\")"
   ]
  },
  {
   "cell_type": "code",
   "execution_count": null,
   "id": "05682b8e",
   "metadata": {},
   "outputs": [],
   "source": []
  }
 ],
 "metadata": {
  "kernelspec": {
   "display_name": "Python 3 (ipykernel)",
   "language": "python",
   "name": "python3"
  },
  "language_info": {
   "codemirror_mode": {
    "name": "ipython",
    "version": 3
   },
   "file_extension": ".py",
   "mimetype": "text/x-python",
   "name": "python",
   "nbconvert_exporter": "python",
   "pygments_lexer": "ipython3",
   "version": "3.9.13"
  }
 },
 "nbformat": 4,
 "nbformat_minor": 5
}
