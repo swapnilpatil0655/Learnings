{
 "cells": [
  {
   "cell_type": "code",
   "execution_count": 1,
   "id": "425500cf",
   "metadata": {},
   "outputs": [
    {
     "name": "stdout",
     "output_type": "stream",
     "text": [
      "0\n",
      "1\n",
      "2\n",
      "3\n",
      "4\n",
      "5\n",
      "6\n",
      "7\n",
      "8\n",
      "9\n",
      "10\n",
      "11\n",
      "12\n",
      "13\n",
      "14\n",
      "15\n",
      "16\n",
      "17\n",
      "18\n",
      "19\n",
      "20\n",
      "21\n",
      "22\n",
      "23\n",
      "24\n",
      "25\n",
      "51\n",
      "52\n",
      "53\n",
      "54\n",
      "55\n",
      "56\n",
      "57\n",
      "58\n",
      "59\n",
      "60\n",
      "61\n",
      "62\n",
      "63\n",
      "64\n",
      "65\n",
      "66\n",
      "67\n",
      "68\n",
      "69\n",
      "70\n",
      "71\n",
      "72\n",
      "73\n",
      "74\n",
      "75\n",
      "76\n",
      "77\n",
      "78\n",
      "79\n",
      "80\n",
      "81\n",
      "82\n",
      "83\n",
      "84\n",
      "85\n",
      "86\n",
      "87\n",
      "88\n",
      "89\n",
      "90\n",
      "91\n",
      "92\n",
      "93\n",
      "94\n",
      "95\n",
      "96\n",
      "97\n",
      "98\n",
      "99\n",
      "100\n"
     ]
    }
   ],
   "source": [
    "# write a code to print value 0 - 25 and 50 - 100 #\n",
    "for i in range (0,101):\n",
    "    if (i>=0 and i<=25 or i>50 and i<=100):\n",
    "        print(i)\n",
    "\n"
   ]
  },
  {
   "cell_type": "code",
   "execution_count": 30,
   "id": "89cd4121",
   "metadata": {},
   "outputs": [
    {
     "name": "stdout",
     "output_type": "stream",
     "text": [
      "0\n",
      "1\n",
      "2\n",
      "3\n",
      "4\n",
      "5\n",
      "6\n",
      "7\n",
      "8\n",
      "9\n",
      "10\n",
      "11\n",
      "12\n",
      "13\n",
      "14\n",
      "15\n",
      "16\n",
      "17\n",
      "18\n",
      "19\n",
      "20\n",
      "21\n",
      "22\n",
      "23\n",
      "24\n",
      "25\n",
      "49\n",
      "50\n",
      "51\n",
      "52\n",
      "53\n",
      "54\n",
      "55\n",
      "56\n",
      "57\n",
      "58\n",
      "59\n",
      "60\n",
      "61\n",
      "62\n",
      "63\n",
      "64\n",
      "65\n",
      "66\n",
      "67\n",
      "68\n",
      "69\n",
      "70\n",
      "71\n",
      "72\n",
      "73\n",
      "74\n",
      "75\n",
      "76\n",
      "77\n",
      "78\n",
      "79\n",
      "80\n",
      "81\n",
      "82\n",
      "83\n",
      "84\n",
      "85\n",
      "86\n",
      "87\n",
      "88\n",
      "89\n",
      "90\n",
      "91\n",
      "92\n",
      "93\n",
      "94\n",
      "95\n",
      "96\n",
      "97\n",
      "98\n",
      "99\n",
      "100\n"
     ]
    }
   ],
   "source": [
    "s=0\n",
    "for i in range (0,101):\n",
    "    if (i<=25 or i>=49):\n",
    "        print(i)\n",
    "        "
   ]
  },
  {
   "cell_type": "code",
   "execution_count": 11,
   "id": "579e8531",
   "metadata": {},
   "outputs": [
    {
     "name": "stdout",
     "output_type": "stream",
     "text": [
      "6 5 4 \n",
      "3 2 1 \n"
     ]
    }
   ],
   "source": [
    "# Q.2. Write a code to print the pattern?#\n",
    "s=6\n",
    "for i in range(0,2):\n",
    "    for j in range (0,3):\n",
    "        print(s, end=\" \")\n",
    "        s=s-1\n",
    "    print()"
   ]
  },
  {
   "cell_type": "code",
   "execution_count": 15,
   "id": "cad2b884",
   "metadata": {},
   "outputs": [
    {
     "name": "stdout",
     "output_type": "stream",
     "text": [
      "6 5 4 \n",
      "3 2 1 \n"
     ]
    }
   ],
   "source": [
    "# Q.2. Write a code to print the pattern?#\n",
    "i=0\n",
    "j=6\n",
    "while i<2:\n",
    "    j=3\n",
    "    while j>0:\n",
    "        print(s,end=\" \")\n",
    "        j=j-1\n",
    "        s=s-1\n",
    "    i=i+1\n",
    "    print()\n",
    "    "
   ]
  },
  {
   "cell_type": "code",
   "execution_count": 7,
   "id": "764d983f",
   "metadata": {},
   "outputs": [
    {
     "name": "stdout",
     "output_type": "stream",
     "text": [
      "6 5 4 \n",
      "3 2 1 \n"
     ]
    }
   ],
   "source": [
    "# Q.2. Write a code to print the pattern?#\n",
    "i=0\n",
    "s=6\n",
    "while i<2:\n",
    "    j=0\n",
    "    while j<3:\n",
    "        print(s,end=\" \")\n",
    "        j=j+1\n",
    "        s=s-1\n",
    "        \n",
    "    i=i+1\n",
    "    print()"
   ]
  },
  {
   "cell_type": "code",
   "execution_count": 45,
   "id": "4b18351c",
   "metadata": {},
   "outputs": [
    {
     "name": "stdout",
     "output_type": "stream",
     "text": [
      "00\n",
      "11\n",
      "22\n",
      "33\n",
      "44\n",
      "55\n",
      "66\n"
     ]
    }
   ],
   "source": [
    "#Q.3 Write a code to print the pattern? #\n",
    "\n",
    "for i in range (0,7):\n",
    "    for j in range (0,2):\n",
    "        print(i,end=\"\")\n",
    "        \n",
    "    print()\n",
    "        \n"
   ]
  },
  {
   "cell_type": "code",
   "execution_count": 2,
   "id": "aaccccc9",
   "metadata": {},
   "outputs": [
    {
     "name": "stdout",
     "output_type": "stream",
     "text": [
      "+\n",
      "++\n",
      "+++\n",
      " 0\n",
      " 00\n",
      " 000\n"
     ]
    }
   ],
   "source": [
    "#Q.4 write a code to draw the following pattern using  ?#\n",
    "\n",
    "for i in range (1,7):\n",
    "    if(i==1 or i==2 or i==3):\n",
    "        for j in range (0,1):\n",
    "            print(\"+\",end=\"\")\n",
    "        for k in range (1,i):\n",
    "            print(\"+\",end=\"\")\n",
    "        print()\n",
    "    elif(i==4 or i==5 or i==6):\n",
    "        for l in range (0,1):\n",
    "            print(\" \",end=\"\")\n",
    "        for m in range (3,i):\n",
    "            print(\"0\",end=\"\")\n",
    "        print()\n",
    "            \n",
    "    "
   ]
  },
  {
   "cell_type": "code",
   "execution_count": 12,
   "id": "3b1c6ed9",
   "metadata": {},
   "outputs": [
    {
     "name": "stdout",
     "output_type": "stream",
     "text": [
      "+ \n",
      "+ + \n",
      "+ + + \n",
      "  0 \n",
      "  0 0 \n",
      "  0 0 0 \n"
     ]
    }
   ],
   "source": [
    "#Q.4 write a code to draw the following pattern using  ?#\n",
    "\n",
    "for i in range (1,7):\n",
    "    if(i<4):\n",
    "        for j in range(0,i):\n",
    "            print(\"+\",end=\" \")\n",
    "        print()\n",
    "    else:\n",
    "        for l in range (0,1):\n",
    "            print(\" \",end=\" \")\n",
    "        for m in range (3,i):\n",
    "            print(\"0\",end=\" \")\n",
    "        print()\n",
    "            \n",
    "    "
   ]
  },
  {
   "cell_type": "code",
   "execution_count": 129,
   "id": "aa9f6351",
   "metadata": {},
   "outputs": [
    {
     "name": "stdout",
     "output_type": "stream",
     "text": [
      "0 0 0 + \n",
      "0 0 + + \n",
      "0 + + + \n",
      "+ + + + \n"
     ]
    }
   ],
   "source": [
    "# Q4)  write a code to draw the below pattern ?#\n",
    "\n",
    "for i in range(1,5):\n",
    "    for j in range (i,4):\n",
    "        print(\"0\",end=\" \")\n",
    "    for k in range(0,i):\n",
    "        print(\"+\",end=\" \")\n",
    "    print()"
   ]
  },
  {
   "cell_type": "code",
   "execution_count": 1,
   "id": "b3ff24cc",
   "metadata": {},
   "outputs": [
    {
     "name": "stdout",
     "output_type": "stream",
     "text": [
      "0 \n",
      "0 0 \n",
      "0 0 0 \n",
      "0 0 0 0 \n",
      "    +\n",
      "   + +\n",
      "  + + +\n",
      " + + + +\n"
     ]
    }
   ],
   "source": [
    "# Q6) write a code to print the following pattern using? #\n",
    "\n",
    "for i in range(1,9):\n",
    "    if(i<=4):\n",
    "        for j in range(0,i):\n",
    "            print(\"0\",end=\" \")\n",
    "    else:\n",
    "        for k in range(i,8):\n",
    "            print(\"\",end=\" \")\n",
    "        for l in range(4,i):\n",
    "            print(\" +\",end=\"\")\n",
    "            \n",
    "    print()"
   ]
  },
  {
   "cell_type": "code",
   "execution_count": 29,
   "id": "61e98770",
   "metadata": {},
   "outputs": [
    {
     "name": "stdout",
     "output_type": "stream",
     "text": [
      "              + \n",
      "            + + \n",
      "          + + + \n",
      "0 0 0 0 + + + + \n",
      "0 0 0 \n",
      "0 0 \n",
      "0 \n"
     ]
    }
   ],
   "source": [
    "# Q.11 #\n",
    "for i in range (1,8):\n",
    "    if (i==1 or i==2 or i==3):\n",
    "        for j in range (i,8):\n",
    "            print(\" \",end=\" \")\n",
    "        for k in range(0,i):\n",
    "            print(\"+\",end=\" \")\n",
    "    elif(i==4):\n",
    "        for l in range (0,4):\n",
    "            print(\"0\",end=\" \")\n",
    "        for m in range (0,4):\n",
    "            print(\"+\",end=\" \")\n",
    "    elif(i==5 or i==6 or i==7):\n",
    "        for n in range (i,8):\n",
    "            print(0,end=\" \")\n",
    "            \n",
    "            \n",
    "    print()"
   ]
  },
  {
   "cell_type": "code",
   "execution_count": 35,
   "id": "d050e772",
   "metadata": {},
   "outputs": [
    {
     "name": "stdout",
     "output_type": "stream",
     "text": [
      "1505\n",
      "1540\n",
      "1575\n",
      "1610\n",
      "1645\n",
      "1680\n",
      "1715\n",
      "1750\n",
      "1785\n",
      "1820\n",
      "1855\n",
      "1890\n",
      "1925\n",
      "1960\n",
      "1995\n",
      "2030\n",
      "2065\n",
      "2100\n",
      "2135\n",
      "2170\n",
      "2205\n",
      "2240\n",
      "2275\n",
      "2310\n",
      "2345\n",
      "2380\n",
      "2415\n",
      "2450\n",
      "2485\n",
      "2520\n",
      "2555\n",
      "2590\n",
      "2625\n",
      "2660\n",
      "2695\n"
     ]
    }
   ],
   "source": [
    "#Q.8 #\n",
    "for i in range (1500,2701):\n",
    "    if (i%7==0 and i%5==0):\n",
    "        print(i)"
   ]
  },
  {
   "cell_type": "code",
   "execution_count": 6,
   "id": "d9475f93",
   "metadata": {},
   "outputs": [
    {
     "name": "stdout",
     "output_type": "stream",
     "text": [
      "1 \n",
      "2 1 \n",
      "3 2 1 \n",
      "4 3 2 1 \n",
      "5 4 3 2 1 \n"
     ]
    }
   ],
   "source": [
    "s=1\n",
    "for i in range(1,6):\n",
    "    n=s\n",
    "    for j in range(0,i):\n",
    "        print(n,end=\" \")\n",
    "        n=n-1\n",
    "    print()\n",
    "    s=s+1"
   ]
  }
 ],
 "metadata": {
  "kernelspec": {
   "display_name": "Python 3 (ipykernel)",
   "language": "python",
   "name": "python3"
  },
  "language_info": {
   "codemirror_mode": {
    "name": "ipython",
    "version": 3
   },
   "file_extension": ".py",
   "mimetype": "text/x-python",
   "name": "python",
   "nbconvert_exporter": "python",
   "pygments_lexer": "ipython3",
   "version": "3.9.13"
  }
 },
 "nbformat": 4,
 "nbformat_minor": 5
}
