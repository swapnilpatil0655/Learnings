{
 "cells": [
  {
   "cell_type": "code",
   "execution_count": 56,
   "id": "17071bc7",
   "metadata": {},
   "outputs": [
    {
     "name": "stdout",
     "output_type": "stream",
     "text": [
      "20000\n",
      "basic salary 20000\n",
      "da 1600.0\n",
      "hra 2000.0\n",
      "bonus 2000.0\n",
      "net salary 25600.0\n"
     ]
    }
   ],
   "source": [
    "basic=int(input())\n",
    "if(basic>=20000 and basic<50000):\n",
    "    da=basic*0.08\n",
    "    hra=basic*0.10\n",
    "    bonus=basic*0.10\n",
    "    net_salary=basic+da+hra+bonus\n",
    "    print(\"basic salary\",basic)\n",
    "    print(\"da\",da)\n",
    "    print(\"hra\",hra)\n",
    "    print(\"bonus\",bonus)\n",
    "    print(\"net salary\",net_salary)"
   ]
  },
  {
   "cell_type": "code",
   "execution_count": 61,
   "id": "a3f9efeb",
   "metadata": {},
   "outputs": [
    {
     "name": "stdout",
     "output_type": "stream",
     "text": [
      "51000\n",
      "basic salary 51000\n",
      "da 5100.0\n",
      "hra 240.0\n",
      "bonus 300.0\n",
      "net salary 56640.0\n"
     ]
    }
   ],
   "source": [
    "basic=int(input())\n",
    "if(basic>=50000 and basic<80000):\n",
    "    da=basic*0.10\n",
    "    hra=hra*0.12\n",
    "    bonus=bonus*0.15\n",
    "    net_salary=basic+da+hra+bonus\n",
    "    print(\"basic salary\",basic)\n",
    "    print(\"da\",da)\n",
    "    print(\"hra\",hra)\n",
    "    print(\"bonus\",bonus)\n",
    "    print(\"net salary\",net_salary)\n",
    "    "
   ]
  },
  {
   "cell_type": "code",
   "execution_count": 62,
   "id": "8e9f09c5",
   "metadata": {},
   "outputs": [
    {
     "name": "stdout",
     "output_type": "stream",
     "text": [
      "80000\n",
      "basic salary 80000\n",
      "da 12000.0\n",
      "hra 36.0\n",
      "bonus 60.0\n",
      "net salary 92096.0\n"
     ]
    }
   ],
   "source": [
    "basic=int(input())\n",
    "if(basic>=80000 and basic<100000):\n",
    "    da=basic*0.15\n",
    "    hra=hra*0.15\n",
    "    bonus=bonus*0.20\n",
    "    net_salary=basic+da+hra+bonus\n",
    "    print(\"basic salary\",basic)\n",
    "    print(\"da\",da)\n",
    "    print(\"hra\",hra)\n",
    "    print(\"bonus\",bonus)\n",
    "    print(\"net salary\",net_salary)\n",
    "    "
   ]
  },
  {
   "cell_type": "code",
   "execution_count": 3,
   "id": "fb439cbb",
   "metadata": {},
   "outputs": [
    {
     "name": "stdout",
     "output_type": "stream",
     "text": [
      "Enter Salery100000\n",
      "year of experiance6\n",
      "105000.0\n"
     ]
    }
   ],
   "source": [
    "salary=int(input(\"Enter Salery\"))\n",
    "experiance=int(input(\"year of experiance\"))\n",
    "if(experiance>5):\n",
    "    bonus=salary * 0.05\n",
    "    print(salary+bonus)\n",
    "else:\n",
    "    print(\"salary\")"
   ]
  },
  {
   "cell_type": "code",
   "execution_count": null,
   "id": "46aea890",
   "metadata": {},
   "outputs": [],
   "source": []
  }
 ],
 "metadata": {
  "kernelspec": {
   "display_name": "Python 3 (ipykernel)",
   "language": "python",
   "name": "python3"
  },
  "language_info": {
   "codemirror_mode": {
    "name": "ipython",
    "version": 3
   },
   "file_extension": ".py",
   "mimetype": "text/x-python",
   "name": "python",
   "nbconvert_exporter": "python",
   "pygments_lexer": "ipython3",
   "version": "3.9.13"
  }
 },
 "nbformat": 4,
 "nbformat_minor": 5
}
