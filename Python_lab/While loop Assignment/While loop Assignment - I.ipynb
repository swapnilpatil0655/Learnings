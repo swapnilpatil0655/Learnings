{
 "cells": [
  {
   "cell_type": "code",
   "execution_count": 29,
   "id": "9397b7ba",
   "metadata": {},
   "outputs": [
    {
     "name": "stdout",
     "output_type": "stream",
     "text": [
      "\n"
     ]
    }
   ],
   "source": [
    "#Q1. Write a program to print the following using while loop\n",
    "s=1\n",
    "for i in range(0,s):\n",
    "    for j in range(0,i):\n",
    "        if (j%2==0):\n",
    "            print(j)\n",
    "        else:\n",
    "            print(j)\n",
    "        s=s+1\n",
    "print()"
   ]
  },
  {
   "cell_type": "code",
   "execution_count": 5,
   "id": "127c84f6",
   "metadata": {},
   "outputs": [
    {
     "name": "stdout",
     "output_type": "stream",
     "text": [
      "8\n",
      "no. is not prime no. \n"
     ]
    }
   ],
   "source": [
    "# prime no.\n",
    "num=int(input())\n",
    "flag=True \n",
    "i=2\n",
    "while i<num:\n",
    "    if(num%i==0):\n",
    "        flag=False\n",
    "    i=i+1\n",
    "\n",
    "if(flag==True):\n",
    "    print(\"no. is prime no. \")\n",
    "else:\n",
    "    print(\"no. is not prime no. \")"
   ]
  },
  {
   "cell_type": "code",
   "execution_count": 37,
   "id": "d7e5382c",
   "metadata": {},
   "outputs": [
    {
     "ename": "AttributeError",
     "evalue": "'list' object has no attribute 'appent'",
     "output_type": "error",
     "traceback": [
      "\u001b[1;31m---------------------------------------------------------------------------\u001b[0m",
      "\u001b[1;31mAttributeError\u001b[0m                            Traceback (most recent call last)",
      "\u001b[1;32m~\\AppData\\Local\\Temp\\ipykernel_11132\\1782217804.py\u001b[0m in \u001b[0;36m<module>\u001b[1;34m\u001b[0m\n\u001b[0;32m      7\u001b[0m             \u001b[0mx\u001b[0m\u001b[1;33m.\u001b[0m\u001b[0mappent\u001b[0m\u001b[1;33m(\u001b[0m\u001b[0mi\u001b[0m\u001b[1;33m)\u001b[0m\u001b[1;33m\u001b[0m\u001b[1;33m\u001b[0m\u001b[0m\n\u001b[0;32m      8\u001b[0m     \u001b[0mprint\u001b[0m\u001b[1;33m(\u001b[0m\u001b[0mx\u001b[0m\u001b[1;33m)\u001b[0m\u001b[1;33m\u001b[0m\u001b[1;33m\u001b[0m\u001b[0m\n\u001b[1;32m----> 9\u001b[1;33m \u001b[0munique\u001b[0m\u001b[1;33m(\u001b[0m\u001b[0mlst\u001b[0m\u001b[1;33m)\u001b[0m\u001b[1;33m\u001b[0m\u001b[1;33m\u001b[0m\u001b[0m\n\u001b[0m",
      "\u001b[1;32m~\\AppData\\Local\\Temp\\ipykernel_11132\\1782217804.py\u001b[0m in \u001b[0;36munique\u001b[1;34m(lst)\u001b[0m\n\u001b[0;32m      5\u001b[0m     \u001b[1;32mfor\u001b[0m \u001b[0mi\u001b[0m \u001b[1;32min\u001b[0m \u001b[0mlst\u001b[0m\u001b[1;33m:\u001b[0m\u001b[1;33m\u001b[0m\u001b[1;33m\u001b[0m\u001b[0m\n\u001b[0;32m      6\u001b[0m         \u001b[1;32mif\u001b[0m \u001b[0mi\u001b[0m \u001b[1;32mnot\u001b[0m \u001b[1;32min\u001b[0m \u001b[0mx\u001b[0m\u001b[1;33m:\u001b[0m\u001b[1;33m\u001b[0m\u001b[1;33m\u001b[0m\u001b[0m\n\u001b[1;32m----> 7\u001b[1;33m             \u001b[0mx\u001b[0m\u001b[1;33m.\u001b[0m\u001b[0mappent\u001b[0m\u001b[1;33m(\u001b[0m\u001b[0mi\u001b[0m\u001b[1;33m)\u001b[0m\u001b[1;33m\u001b[0m\u001b[1;33m\u001b[0m\u001b[0m\n\u001b[0m\u001b[0;32m      8\u001b[0m     \u001b[0mprint\u001b[0m\u001b[1;33m(\u001b[0m\u001b[0mx\u001b[0m\u001b[1;33m)\u001b[0m\u001b[1;33m\u001b[0m\u001b[1;33m\u001b[0m\u001b[0m\n\u001b[0;32m      9\u001b[0m \u001b[0munique\u001b[0m\u001b[1;33m(\u001b[0m\u001b[0mlst\u001b[0m\u001b[1;33m)\u001b[0m\u001b[1;33m\u001b[0m\u001b[1;33m\u001b[0m\u001b[0m\n",
      "\u001b[1;31mAttributeError\u001b[0m: 'list' object has no attribute 'appent'"
     ]
    }
   ],
   "source": [
    "#Q1. Write a program to print the following using while loop\n",
    "lst=[1,2,3,5,3,4,2,1,3,5]\n",
    "def unique (lst):\n",
    "    x=[]\n",
    "    for i in lst:\n",
    "        if i not in x:\n",
    "            x.appent(i)\n",
    "    print(x)\n",
    "unique(lst)"
   ]
  },
  {
   "cell_type": "code",
   "execution_count": 46,
   "id": "04f007d6",
   "metadata": {},
   "outputs": [
    {
     "name": "stdout",
     "output_type": "stream",
     "text": [
      "5\n"
     ]
    },
    {
     "ename": "TypeError",
     "evalue": "perfact() missing 1 required positional argument: 'num'",
     "output_type": "error",
     "traceback": [
      "\u001b[1;31m---------------------------------------------------------------------------\u001b[0m",
      "\u001b[1;31mTypeError\u001b[0m                                 Traceback (most recent call last)",
      "\u001b[1;32m~\\AppData\\Local\\Temp\\ipykernel_11132\\3406802075.py\u001b[0m in \u001b[0;36m<module>\u001b[1;34m\u001b[0m\n\u001b[0;32m     14\u001b[0m                 \u001b[0mprint\u001b[0m\u001b[1;33m(\u001b[0m\u001b[1;34m\"The number is not perfact number\"\u001b[0m\u001b[1;33m)\u001b[0m\u001b[1;33m\u001b[0m\u001b[1;33m\u001b[0m\u001b[0m\n\u001b[0;32m     15\u001b[0m \u001b[1;33m\u001b[0m\u001b[0m\n\u001b[1;32m---> 16\u001b[1;33m \u001b[0mperfact\u001b[0m\u001b[1;33m(\u001b[0m\u001b[1;33m)\u001b[0m\u001b[1;33m\u001b[0m\u001b[1;33m\u001b[0m\u001b[0m\n\u001b[0m",
      "\u001b[1;31mTypeError\u001b[0m: perfact() missing 1 required positional argument: 'num'"
     ]
    }
   ],
   "source": [
    "num=int(input())\n",
    "sum=0\n",
    "def perfact(num):\n",
    "    global sum\n",
    "    \n",
    "    for i in range (1,num):\n",
    "        if(num%i==0):\n",
    "            sum=sum+1\n",
    "            print(sum)\n",
    "\n",
    "            if(num==sum):\n",
    "                print(\"The number is perfact number\")\n",
    "            else:\n",
    "                print(\"The number is not perfact number\")\n",
    "            \n",
    "perfact()"
   ]
  },
  {
   "cell_type": "code",
   "execution_count": null,
   "id": "1026971c",
   "metadata": {},
   "outputs": [],
   "source": [
    "list=[1,2,3,2,1,10]\n",
    "newlst=[]\n"
   ]
  },
  {
   "cell_type": "code",
   "execution_count": 23,
   "id": "a0577981",
   "metadata": {},
   "outputs": [
    {
     "name": "stdout",
     "output_type": "stream",
     "text": [
      "Calculate area of rectangel\n",
      "length = 5\n",
      "width  = 2\n",
      "The area of the rectangle is  10\n",
      "The perimeter of the rectangle is  14\n"
     ]
    }
   ],
   "source": [
    "#Q.4 Write a function to calculate area and perimeter of a rectangle .\n",
    "print(\"Calculate area of rectangel\")\n",
    "area=0\n",
    "perimeter=0\n",
    "l=int(input(\"length = \"))\n",
    "w=int(input(\"width  = \"))\n",
    "area=l*w\n",
    "perimeter=2*(l+w)\n",
    "print(\"The area of the rectangle is \", area)\n",
    "print(\"The perimeter of the rectangle is \",perimeter)"
   ]
  },
  {
   "cell_type": "code",
   "execution_count": 39,
   "id": "ca5e0b27",
   "metadata": {},
   "outputs": [
    {
     "name": "stdout",
     "output_type": "stream",
     "text": [
      "Calculate area and perimeter of a rectangle \n",
      "Length : 5\n",
      "width   : 2\n",
      "Area of rectangle is :  10\n",
      "Perimeter of rectangle is :  14\n"
     ]
    }
   ],
   "source": [
    "#Q.4 Write a function to calculate area and perimeter of a rectangle .\n",
    "print(\"Calculate area and perimeter of a rectangle \")\n",
    "l=int(input(\"Length : \"))\n",
    "w=int(input(\"width   : \"))\n",
    "def area():\n",
    "    area=l*w\n",
    "    print(\"Area of rectangle is : \",area)\n",
    "    perimeter()\n",
    "    \n",
    "def perimeter():\n",
    "    perimeter=2*(l+w)\n",
    "    print(\"Perimeter of rectangle is : \",perimeter)\n",
    "    \n",
    "area()\n"
   ]
  },
  {
   "cell_type": "code",
   "execution_count": 41,
   "id": "7a9ffd4d",
   "metadata": {},
   "outputs": [
    {
     "name": "stdout",
     "output_type": "stream",
     "text": [
      "10\n",
      "20\n",
      "30\n",
      "40\n",
      "50\n",
      "60\n",
      "70\n",
      "80\n",
      "90\n",
      "100\n",
      "110\n",
      "120\n",
      "130\n",
      "140\n",
      "150\n",
      "160\n",
      "170\n",
      "180\n",
      "190\n",
      "200\n",
      "210\n",
      "220\n",
      "230\n",
      "240\n",
      "250\n",
      "260\n",
      "270\n",
      "280\n",
      "290\n",
      "300\n"
     ]
    }
   ],
   "source": [
    "#Q3) Write for loop statement to print the following series:\t10, 20, 30 … … 300\n",
    "\n",
    "i=10\n",
    "while (i<=300):\n",
    "    print(i)\n",
    "    i=i+10"
   ]
  },
  {
   "cell_type": "code",
   "execution_count": 42,
   "id": "02b50e42",
   "metadata": {},
   "outputs": [
    {
     "name": "stdout",
     "output_type": "stream",
     "text": [
      "105\n",
      "98\n",
      "91\n",
      "84\n",
      "77\n",
      "70\n",
      "63\n",
      "56\n",
      "49\n",
      "42\n",
      "35\n",
      "28\n",
      "21\n",
      "14\n",
      "7\n"
     ]
    }
   ],
   "source": [
    "#Q4) Write a while loop statement to print the following series 105, 98, 91 ………7.\n",
    "i=105\n",
    "while (i>=7):\n",
    "    print(i)\n",
    "    i=i-7\n",
    "    "
   ]
  },
  {
   "cell_type": "code",
   "execution_count": 72,
   "id": "4117883d",
   "metadata": {},
   "outputs": [
    {
     "name": "stdout",
     "output_type": "stream",
     "text": [
      "Type a number : 5\n",
      "This is not even no.\n",
      "Type a number : 5\n",
      "This is not even no.\n",
      "Type a number : 5\n",
      "This is not even no.\n",
      "You have reach full attemps\n"
     ]
    }
   ],
   "source": [
    "# Write a program to find even no .\n",
    "flag=True\n",
    "count=0\n",
    "while flag:\n",
    "    p=int(input(\"Type a number : \"))\n",
    "    if p%2==0:\n",
    "        print(\"This is even no.\")\n",
    "        flag=False\n",
    "    else:\n",
    "        print(\"This is not even no.\")\n",
    "        count=count+1\n",
    "        if(count==3):\n",
    "            print(\"You have reach full attemps\")\n",
    "            flag=False\n",
    "            \n",
    "        \n",
    "        \n",
    "   "
   ]
  },
  {
   "cell_type": "code",
   "execution_count": 19,
   "id": "092f071c",
   "metadata": {},
   "outputs": [
    {
     "name": "stdout",
     "output_type": "stream",
     "text": [
      "0\n",
      "1\n",
      "2\n",
      "3\n",
      "4\n",
      "5\n",
      "6\n",
      "7\n",
      "8\n",
      "9\n",
      "10\n",
      "11\n",
      "12\n",
      "13\n",
      "14\n",
      "15\n",
      "16\n",
      "17\n",
      "18\n",
      "19\n",
      "20\n",
      "21\n",
      "22\n",
      "23\n",
      "24\n",
      "25\n",
      "26\n",
      "27\n",
      "28\n",
      "29\n",
      "30\n",
      "31\n",
      "32\n",
      "33\n",
      "34\n",
      "35\n",
      "36\n",
      "37\n",
      "38\n",
      "39\n",
      "40\n",
      "41\n",
      "42\n",
      "43\n",
      "44\n",
      "45\n",
      "46\n",
      "47\n",
      "48\n",
      "49\n",
      "50\n",
      "51\n",
      "52\n",
      "53\n",
      "54\n",
      "55\n",
      "56\n",
      "57\n",
      "58\n",
      "59\n",
      "60\n",
      "61\n",
      "62\n",
      "63\n",
      "64\n",
      "65\n",
      "66\n",
      "67\n",
      "68\n",
      "69\n",
      "70\n",
      "71\n",
      "72\n",
      "73\n",
      "74\n",
      "75\n",
      "76\n",
      "77\n",
      "78\n",
      "79\n",
      "80\n",
      "81\n",
      "82\n",
      "83\n",
      "84\n",
      "85\n",
      "86\n",
      "87\n",
      "88\n",
      "89\n",
      "90\n",
      "91\n",
      "92\n",
      "93\n",
      "94\n",
      "95\n",
      "96\n",
      "97\n",
      "98\n",
      "99\n",
      "100\n"
     ]
    }
   ],
   "source": [
    "# Q5Write a program to check whether a number is prime or not using while loop.\n",
    "c=0 \n",
    "i=0\n",
    "while i<=100:\n",
    "    if (i/1==i):\n",
    "        \n",
    "        print(i)\n",
    "        c=c+1\n",
    "    else:\n",
    "        c=c+1\n",
    "    i=i+1"
   ]
  },
  {
   "cell_type": "code",
   "execution_count": 22,
   "id": "331f9ff1",
   "metadata": {},
   "outputs": [
    {
     "name": "stdout",
     "output_type": "stream",
     "text": [
      "10 9 8 7 6 5 4 3 2 1 0 "
     ]
    }
   ],
   "source": [
    "#Q6) Write a program to print first 10 natural number in reverse order using while loop.\n",
    "i=10\n",
    "while i>=0:\n",
    "    print(i,end=\" \")\n",
    "    i=i-1"
   ]
  },
  {
   "cell_type": "code",
   "execution_count": 19,
   "id": "0d36db7c",
   "metadata": {},
   "outputs": [
    {
     "name": "stdout",
     "output_type": "stream",
     "text": [
      "1\n",
      "3\n",
      "6\n",
      "10\n",
      "15\n",
      "21\n",
      "28\n",
      "36\n",
      "45\n",
      "55\n"
     ]
    }
   ],
   "source": [
    "# Q7) Write a program to print sum of first 10 Natural numbers using while Loop.\n",
    "i=1\n",
    "p=1\n",
    "while i<11:\n",
    "    print(p)\n",
    "    i=i+1\n",
    "    p=p+i\n",
    "    "
   ]
  },
  {
   "cell_type": "code",
   "execution_count": 25,
   "id": "f969a01d",
   "metadata": {},
   "outputs": [
    {
     "name": "stdout",
     "output_type": "stream",
     "text": [
      "Enter the number : 6\n",
      "6\n",
      "12\n",
      "18\n",
      "24\n",
      "30\n",
      "36\n",
      "42\n",
      "48\n",
      "54\n",
      "60\n"
     ]
    }
   ],
   "source": [
    "# Q8) Write a program to print table of a number entered from the user. Using while Loop.\n",
    "i=1\n",
    "s=int(input(\"Enter the number : \"))\n",
    "c=s\n",
    "while i<=10:\n",
    "    c=s*i\n",
    "    print(c)\n",
    "    i=i+1"
   ]
  },
  {
   "cell_type": "code",
   "execution_count": 19,
   "id": "a6f7ecaf",
   "metadata": {},
   "outputs": [
    {
     "name": "stdout",
     "output_type": "stream",
     "text": [
      "Enter the no. bigger than 0 for find even no. : 10\n",
      "0 0\n",
      "2 2\n",
      "4 6\n",
      "6 12\n",
      "8 20\n",
      "10 30\n"
     ]
    }
   ],
   "source": [
    "#Q9) Write a program to find the sum of all even numbers that falls between two numbers \n",
    "#(exclusive both numbers) entered from the user using while loop.\n",
    "\n",
    "i=0\n",
    "n=0\n",
    "s=int(input(\"Enter the no. bigger than 0 for find even no. : \"))\n",
    "while i<=s:\n",
    "    if (i%2==0):\n",
    "        n=n+i\n",
    "        print(i,n)\n",
    "        \n",
    "    \n",
    "    i=i+1"
   ]
  },
  {
   "cell_type": "code",
   "execution_count": 15,
   "id": "6779efc3",
   "metadata": {},
   "outputs": [
    {
     "name": "stdout",
     "output_type": "stream",
     "text": [
      "10\n",
      "i 0 sum 0\n",
      "i 2 sum 2\n",
      "i 4 sum 6\n",
      "i 6 sum 12\n",
      "i 8 sum 20\n",
      "i 10 sum 30\n"
     ]
    }
   ],
   "source": [
    "i=0\n",
    "s=int(input())\n",
    "count=0\n",
    "while(i<=s):\n",
    "    if(i%2==0):\n",
    "        count=count+i\n",
    "        print(\"i\",i,\"sum\",count)\n",
    "    i=i+1"
   ]
  },
  {
   "cell_type": "code",
   "execution_count": 68,
   "id": "2588f8d7",
   "metadata": {},
   "outputs": [
    {
     "name": "stdout",
     "output_type": "stream",
     "text": [
      "Enter the no. : 2546\n",
      "254\n",
      "25\n",
      "2\n",
      "0\n"
     ]
    }
   ],
   "source": [
    "# Q10) Write a program to find the sum of the digits of a number accepted from the user using While loop.\n",
    "\n",
    "i=int(input(\"Enter the no. : \"))\n",
    "rem=0\n",
    "add=0\n",
    "while i>0 :\n",
    "    rem=i%10\n",
    "    add=rem+add\n",
    "    \n",
    "    i=i//10\n",
    "print(add)\n",
    "    \n",
    "    \n",
    "    "
   ]
  },
  {
   "cell_type": "code",
   "execution_count": 82,
   "id": "2a850e22",
   "metadata": {},
   "outputs": [
    {
     "name": "stdout",
     "output_type": "stream",
     "text": [
      "Enter the no. : 254\n",
      "Product of the no. : 40\n"
     ]
    }
   ],
   "source": [
    "# Q11) Write a program to find the product of the digits of a number accepted from the user.\n",
    "i=int(input(\"Enter the no. : \"))\n",
    "rem=0\n",
    "mun=1\n",
    "while i>0:\n",
    "    rem=i%10\n",
    "    mun=rem*mun\n",
    "    \n",
    "    i=i//10\n",
    "print(\"Product of the no. :\",mun)"
   ]
  },
  {
   "cell_type": "code",
   "execution_count": 105,
   "id": "3893fcf4",
   "metadata": {},
   "outputs": [
    {
     "name": "stdout",
     "output_type": "stream",
     "text": [
      "Enter the no. : 2546\n",
      "6452\n"
     ]
    }
   ],
   "source": [
    "# Q12) Write a program to reverse the number accepted from user using while loop.\n",
    "i=int(input(\"Enter the no. : \"))\n",
    "rem=0\n",
    "s=0\n",
    "while (i>0):\n",
    "    rem=i%10\n",
    "    s=(s*10)\n",
    "    s=s+rem\n",
    "\n",
    "    i=i//10\n",
    "print(s)"
   ]
  }
 ],
 "metadata": {
  "kernelspec": {
   "display_name": "Python 3 (ipykernel)",
   "language": "python",
   "name": "python3"
  },
  "language_info": {
   "codemirror_mode": {
    "name": "ipython",
    "version": 3
   },
   "file_extension": ".py",
   "mimetype": "text/x-python",
   "name": "python",
   "nbconvert_exporter": "python",
   "pygments_lexer": "ipython3",
   "version": "3.9.13"
  }
 },
 "nbformat": 4,
 "nbformat_minor": 5
}
