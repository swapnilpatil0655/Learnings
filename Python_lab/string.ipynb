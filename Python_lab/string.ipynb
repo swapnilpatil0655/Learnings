{
 "cells": [
  {
   "cell_type": "code",
   "execution_count": 1,
   "id": "6a06cb3f",
   "metadata": {},
   "outputs": [
    {
     "name": "stdout",
     "output_type": "stream",
     "text": [
      "mayur\n",
      "m\n",
      "a\n",
      "y\n",
      "u\n",
      "r\n"
     ]
    }
   ],
   "source": [
    "s = input()\n",
    "for i in s:\n",
    "    print(i)\n",
    "    "
   ]
  },
  {
   "cell_type": "code",
   "execution_count": 4,
   "id": "d242b23e",
   "metadata": {},
   "outputs": [
    {
     "name": "stdout",
     "output_type": "stream",
     "text": [
      "D\n",
      "ED\n",
      "EED\n",
      "PEED\n",
      "APEED\n",
      "KAPEED\n"
     ]
    }
   ],
   "source": [
    "s=\"DEEPAK\"\n",
    "v=\"\"\n",
    "for i in s:\n",
    "    v=i+v\n",
    "    print(v)"
   ]
  },
  {
   "cell_type": "code",
   "execution_count": 5,
   "id": "09636941",
   "metadata": {},
   "outputs": [
    {
     "name": "stdout",
     "output_type": "stream",
     "text": [
      "deepak\n",
      "d\n",
      "ed\n",
      "eed\n",
      "peed\n",
      "apeed\n",
      "kapeed\n"
     ]
    }
   ],
   "source": [
    "s=input()\n",
    "v=\"\"\n",
    "for i in s:\n",
    "    v=i+v\n",
    "    print(v)"
   ]
  }
 ],
 "metadata": {
  "kernelspec": {
   "display_name": "Python 3 (ipykernel)",
   "language": "python",
   "name": "python3"
  },
  "language_info": {
   "codemirror_mode": {
    "name": "ipython",
    "version": 3
   },
   "file_extension": ".py",
   "mimetype": "text/x-python",
   "name": "python",
   "nbconvert_exporter": "python",
   "pygments_lexer": "ipython3",
   "version": "3.9.13"
  }
 },
 "nbformat": 4,
 "nbformat_minor": 5
}
