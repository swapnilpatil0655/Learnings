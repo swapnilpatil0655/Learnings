{
 "cells": [
  {
   "cell_type": "code",
   "execution_count": 50,
   "id": "ee07b8d7",
   "metadata": {},
   "outputs": [
    {
     "name": "stdout",
     "output_type": "stream",
     "text": [
      "[1, 2, 3, 3, 3, 3, 4, 5]\n",
      "[1, 2, 3, 3, 3, 3, 4, 5]\n",
      "[1, 2, 3, 3, 3, 3, 4, 5]\n",
      "[1, 2, 3, 3, 3, 3, 4, 5]\n",
      "[1, 2, 3, 3, 3, 3, 4, 5]\n",
      "[1, 2, 3, 3, 3, 3, 4, 5]\n",
      "[1, 2, 3, 3, 3, 3, 4, 5]\n",
      "[1, 2, 3, 3, 3, 3, 4, 5]\n",
      "\n"
     ]
    }
   ],
   "source": [
    "# Write a Python function that takes a list and returns a new list with unique elements of the first list.\n",
    "#Sample List : [1,2,3,3,3,3,4,5]\n",
    "#Unique List : [1, 2, 3, 4, 5]\n",
    "\n",
    "lst=[1,2,3,3,3,3,4,5]\n",
    "lst1= []\n",
    "x=lst[i]\n",
    "for i in range(0,8):\n",
    "    \n",
    "    for j in range(0,8:\n",
    "        if (x==lst[i]):\n",
    "            print(lst)\n",
    "          \n",
    "            \n",
    "print()\n",
    "        "
   ]
  },
  {
   "cell_type": "code",
   "execution_count": null,
   "id": "5e3e216c",
   "metadata": {},
   "outputs": [],
   "source": []
  },
  {
   "cell_type": "code",
   "execution_count": 56,
   "id": "45e4b5d4",
   "metadata": {},
   "outputs": [
    {
     "name": "stdout",
     "output_type": "stream",
     "text": [
      "dcba4321 \n"
     ]
    }
   ],
   "source": [
    "#Write a Python program to reverse a string.\n",
    "# \"1234abcd\"\n",
    "s=\"1234abcd\"\n",
    "v=\" \"\n",
    "for i in s:\n",
    "    v=i+v\n",
    "print(v)\n"
   ]
  },
  {
   "cell_type": "code",
   "execution_count": 9,
   "id": "4209466c",
   "metadata": {},
   "outputs": [
    {
     "data": {
      "text/plain": [
       "120"
      ]
     },
     "execution_count": 9,
     "metadata": {},
     "output_type": "execute_result"
    }
   ],
   "source": [
    "#Write a Python function to calculate the factorial of a number (a non-negative integer).\n",
    "#The function accepts the number as an argument.\n",
    "\n",
    "def fact(n):\n",
    "    if(n<=1):\n",
    "        return 1\n",
    "    else:\n",
    "        return n*fact(n-1)\n",
    "fact(5)"
   ]
  },
  {
   "cell_type": "code",
   "execution_count": 55,
   "id": "4c3d8311",
   "metadata": {},
   "outputs": [
    {
     "name": "stdout",
     "output_type": "stream",
     "text": [
      "a= 10\n"
     ]
    }
   ],
   "source": [
    "#what will be the output of follwing function\n",
    "a=10\n",
    "def myfunc():\n",
    "    a=20\n",
    "    return a\n",
    "print(\"a=\",a)\n"
   ]
  },
  {
   "cell_type": "code",
   "execution_count": 10,
   "id": "81fce692",
   "metadata": {},
   "outputs": [
    {
     "name": "stdout",
     "output_type": "stream",
     "text": [
      "x = 98\n",
      "y = 87\n",
      "z = 5\n",
      "98 is greater\n"
     ]
    }
   ],
   "source": [
    "x=int(input(\"x = \"))\n",
    "y=int(input(\"y = \"))\n",
    "z=int(input(\"z = \"))\n",
    "\n",
    "if x>y:\n",
    "    if y>z:\n",
    "        print(x ,\"is greater\")\n",
    "        \n",
    "elif y>z:\n",
    "    if z>y:\n",
    "        print()"
   ]
  }
 ],
 "metadata": {
  "kernelspec": {
   "display_name": "Python 3 (ipykernel)",
   "language": "python",
   "name": "python3"
  },
  "language_info": {
   "codemirror_mode": {
    "name": "ipython",
    "version": 3
   },
   "file_extension": ".py",
   "mimetype": "text/x-python",
   "name": "python",
   "nbconvert_exporter": "python",
   "pygments_lexer": "ipython3",
   "version": "3.9.13"
  }
 },
 "nbformat": 4,
 "nbformat_minor": 5
}
