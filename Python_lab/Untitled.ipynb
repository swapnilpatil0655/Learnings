{
 "cells": [
  {
   "cell_type": "code",
   "execution_count": 1,
   "id": "9ebbc9f4",
   "metadata": {},
   "outputs": [
    {
     "name": "stdout",
     "output_type": "stream",
     "text": [
      "00\n",
      "00\n",
      "0HI\n"
     ]
    }
   ],
   "source": [
    "i=0\n",
    "while i<=2:\n",
    "    j=1\n",
    "    while j<=2:\n",
    "        \n",
    "        if(i==2 and j==2):\n",
    "            print(\"HI\",end=\"\")\n",
    "        else:\n",
    "            print(\"0\",end=\"\")\n",
    "        j=j+1\n",
    "    i=i+1\n",
    "    print()"
   ]
  },
  {
   "cell_type": "code",
   "execution_count": 2,
   "id": "e0c4a077",
   "metadata": {},
   "outputs": [
    {
     "name": "stdout",
     "output_type": "stream",
     "text": [
      "HI0 \n",
      "0 0 \n",
      "0 Bye\n"
     ]
    }
   ],
   "source": [
    "i=0\n",
    "while i<=2:\n",
    "    j=1\n",
    "    while j<=2:\n",
    "        if(i==0 and j==1):\n",
    "            print(\"HI\",end=\"\")\n",
    "        elif(i==2 and j==2):\n",
    "            print(\"Bye\",end=\"\")\n",
    "        else:\n",
    "            print(\"0\",end=\" \")\n",
    "        j=j+1\n",
    "    i=i+1\n",
    "    print()"
   ]
  },
  {
   "cell_type": "code",
   "execution_count": 3,
   "id": "327438b4",
   "metadata": {},
   "outputs": [
    {
     "name": "stdout",
     "output_type": "stream",
     "text": [
      "+ + + + \n",
      "+ + + + \n",
      "+ + + + \n",
      "+ + + + \n"
     ]
    }
   ],
   "source": [
    "i=0\n",
    "while i<4:\n",
    "    j=0\n",
    "    while j<4:\n",
    "        print(\"+\",end=\" \")\n",
    "        j=j+1\n",
    "    i=i+1\n",
    "    print()"
   ]
  },
  {
   "cell_type": "code",
   "execution_count": 4,
   "id": "438a2f2b",
   "metadata": {},
   "outputs": [
    {
     "name": "stdout",
     "output_type": "stream",
     "text": [
      "1 2 3 4 \n",
      "1 2 3 4 \n",
      "1 2 3 4 \n",
      "1 2 3 4 \n"
     ]
    }
   ],
   "source": [
    "i=0\n",
    "while i<4:\n",
    "    j=1\n",
    "    while j<5:\n",
    "        print(j,end=\" \")\n",
    "        j=j+1\n",
    "    i=i+1\n",
    "    print()"
   ]
  },
  {
   "cell_type": "code",
   "execution_count": 5,
   "id": "1a72563d",
   "metadata": {},
   "outputs": [
    {
     "name": "stdout",
     "output_type": "stream",
     "text": [
      "++++0\n",
      "+++00\n",
      "++000\n",
      "+0000\n"
     ]
    }
   ],
   "source": [
    "i=1\n",
    "while i<5:\n",
    "    j=i\n",
    "    while j<5:\n",
    "        print(\"+\",end=\"\")\n",
    "        j=j+1\n",
    "    k=0\n",
    "    while k<i:\n",
    "        print(\"0\",end=\"\")\n",
    "        k=k+1\n",
    "    i=i+1\n",
    "    print()"
   ]
  },
  {
   "cell_type": "code",
   "execution_count": 6,
   "id": "8cdb5e52",
   "metadata": {},
   "outputs": [
    {
     "name": "stdout",
     "output_type": "stream",
     "text": [
      "++++0\n",
      "+++00\n",
      "++000\n",
      "+0000\n"
     ]
    }
   ],
   "source": [
    "for i in range (1,5):\n",
    "    for j in range(i,5):\n",
    "        print(\"+\",end=\"\")\n",
    "    for k in range(0,i):\n",
    "        print(\"0\",end=\"\")\n",
    "    print()"
   ]
  },
  {
   "cell_type": "code",
   "execution_count": 7,
   "id": "35ff97b2",
   "metadata": {},
   "outputs": [
    {
     "name": "stdout",
     "output_type": "stream",
     "text": [
      "++++\n",
      "+++\n",
      "++\n",
      "+\n"
     ]
    }
   ],
   "source": [
    "#H.W\n",
    "i=1\n",
    "while i<5:\n",
    "    j=i\n",
    "    while j<5:\n",
    "        print(\"+\",end=\"\")\n",
    "        j=j+1\n",
    "    i=i+1\n",
    "    print()"
   ]
  },
  {
   "cell_type": "code",
   "execution_count": 8,
   "id": "c83de0f8",
   "metadata": {},
   "outputs": [
    {
     "name": "stdout",
     "output_type": "stream",
     "text": [
      "    0\n",
      "   00\n",
      "  000\n",
      " 0000\n",
      "00000\n"
     ]
    }
   ],
   "source": [
    "#H.W\n",
    "i=1\n",
    "while i<=5:\n",
    "    j=i\n",
    "    while j<5:\n",
    "        print(\" \",end=\"\")\n",
    "        j=j+1\n",
    "    k=0\n",
    "    while k<i:\n",
    "        print(\"0\",end=\"\")\n",
    "        k=k+1\n",
    "    i=i+1\n",
    "    print()"
   ]
  },
  {
   "cell_type": "code",
   "execution_count": 9,
   "id": "292740dc",
   "metadata": {},
   "outputs": [
    {
     "name": "stdout",
     "output_type": "stream",
     "text": [
      "    0 \n",
      "   0 0 \n",
      "  0 0 0 \n",
      " 0 0 0 0 \n",
      "0 0 0 0 0 \n"
     ]
    }
   ],
   "source": [
    "#H.W\n",
    "i=1\n",
    "while i<=5:\n",
    "    j=i\n",
    "    while j<5:\n",
    "        print(\" \",end=\"\")\n",
    "        j=j+1\n",
    "    k=0\n",
    "    while k<i:\n",
    "        print(\"0\",end=\" \")\n",
    "        k=k+1\n",
    "    i=i+1\n",
    "    print()"
   ]
  },
  {
   "cell_type": "code",
   "execution_count": 10,
   "id": "851fd35e",
   "metadata": {},
   "outputs": [
    {
     "name": "stdout",
     "output_type": "stream",
     "text": [
      "1\n",
      "22\n",
      "333\n",
      "4444\n",
      "55555\n"
     ]
    }
   ],
   "source": [
    "i=1\n",
    "while i<=5:\n",
    "    j=1\n",
    "    while j<=i:\n",
    "        print(i,end=\"\")\n",
    "        j=j+1\n",
    "    \n",
    "    i=i+1\n",
    "    print()"
   ]
  },
  {
   "cell_type": "code",
   "execution_count": 11,
   "id": "421a85dd",
   "metadata": {},
   "outputs": [
    {
     "name": "stdout",
     "output_type": "stream",
     "text": [
      "\n",
      "1\n",
      "121\n",
      "12321\n",
      "1234321\n",
      "123454321\n"
     ]
    }
   ],
   "source": [
    "row=6\n",
    "for i in range(1,row+1):\n",
    "    for j in range(1,i-1):\n",
    "        print(j,end=\"\")\n",
    "    for j in range(i-1,0,-1):\n",
    "        print(j,end=\"\")\n",
    "        \n",
    "    print()\n",
    "    "
   ]
  },
  {
   "cell_type": "code",
   "execution_count": 2,
   "id": "aab057bc",
   "metadata": {},
   "outputs": [
    {
     "name": "stdout",
     "output_type": "stream",
     "text": [
      "1\n",
      "12\n",
      "123\n",
      "1234\n",
      "12345\n"
     ]
    }
   ],
   "source": [
    "\n",
    "for i in range(2,7):\n",
    "    for j in range(1,i):\n",
    "        print(j,end=\"\")\n",
    "    \n",
    "        \n",
    "    print()\n",
    "    "
   ]
  },
  {
   "cell_type": "code",
   "execution_count": 1,
   "id": "864bc055",
   "metadata": {},
   "outputs": [
    {
     "name": "stdout",
     "output_type": "stream",
     "text": [
      "1\n",
      "12\n",
      "123\n",
      "1234\n",
      "12345\n"
     ]
    }
   ],
   "source": [
    "i=1\n",
    "while i<=5:\n",
    "    j=1\n",
    "    while j<=i:\n",
    "        print(j,end=\"\")\n",
    "        j=j+1\n",
    "    i=i+1\n",
    "    print()"
   ]
  },
  {
   "cell_type": "code",
   "execution_count": 5,
   "id": "85f36971",
   "metadata": {},
   "outputs": [
    {
     "name": "stdout",
     "output_type": "stream",
     "text": [
      "5 4 3 2 1 \n",
      "4 3 2 1 \n",
      "3 2 1 \n",
      "2 1 \n",
      "1 \n"
     ]
    }
   ],
   "source": [
    "#Try1\n",
    "i=5\n",
    "while (i>=1):\n",
    "    j=i\n",
    "    x=i\n",
    "\n",
    "    while (j>=1):\n",
    "        print(x,end=\" \")\n",
    "        j=j-1\n",
    "        x=x-1   \n",
    "    print()\n",
    "    i=i-1"
   ]
  },
  {
   "cell_type": "code",
   "execution_count": 6,
   "id": "0d400fb1",
   "metadata": {},
   "outputs": [
    {
     "name": "stdout",
     "output_type": "stream",
     "text": [
      "54321\n",
      "4321\n",
      "321\n",
      "21\n",
      "1\n"
     ]
    }
   ],
   "source": [
    "#Try 2\n",
    "s=5\n",
    "i=1\n",
    "while i<=5:\n",
    "    n=s\n",
    "    j=i\n",
    "    while j<=5:\n",
    "        print(n,end=\"\")\n",
    "        n=n-1\n",
    "        j=j+1\n",
    "    print()\n",
    "    s=s-1\n",
    "    i=i+1"
   ]
  },
  {
   "cell_type": "code",
   "execution_count": 7,
   "id": "8b29585c",
   "metadata": {},
   "outputs": [
    {
     "name": "stdout",
     "output_type": "stream",
     "text": [
      "        5 \n",
      "      5 4 \n",
      "    5 4 3 \n",
      "  5 4 3 2 \n",
      "5 4 3 2 1 \n"
     ]
    }
   ],
   "source": [
    "i=1\n",
    "while i<=5:\n",
    "    j=i\n",
    "    while j<=4:\n",
    "        print(\" \",end=\" \")\n",
    "        j=j+1\n",
    "    s=5\n",
    "    k=0\n",
    "    while k<i:\n",
    "        print(s,end=\" \")\n",
    "        s=s-1\n",
    "        k=k+1\n",
    "    print()\n",
    "    i=i+1"
   ]
  }
 ],
 "metadata": {
  "kernelspec": {
   "display_name": "Python 3 (ipykernel)",
   "language": "python",
   "name": "python3"
  },
  "language_info": {
   "codemirror_mode": {
    "name": "ipython",
    "version": 3
   },
   "file_extension": ".py",
   "mimetype": "text/x-python",
   "name": "python",
   "nbconvert_exporter": "python",
   "pygments_lexer": "ipython3",
   "version": "3.9.13"
  }
 },
 "nbformat": 4,
 "nbformat_minor": 5
}
