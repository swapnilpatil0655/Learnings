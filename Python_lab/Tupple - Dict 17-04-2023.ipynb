{
 "cells": [
  {
   "cell_type": "code",
   "execution_count": 1,
   "id": "02e00972",
   "metadata": {},
   "outputs": [
    {
     "data": {
      "text/plain": [
       "tuple"
      ]
     },
     "execution_count": 1,
     "metadata": {},
     "output_type": "execute_result"
    }
   ],
   "source": [
    "tup=(10,20,30,40,\"Deepak\",True,10.25,20,30)\n",
    "type(tup)"
   ]
  },
  {
   "cell_type": "code",
   "execution_count": 10,
   "id": "ce4e2ba6",
   "metadata": {},
   "outputs": [
    {
     "name": "stdout",
     "output_type": "stream",
     "text": [
      "(10, 20, 30, 40, 50, 60)\n"
     ]
    }
   ],
   "source": [
    "num=tuple((10,20,30,40,50,60))\n",
    "print(num)"
   ]
  },
  {
   "cell_type": "code",
   "execution_count": 3,
   "id": "06eea4a5",
   "metadata": {},
   "outputs": [
    {
     "data": {
      "text/plain": [
       "(10, 20, 30, 40)"
      ]
     },
     "execution_count": 3,
     "metadata": {},
     "output_type": "execute_result"
    }
   ],
   "source": [
    "tup[0:4]"
   ]
  },
  {
   "cell_type": "code",
   "execution_count": 6,
   "id": "d3df51bc",
   "metadata": {},
   "outputs": [
    {
     "data": {
      "text/plain": [
       "('Deepak', True, 10.25, 20)"
      ]
     },
     "execution_count": 6,
     "metadata": {},
     "output_type": "execute_result"
    }
   ],
   "source": [
    "tup[-5:-1]"
   ]
  },
  {
   "cell_type": "code",
   "execution_count": 21,
   "id": "0e7552cc",
   "metadata": {},
   "outputs": [
    {
     "name": "stdout",
     "output_type": "stream",
     "text": [
      "4\n"
     ]
    }
   ],
   "source": [
    "tup=(10,20,30,40,\"Deepak\",True,10.25,20,30,30,40,30)\n",
    "count=0\n",
    "for i in tup:\n",
    "    if i==30:\n",
    "        count=count+1\n",
    "print(count)"
   ]
  },
  {
   "cell_type": "code",
   "execution_count": 23,
   "id": "1f5b14c9",
   "metadata": {},
   "outputs": [
    {
     "name": "stdout",
     "output_type": "stream",
     "text": [
      "No. 30 count is :  4\n"
     ]
    }
   ],
   "source": [
    "count=0\n",
    "for i in range(len(tup)):\n",
    "    if tup[i]==30:\n",
    "        count=count+1\n",
    "        \n",
    "print(\"No. 30 count is : \",count)"
   ]
  },
  {
   "cell_type": "code",
   "execution_count": 28,
   "id": "cd994d2f",
   "metadata": {},
   "outputs": [
    {
     "name": "stdout",
     "output_type": "stream",
     "text": [
      "(10, 20, 30, 40, 50, 60, 70, 80)\n"
     ]
    }
   ],
   "source": [
    "tup1=(10,20,30,40)\n",
    "tup2=(50,60,70,80)\n",
    "new_tup=tup1+tup2\n",
    "print(new_tup)"
   ]
  },
  {
   "cell_type": "code",
   "execution_count": 41,
   "id": "ea6dea26",
   "metadata": {},
   "outputs": [
    {
     "data": {
      "text/plain": [
       "dict"
      ]
     },
     "execution_count": 41,
     "metadata": {},
     "output_type": "execute_result"
    }
   ],
   "source": [
    "Dict={1:\"one\",2:\"two\",3:\"three\",4:\"four\"}\n",
    "type(Dict)"
   ]
  },
  {
   "cell_type": "code",
   "execution_count": 39,
   "id": "f6f68150",
   "metadata": {},
   "outputs": [
    {
     "data": {
      "text/plain": [
       "4"
      ]
     },
     "execution_count": 39,
     "metadata": {},
     "output_type": "execute_result"
    }
   ],
   "source": [
    "Dict={1:\"one\",2:\"two\",3:\"three\",4:\"four\"}\n",
    "len(Dict)"
   ]
  },
  {
   "cell_type": "code",
   "execution_count": 31,
   "id": "58741a5b",
   "metadata": {},
   "outputs": [
    {
     "name": "stdout",
     "output_type": "stream",
     "text": [
      "{50, 20, 70, 40, 10, 60, 30}\n"
     ]
    }
   ],
   "source": [
    "set1={10,20,30,40,50,60,10,20,30,70}\n",
    "print(set1)"
   ]
  },
  {
   "cell_type": "code",
   "execution_count": 45,
   "id": "e3b7524a",
   "metadata": {},
   "outputs": [
    {
     "name": "stdout",
     "output_type": "stream",
     "text": [
      "{1: 'one', 2: 'two', 3: 'three', 4: 'four', 5: 'five'}\n"
     ]
    }
   ],
   "source": [
    "Dict={1:\"one\",2:\"two\",3:\"three\",4:\"four\"}\n",
    "Dict[5]=\"five\"\n",
    "print(Dict)"
   ]
  },
  {
   "cell_type": "code",
   "execution_count": 47,
   "id": "f64a7ffd",
   "metadata": {},
   "outputs": [
    {
     "name": "stdout",
     "output_type": "stream",
     "text": [
      "{1: 'one', 2: 'two', 3: 'three', 4: 'four', 6: 'six'}\n"
     ]
    }
   ],
   "source": [
    "Dict={1:\"one\",2:\"two\",3:\"three\",4:\"four\"}\n",
    "Dict.update({6:\"six\"})\n",
    "print(Dict)"
   ]
  },
  {
   "cell_type": "code",
   "execution_count": 5,
   "id": "249f83e5",
   "metadata": {},
   "outputs": [
    {
     "name": "stdout",
     "output_type": "stream",
     "text": [
      "dict_keys([1, 2, 3, 4])\n",
      "dict_values(['one', 'two', 'three', 'four'])\n",
      "dict_items([(1, 'one'), (2, 'two'), (3, 'three'), (4, 'four')])\n"
     ]
    }
   ],
   "source": [
    "Dict={1:\"one\",2:\"two\",3:\"three\",4:\"four\"}\n",
    "s=Dict.keys()\n",
    "Dict.values()\n",
    "Dict.items()\n",
    "print(s)\n",
    "print(Dict.values())\n",
    "print(Dict.items())"
   ]
  },
  {
   "cell_type": "code",
   "execution_count": 2,
   "id": "d3dec460",
   "metadata": {},
   "outputs": [
    {
     "data": {
      "text/plain": [
       "dict_keys(['one', 'two', 'three'])"
      ]
     },
     "execution_count": 2,
     "metadata": {},
     "output_type": "execute_result"
    }
   ],
   "source": [
    "#Methods...............\n",
    "Dict={\"one\":1,\"two\":2,\"three\":3}\n",
    "Dict.keys()"
   ]
  },
  {
   "cell_type": "code",
   "execution_count": 4,
   "id": "20983c91",
   "metadata": {},
   "outputs": [
    {
     "data": {
      "text/plain": [
       "dict_values([1, 2, 3])"
      ]
     },
     "execution_count": 4,
     "metadata": {},
     "output_type": "execute_result"
    }
   ],
   "source": [
    "Dict.values()"
   ]
  },
  {
   "cell_type": "code",
   "execution_count": 6,
   "id": "4882b9c8",
   "metadata": {},
   "outputs": [
    {
     "data": {
      "text/plain": [
       "dict_items([('one', 1), ('two', 2), ('three', 3)])"
      ]
     },
     "execution_count": 6,
     "metadata": {},
     "output_type": "execute_result"
    }
   ],
   "source": [
    "Dict.items()"
   ]
  },
  {
   "cell_type": "code",
   "execution_count": 68,
   "id": "a355c18c",
   "metadata": {},
   "outputs": [
    {
     "name": "stdout",
     "output_type": "stream",
     "text": [
      "3\n",
      "{'one': 1, 'two': 2}\n",
      "{'one': 1, 'two': 2, 'four': 3}\n"
     ]
    }
   ],
   "source": [
    "Dict={\"one\":1,\"two\":2,\"three\":3}\n",
    "\n",
    "s=Dict.pop(\"three\")\n",
    "print(s)\n",
    "print(Dict)\n",
    "Dict[\"four\"]=s\n",
    "print(Dict)"
   ]
  },
  {
   "cell_type": "code",
   "execution_count": 39,
   "id": "0adc2e5b",
   "metadata": {},
   "outputs": [
    {
     "name": "stdout",
     "output_type": "stream",
     "text": [
      "{'one': 1, 'two': 2, 'three': 3, 'four': 4}\n",
      "2\n"
     ]
    }
   ],
   "source": [
    "#dict()\n",
    "\n",
    "Dict1=dict(one=1,two=2,three=3,four=4)\n",
    "print(Dict1)\n",
    "\n",
    "Dict1[\"two\"]\n",
    "print(Dict1[\"two\"])"
   ]
  },
  {
   "cell_type": "code",
   "execution_count": 61,
   "id": "8261628e",
   "metadata": {},
   "outputs": [
    {
     "name": "stdout",
     "output_type": "stream",
     "text": [
      "{1: 'one', 2: 'two', 3: 'three'}\n"
     ]
    }
   ],
   "source": [
    "s=[(1,\"one\"),(2,\"two\"),(3,\"three\")]\n",
    "Dict3=dict(s)\n",
    "print(Dict3)"
   ]
  },
  {
   "cell_type": "code",
   "execution_count": 64,
   "id": "2c66f701",
   "metadata": {},
   "outputs": [
    {
     "name": "stdout",
     "output_type": "stream",
     "text": [
      "{1: 'one', 2: 'two', 3: 'three'}\n"
     ]
    }
   ],
   "source": [
    "Dict4=dict([(1,\"one\"),(2,\"two\"),(3,\"three\")])\n",
    "print(Dict4)"
   ]
  },
  {
   "cell_type": "code",
   "execution_count": 70,
   "id": "672c9090",
   "metadata": {},
   "outputs": [
    {
     "name": "stdout",
     "output_type": "stream",
     "text": [
      "{}\n"
     ]
    }
   ],
   "source": [
    "#clear()\n",
    "Dict6={\"one\":1,\"two\":2,\"three\":3}\n",
    "Dict6.clear()\n",
    "print(Dict6)"
   ]
  },
  {
   "cell_type": "code",
   "execution_count": 75,
   "id": "3948102a",
   "metadata": {},
   "outputs": [
    {
     "ename": "NameError",
     "evalue": "name 'Dict7' is not defined",
     "output_type": "error",
     "traceback": [
      "\u001b[1;31m---------------------------------------------------------------------------\u001b[0m",
      "\u001b[1;31mNameError\u001b[0m                                 Traceback (most recent call last)",
      "\u001b[1;32m~\\AppData\\Local\\Temp\\ipykernel_11532\\2876973212.py\u001b[0m in \u001b[0;36m<module>\u001b[1;34m\u001b[0m\n\u001b[0;32m      2\u001b[0m \u001b[0mDict7\u001b[0m\u001b[1;33m=\u001b[0m\u001b[1;33m{\u001b[0m\u001b[1;34m\"one\"\u001b[0m\u001b[1;33m:\u001b[0m\u001b[1;36m1\u001b[0m\u001b[1;33m,\u001b[0m\u001b[1;34m\"two\"\u001b[0m\u001b[1;33m:\u001b[0m\u001b[1;36m2\u001b[0m\u001b[1;33m,\u001b[0m\u001b[1;34m\"three\"\u001b[0m\u001b[1;33m:\u001b[0m\u001b[1;36m3\u001b[0m\u001b[1;33m}\u001b[0m\u001b[1;33m\u001b[0m\u001b[1;33m\u001b[0m\u001b[0m\n\u001b[0;32m      3\u001b[0m \u001b[1;32mdel\u001b[0m \u001b[0mDict7\u001b[0m\u001b[1;33m\u001b[0m\u001b[1;33m\u001b[0m\u001b[0m\n\u001b[1;32m----> 4\u001b[1;33m \u001b[0mprint\u001b[0m\u001b[1;33m(\u001b[0m\u001b[0mDict7\u001b[0m\u001b[1;33m)\u001b[0m\u001b[1;33m\u001b[0m\u001b[1;33m\u001b[0m\u001b[0m\n\u001b[0m",
      "\u001b[1;31mNameError\u001b[0m: name 'Dict7' is not defined"
     ]
    }
   ],
   "source": [
    "# Delete\n",
    "Dict7={\"one\":1,\"two\":2,\"three\":3}\n",
    "del Dict7\n",
    "print(Dict7)"
   ]
  },
  {
   "cell_type": "code",
   "execution_count": 81,
   "id": "70e3c48a",
   "metadata": {},
   "outputs": [
    {
     "name": "stdout",
     "output_type": "stream",
     "text": [
      "{'two': 2, 'three': 3}\n"
     ]
    }
   ],
   "source": [
    "Dict8={\"one\":1,\"two\":2,\"three\":3}\n",
    "del Dict8[\"one\"]\n",
    "print(Dict8)"
   ]
  },
  {
   "cell_type": "code",
   "execution_count": 99,
   "id": "1d71f761",
   "metadata": {},
   "outputs": [
    {
     "ename": "SyntaxError",
     "evalue": "invalid syntax (2862515231.py, line 16)",
     "output_type": "error",
     "traceback": [
      "\u001b[1;36m  File \u001b[1;32m\"C:\\Users\\swapn\\AppData\\Local\\Temp\\ipykernel_11532\\2862515231.py\"\u001b[1;36m, line \u001b[1;32m16\u001b[0m\n\u001b[1;33m    Dict10.update(9:Nine)\u001b[0m\n\u001b[1;37m                   ^\u001b[0m\n\u001b[1;31mSyntaxError\u001b[0m\u001b[1;31m:\u001b[0m invalid syntax\n"
     ]
    }
   ],
   "source": [
    "# copy\n",
    "Dict10={\"one\":1,\"two\":2,\"three\":3}\n",
    "\n",
    "Dict11=Dict10.copy()\n",
    "print(Dict11)\n",
    "\n",
    "Dict10[\"Five\"]=5\n",
    "print(Dict10)\n",
    "\n",
    "Dict10.update([(\"six\",6),(\"seven\",7)])\n",
    "print(Dict10)\n",
    "\n",
    "Dict10.update({8:\"Eight\"})\n",
    "print(Dict10)\n",
    "\n"
   ]
  },
  {
   "cell_type": "code",
   "execution_count": 3,
   "id": "1fd4f10b",
   "metadata": {},
   "outputs": [
    {
     "name": "stdout",
     "output_type": "stream",
     "text": [
      "{'mumbai': 'city', 'nagpur': 'city', 'Delhi': 'city'}\n"
     ]
    },
    {
     "data": {
      "text/plain": [
       "{'mumbai': 'city', 'nagpur': 'city', 'Delhi': 'city'}"
      ]
     },
     "execution_count": 3,
     "metadata": {},
     "output_type": "execute_result"
    }
   ],
   "source": [
    "#fromkeys\n",
    "key=[\"mumbai\",\"nagpur\",\"Delhi\"]\n",
    "value=\"city\"\n",
    "Dict12={}\n",
    "Dict12=dict.fromkeys(key,value)\n",
    "print(Dict12)\n",
    "Dict12\n",
    "\n",
    "\n"
   ]
  },
  {
   "cell_type": "code",
   "execution_count": 28,
   "id": "11535357",
   "metadata": {},
   "outputs": [
    {
     "data": {
      "text/plain": [
       "{'mumbai': 'city', 'nagpur': 'city', 'Delhi': 'city'}"
      ]
     },
     "execution_count": 28,
     "metadata": {},
     "output_type": "execute_result"
    }
   ],
   "source": [
    "key=[\"mumbai\",\"nagpur\",\"Delhi\"]\n",
    "value=\"city\"\n",
    "cityname={}\n",
    "\n",
    "cityname.fromkeys(key,value)\n",
    "\n"
   ]
  },
  {
   "cell_type": "code",
   "execution_count": 39,
   "id": "823b7266",
   "metadata": {},
   "outputs": [
    {
     "name": "stdout",
     "output_type": "stream",
     "text": [
      "MH\n",
      "None\n",
      "{'nagpur': 'MH', 'bhopal': 'MP', 'hydrabad': 'TN', 'raipur': None}\n",
      "None\n"
     ]
    }
   ],
   "source": [
    "Dict={\"nagpur\":\"MH\",\"bhopal\":\"MP\",\"hydrabad\":\"TN\"}\n",
    "\n",
    "x=Dict.setdefault(\"nagpur\",\"MH\")\n",
    "print(x)\n",
    "\n",
    "y=Dict.setdefault(\"raipur\")\n",
    "print(y)\n",
    "\n",
    "z=Dict.setdefault(\"raipur\",\"CG\")\n",
    "\n",
    "\n",
    "print(Dict)\n",
    "print(z)"
   ]
  },
  {
   "cell_type": "code",
   "execution_count": 41,
   "id": "b7677365",
   "metadata": {},
   "outputs": [
    {
     "name": "stdout",
     "output_type": "stream",
     "text": [
      "MH\n",
      "{'nagpur': 'MH', 'bhopal': 'MP', 'hydrabad': 'TN', 'raipur': 'CG'}\n",
      "CG\n"
     ]
    }
   ],
   "source": [
    "Dict={\"nagpur\":\"MH\",\"bhopal\":\"MP\",\"hydrabad\":\"TN\"}\n",
    "\n",
    "x=Dict.setdefault(\"nagpur\",\"MH\")\n",
    "print(x)\n",
    "\n",
    "\n",
    "\n",
    "z=Dict.setdefault(\"raipur\",\"CG\")\n",
    "\n",
    "print(Dict)\n",
    "print(z)"
   ]
  },
  {
   "cell_type": "code",
   "execution_count": 53,
   "id": "de0e57db",
   "metadata": {},
   "outputs": [
    {
     "name": "stdout",
     "output_type": "stream",
     "text": [
      "6\n",
      "{1: [1], 2: [4], 3: [9], 4: [16], 5: [25], 6: [36]}\n"
     ]
    }
   ],
   "source": [
    "num=int(input())\n",
    "sqr={}\n",
    "for i in range(1,num+1):\n",
    "    sqr[i]=[i*i]\n",
    "print(sqr)"
   ]
  },
  {
   "cell_type": "code",
   "execution_count": 52,
   "id": "494eee0d",
   "metadata": {},
   "outputs": [
    {
     "ename": "SyntaxError",
     "evalue": "cannot assign to function call (663843008.py, line 5)",
     "output_type": "error",
     "traceback": [
      "\u001b[1;36m  File \u001b[1;32m\"C:\\Users\\swapn\\AppData\\Local\\Temp\\ipykernel_10308\\663843008.py\"\u001b[1;36m, line \u001b[1;32m5\u001b[0m\n\u001b[1;33m    dict(i)=i*i\u001b[0m\n\u001b[1;37m    ^\u001b[0m\n\u001b[1;31mSyntaxError\u001b[0m\u001b[1;31m:\u001b[0m cannot assign to function call\n"
     ]
    }
   ],
   "source": [
    "# constructor is not working in the loop \n",
    "num=int(input())\n",
    "sqr={}\n",
    "for i in range(1,num+1):\n",
    "    sqr=dict(i,i*i)\n",
    "    dict(i)=i*i\n",
    "print(sqr)"
   ]
  },
  {
   "cell_type": "code",
   "execution_count": 55,
   "id": "409d7254",
   "metadata": {},
   "outputs": [
    {
     "name": "stdout",
     "output_type": "stream",
     "text": [
      "6\n",
      "{1: 1, 2: 4, 3: 9, 4: 16, 5: 25, 6: 36}\n"
     ]
    }
   ],
   "source": [
    "num=int(input())\n",
    "sqr={}\n",
    "for i in range(1,num+1):\n",
    "    sqr[i]=i*i\n",
    "print(sqr)"
   ]
  },
  {
   "cell_type": "code",
   "execution_count": 18,
   "id": "c3150f4a",
   "metadata": {},
   "outputs": [
    {
     "name": "stdout",
     "output_type": "stream",
     "text": [
      "nagpur\n",
      "bhopal\n",
      "hydrabad\n",
      "MH\n",
      "MP\n",
      "TN\n",
      "('nagpur', 'MH')\n",
      "('bhopal', 'MP')\n",
      "('hydrabad', 'TN')\n"
     ]
    }
   ],
   "source": [
    "Dict1={\"nagpur\":\"MH\",\"bhopal\":\"MP\",\"hydrabad\":\"TN\"}\n",
    "for i in Dict1.keys():\n",
    "    print(i)\n",
    "    \n",
    "for i in Dict1.values():\n",
    "    print(i)\n",
    "\n",
    "for i in Dict1.items():\n",
    "    print(i)\n",
    "    \n"
   ]
  },
  {
   "cell_type": "code",
   "execution_count": 31,
   "id": "950d5e0e",
   "metadata": {},
   "outputs": [
    {
     "name": "stdout",
     "output_type": "stream",
     "text": [
      "20\n"
     ]
    }
   ],
   "source": [
    "Dict1={\"nagpur\": 10,\"bhopal\":20, \"hydrabad\":30}\n",
    "for i in Dict1 :\n",
    "    if i== \"bhopal\":\n",
    "        print(Dict1.get(i))\n",
    "        \n",
    "    \n",
    "    \n",
    "  #  if Dict1[i]==\"bhopal\":\n",
    "   #     i=i+1\n",
    "    #    print(i)"
   ]
  },
  {
   "cell_type": "code",
   "execution_count": 10,
   "id": "323aa059",
   "metadata": {},
   "outputs": [
    {
     "name": "stdout",
     "output_type": "stream",
     "text": [
      "{'nagpur': 'MH', 'bhopal': 'MP', 'hydrabad': 'TN', 'durg': 40, 'pune': 50}\n"
     ]
    }
   ],
   "source": [
    "Dict1={\"nagpur\":\"MH\",\"bhopal\":\"MP\",\"hydrabad\":\"TN\"}\n",
    "Dict2={\"durg\":40,\"pune\":50}\n",
    "Dict1.update(Dict2)\n",
    "print(Dict1)"
   ]
  }
 ],
 "metadata": {
  "kernelspec": {
   "display_name": "Python 3 (ipykernel)",
   "language": "python",
   "name": "python3"
  },
  "language_info": {
   "codemirror_mode": {
    "name": "ipython",
    "version": 3
   },
   "file_extension": ".py",
   "mimetype": "text/x-python",
   "name": "python",
   "nbconvert_exporter": "python",
   "pygments_lexer": "ipython3",
   "version": "3.9.13"
  }
 },
 "nbformat": 4,
 "nbformat_minor": 5
}
