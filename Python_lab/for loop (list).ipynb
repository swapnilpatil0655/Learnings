{
 "cells": [
  {
   "cell_type": "code",
   "execution_count": null,
   "id": "00a1334e",
   "metadata": {},
   "outputs": [],
   "source": [
    "List=[10,24,30,41,50,63,70]\n",
    "Add=0\n",
    "for i in List:\n",
    "    Add=Add+i\n",
    "    print(Add)\n"
   ]
  },
  {
   "cell_type": "code",
   "execution_count": null,
   "id": "f5ded168",
   "metadata": {},
   "outputs": [],
   "source": [
    "for i in range(0,len(List)):\n",
    "    if (List[i]%2==0):\n",
    "        print(List[i])"
   ]
  },
  {
   "cell_type": "code",
   "execution_count": null,
   "id": "40653fa4",
   "metadata": {},
   "outputs": [],
   "source": [
    "for i in range (0,len(List)):\n",
    "    print(i)"
   ]
  },
  {
   "cell_type": "code",
   "execution_count": null,
   "id": "0245812e",
   "metadata": {},
   "outputs": [],
   "source": [
    "for i in range(0,len(List)):\n",
    "    if (List[i]%2==0):\n",
    "        print(i)"
   ]
  },
  {
   "cell_type": "code",
   "execution_count": null,
   "id": "d2f4fcd4",
   "metadata": {},
   "outputs": [],
   "source": [
    "List=[10,24,30,41,50,63,70]\n",
    "count=0\n",
    "add=0\n",
    "for i in range (0,len(List)):\n",
    "    add=add+i\n",
    "    count=count+1\n",
    "Average=add/count\n",
    "print(Average)\n",
    "print(add)\n",
    "print(count)"
   ]
  },
  {
   "cell_type": "code",
   "execution_count": null,
   "id": "dc3ed35f",
   "metadata": {},
   "outputs": [],
   "source": []
  },
  {
   "cell_type": "code",
   "execution_count": 1,
   "id": "123c5dc7",
   "metadata": {},
   "outputs": [
    {
     "name": "stdout",
     "output_type": "stream",
     "text": [
      "41.142857142857146\n"
     ]
    }
   ],
   "source": [
    "List=[10,24,30,41,50,63,70]\n",
    "count=0\n",
    "add=0\n",
    "for i in range(0,len(List)):\n",
    "    add=add+List[i]\n",
    "    count=count+1\n",
    "avg=add/count\n",
    "print(avg)\n",
    "    \n",
    "    "
   ]
  },
  {
   "cell_type": "code",
   "execution_count": null,
   "id": "ecb2b46c",
   "metadata": {},
   "outputs": [],
   "source": []
  }
 ],
 "metadata": {
  "kernelspec": {
   "display_name": "Python 3 (ipykernel)",
   "language": "python",
   "name": "python3"
  },
  "language_info": {
   "codemirror_mode": {
    "name": "ipython",
    "version": 3
   },
   "file_extension": ".py",
   "mimetype": "text/x-python",
   "name": "python",
   "nbconvert_exporter": "python",
   "pygments_lexer": "ipython3",
   "version": "3.9.13"
  }
 },
 "nbformat": 4,
 "nbformat_minor": 5
}
