{
 "cells": [
  {
   "cell_type": "code",
   "execution_count": 5,
   "id": "f0f33ced",
   "metadata": {},
   "outputs": [
    {
     "name": "stdout",
     "output_type": "stream",
     "text": [
      "22\n"
     ]
    }
   ],
   "source": [
    "x=lambda a,b : a+b\n",
    "x(10,12)\n",
    "print(x(10,12))"
   ]
  },
  {
   "cell_type": "code",
   "execution_count": 8,
   "id": "06ad39d5",
   "metadata": {},
   "outputs": [
    {
     "name": "stdout",
     "output_type": "stream",
     "text": [
      "144\n"
     ]
    }
   ],
   "source": [
    "y= lambda a : a*a\n",
    "y(12)\n",
    "print(y(12))"
   ]
  },
  {
   "cell_type": "code",
   "execution_count": 15,
   "id": "5ed4fc22",
   "metadata": {},
   "outputs": [
    {
     "name": "stdout",
     "output_type": "stream",
     "text": [
      "12\n"
     ]
    }
   ],
   "source": [
    "greater = lambda a,b: a if a>b else b\n",
    "greater (10,12)\n",
    "print(greater(10,12))\n",
    "\n",
    "\n"
   ]
  },
  {
   "cell_type": "code",
   "execution_count": 18,
   "id": "4de2ddce",
   "metadata": {},
   "outputs": [
    {
     "name": "stdout",
     "output_type": "stream",
     "text": [
      "100\n",
      "4\n",
      "16\n",
      "36\n",
      "64\n",
      "121\n",
      "225\n",
      "361\n",
      "81\n",
      "100\n"
     ]
    }
   ],
   "source": [
    "sequ=[10,2,4,6,8,11,15,19,9,10]\n",
    "for i in sequ:\n",
    "    x=i*i\n",
    "    print(x)"
   ]
  },
  {
   "cell_type": "code",
   "execution_count": 23,
   "id": "674077f0",
   "metadata": {},
   "outputs": [
    {
     "name": "stdout",
     "output_type": "stream",
     "text": [
      "[100, 4, 16, 36, 64, 121, 225, 361, 81, 100]\n"
     ]
    }
   ],
   "source": [
    "sequ=[10,2,4,6,8,11,15,19,9,10]\n",
    "new =[]\n",
    "for i in sequ:\n",
    "    x=i*i\n",
    "    new.append(x)\n",
    "print(new)"
   ]
  },
  {
   "cell_type": "code",
   "execution_count": 24,
   "id": "936628ab",
   "metadata": {},
   "outputs": [],
   "source": [
    "#MAP"
   ]
  },
  {
   "cell_type": "code",
   "execution_count": 26,
   "id": "ed30ece5",
   "metadata": {},
   "outputs": [
    {
     "name": "stdout",
     "output_type": "stream",
     "text": [
      "[100, 4, 16, 36, 64, 121, 225, 361, 81, 100]\n"
     ]
    }
   ],
   "source": [
    "sequ=[10,2,4,6,8,11,15,19,9,10]\n",
    "new_sequ=map(lambda a:a*a,sequ)\n",
    "print(list(new_sequ))"
   ]
  },
  {
   "cell_type": "code",
   "execution_count": 41,
   "id": "fd80bc92",
   "metadata": {},
   "outputs": [
    {
     "name": "stdout",
     "output_type": "stream",
     "text": [
      "[100, 4, 16, 36, 64, 121, 225, 361, 81, 100]\n"
     ]
    }
   ],
   "source": [
    "List=[10,2,4,6,8,11,15,19,9,10]\n",
    "def sqr (n):\n",
    "    return n*n\n",
    "    \n",
    "new_sqr=map(sqr,List )\n",
    "print(list(new_sqr))\n"
   ]
  }
 ],
 "metadata": {
  "kernelspec": {
   "display_name": "Python 3 (ipykernel)",
   "language": "python",
   "name": "python3"
  },
  "language_info": {
   "codemirror_mode": {
    "name": "ipython",
    "version": 3
   },
   "file_extension": ".py",
   "mimetype": "text/x-python",
   "name": "python",
   "nbconvert_exporter": "python",
   "pygments_lexer": "ipython3",
   "version": "3.9.13"
  }
 },
 "nbformat": 4,
 "nbformat_minor": 5
}
